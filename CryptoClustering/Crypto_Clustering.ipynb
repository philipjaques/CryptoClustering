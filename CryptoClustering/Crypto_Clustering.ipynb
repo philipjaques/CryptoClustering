{
 "cells": [
  {
   "cell_type": "code",
   "execution_count": null,
   "metadata": {},
   "outputs": [],
   "source": [
    "# Import required libraries and dependencies\n",
    "import pandas as pd\n",
    "import hvplot.pandas as hv\n",
    "import numpy as np\n",
    "from sklearn.cluster import KMeans\n",
    "from sklearn.decomposition import PCA\n",
    "from sklearn.preprocessing import StandardScaler"
   ]
  },
  {
   "cell_type": "code",
   "execution_count": null,
   "metadata": {},
   "outputs": [
    {
     "data": {
      "text/html": [
       "<div>\n",
       "<style scoped>\n",
       "    .dataframe tbody tr th:only-of-type {\n",
       "        vertical-align: middle;\n",
       "    }\n",
       "\n",
       "    .dataframe tbody tr th {\n",
       "        vertical-align: top;\n",
       "    }\n",
       "\n",
       "    .dataframe thead th {\n",
       "        text-align: right;\n",
       "    }\n",
       "</style>\n",
       "<table border=\"1\" class=\"dataframe\">\n",
       "  <thead>\n",
       "    <tr style=\"text-align: right;\">\n",
       "      <th></th>\n",
       "      <th>price_change_percentage_24h</th>\n",
       "      <th>price_change_percentage_7d</th>\n",
       "      <th>price_change_percentage_14d</th>\n",
       "      <th>price_change_percentage_30d</th>\n",
       "      <th>price_change_percentage_60d</th>\n",
       "      <th>price_change_percentage_200d</th>\n",
       "      <th>price_change_percentage_1y</th>\n",
       "    </tr>\n",
       "    <tr>\n",
       "      <th>coin_id</th>\n",
       "      <th></th>\n",
       "      <th></th>\n",
       "      <th></th>\n",
       "      <th></th>\n",
       "      <th></th>\n",
       "      <th></th>\n",
       "      <th></th>\n",
       "    </tr>\n",
       "  </thead>\n",
       "  <tbody>\n",
       "    <tr>\n",
       "      <th>bitcoin</th>\n",
       "      <td>1.08388</td>\n",
       "      <td>7.60278</td>\n",
       "      <td>6.57509</td>\n",
       "      <td>7.67258</td>\n",
       "      <td>-3.25185</td>\n",
       "      <td>83.51840</td>\n",
       "      <td>37.51761</td>\n",
       "    </tr>\n",
       "    <tr>\n",
       "      <th>ethereum</th>\n",
       "      <td>0.22392</td>\n",
       "      <td>10.38134</td>\n",
       "      <td>4.80849</td>\n",
       "      <td>0.13169</td>\n",
       "      <td>-12.88890</td>\n",
       "      <td>186.77418</td>\n",
       "      <td>101.96023</td>\n",
       "    </tr>\n",
       "    <tr>\n",
       "      <th>tether</th>\n",
       "      <td>-0.21173</td>\n",
       "      <td>0.04935</td>\n",
       "      <td>0.00640</td>\n",
       "      <td>-0.04237</td>\n",
       "      <td>0.28037</td>\n",
       "      <td>-0.00542</td>\n",
       "      <td>0.01954</td>\n",
       "    </tr>\n",
       "    <tr>\n",
       "      <th>ripple</th>\n",
       "      <td>-0.37819</td>\n",
       "      <td>-0.60926</td>\n",
       "      <td>2.24984</td>\n",
       "      <td>0.23455</td>\n",
       "      <td>-17.55245</td>\n",
       "      <td>39.53888</td>\n",
       "      <td>-16.60193</td>\n",
       "    </tr>\n",
       "    <tr>\n",
       "      <th>bitcoin-cash</th>\n",
       "      <td>2.90585</td>\n",
       "      <td>17.09717</td>\n",
       "      <td>14.75334</td>\n",
       "      <td>15.74903</td>\n",
       "      <td>-13.71793</td>\n",
       "      <td>21.66042</td>\n",
       "      <td>14.49384</td>\n",
       "    </tr>\n",
       "    <tr>\n",
       "      <th>binancecoin</th>\n",
       "      <td>2.10423</td>\n",
       "      <td>12.85511</td>\n",
       "      <td>6.80688</td>\n",
       "      <td>0.05865</td>\n",
       "      <td>36.33486</td>\n",
       "      <td>155.61937</td>\n",
       "      <td>69.69195</td>\n",
       "    </tr>\n",
       "    <tr>\n",
       "      <th>chainlink</th>\n",
       "      <td>-0.23935</td>\n",
       "      <td>20.69459</td>\n",
       "      <td>9.30098</td>\n",
       "      <td>-11.21747</td>\n",
       "      <td>-43.69522</td>\n",
       "      <td>403.22917</td>\n",
       "      <td>325.13186</td>\n",
       "    </tr>\n",
       "    <tr>\n",
       "      <th>cardano</th>\n",
       "      <td>0.00322</td>\n",
       "      <td>13.99302</td>\n",
       "      <td>5.55476</td>\n",
       "      <td>10.10553</td>\n",
       "      <td>-22.84776</td>\n",
       "      <td>264.51418</td>\n",
       "      <td>156.09756</td>\n",
       "    </tr>\n",
       "    <tr>\n",
       "      <th>litecoin</th>\n",
       "      <td>-0.06341</td>\n",
       "      <td>6.60221</td>\n",
       "      <td>7.28931</td>\n",
       "      <td>1.21662</td>\n",
       "      <td>-17.23960</td>\n",
       "      <td>27.49919</td>\n",
       "      <td>-12.66408</td>\n",
       "    </tr>\n",
       "    <tr>\n",
       "      <th>bitcoin-cash-sv</th>\n",
       "      <td>0.92530</td>\n",
       "      <td>3.29641</td>\n",
       "      <td>-1.86656</td>\n",
       "      <td>2.88926</td>\n",
       "      <td>-24.87434</td>\n",
       "      <td>7.42562</td>\n",
       "      <td>93.73082</td>\n",
       "    </tr>\n",
       "  </tbody>\n",
       "</table>\n",
       "</div>"
      ],
      "text/plain": [
       "                 price_change_percentage_24h  price_change_percentage_7d  \\\n",
       "coin_id                                                                    \n",
       "bitcoin                              1.08388                     7.60278   \n",
       "ethereum                             0.22392                    10.38134   \n",
       "tether                              -0.21173                     0.04935   \n",
       "ripple                              -0.37819                    -0.60926   \n",
       "bitcoin-cash                         2.90585                    17.09717   \n",
       "binancecoin                          2.10423                    12.85511   \n",
       "chainlink                           -0.23935                    20.69459   \n",
       "cardano                              0.00322                    13.99302   \n",
       "litecoin                            -0.06341                     6.60221   \n",
       "bitcoin-cash-sv                      0.92530                     3.29641   \n",
       "\n",
       "                 price_change_percentage_14d  price_change_percentage_30d  \\\n",
       "coin_id                                                                     \n",
       "bitcoin                              6.57509                      7.67258   \n",
       "ethereum                             4.80849                      0.13169   \n",
       "tether                               0.00640                     -0.04237   \n",
       "ripple                               2.24984                      0.23455   \n",
       "bitcoin-cash                        14.75334                     15.74903   \n",
       "binancecoin                          6.80688                      0.05865   \n",
       "chainlink                            9.30098                    -11.21747   \n",
       "cardano                              5.55476                     10.10553   \n",
       "litecoin                             7.28931                      1.21662   \n",
       "bitcoin-cash-sv                     -1.86656                      2.88926   \n",
       "\n",
       "                 price_change_percentage_60d  price_change_percentage_200d  \\\n",
       "coin_id                                                                      \n",
       "bitcoin                             -3.25185                      83.51840   \n",
       "ethereum                           -12.88890                     186.77418   \n",
       "tether                               0.28037                      -0.00542   \n",
       "ripple                             -17.55245                      39.53888   \n",
       "bitcoin-cash                       -13.71793                      21.66042   \n",
       "binancecoin                         36.33486                     155.61937   \n",
       "chainlink                          -43.69522                     403.22917   \n",
       "cardano                            -22.84776                     264.51418   \n",
       "litecoin                           -17.23960                      27.49919   \n",
       "bitcoin-cash-sv                    -24.87434                       7.42562   \n",
       "\n",
       "                 price_change_percentage_1y  \n",
       "coin_id                                      \n",
       "bitcoin                            37.51761  \n",
       "ethereum                          101.96023  \n",
       "tether                              0.01954  \n",
       "ripple                            -16.60193  \n",
       "bitcoin-cash                       14.49384  \n",
       "binancecoin                        69.69195  \n",
       "chainlink                         325.13186  \n",
       "cardano                           156.09756  \n",
       "litecoin                          -12.66408  \n",
       "bitcoin-cash-sv                    93.73082  "
      ]
     },
     "execution_count": 2,
     "metadata": {},
     "output_type": "execute_result"
    }
   ],
   "source": [
    "# Load the data into a Pandas DataFrame\n",
    "df_market_data = pd.read_csv(\n",
    "    \"Resources/crypto_market_data.csv\",\n",
    "    index_col=\"coin_id\")\n",
    "\n",
    "# Display sample data\n",
    "df_market_data.head(10)"
   ]
  },
  {
   "cell_type": "code",
   "execution_count": null,
   "metadata": {},
   "outputs": [
    {
     "data": {
      "text/html": [
       "<div>\n",
       "<style scoped>\n",
       "    .dataframe tbody tr th:only-of-type {\n",
       "        vertical-align: middle;\n",
       "    }\n",
       "\n",
       "    .dataframe tbody tr th {\n",
       "        vertical-align: top;\n",
       "    }\n",
       "\n",
       "    .dataframe thead th {\n",
       "        text-align: right;\n",
       "    }\n",
       "</style>\n",
       "<table border=\"1\" class=\"dataframe\">\n",
       "  <thead>\n",
       "    <tr style=\"text-align: right;\">\n",
       "      <th></th>\n",
       "      <th>price_change_percentage_24h</th>\n",
       "      <th>price_change_percentage_7d</th>\n",
       "      <th>price_change_percentage_14d</th>\n",
       "      <th>price_change_percentage_30d</th>\n",
       "      <th>price_change_percentage_60d</th>\n",
       "      <th>price_change_percentage_200d</th>\n",
       "      <th>price_change_percentage_1y</th>\n",
       "    </tr>\n",
       "  </thead>\n",
       "  <tbody>\n",
       "    <tr>\n",
       "      <th>count</th>\n",
       "      <td>41.000000</td>\n",
       "      <td>41.000000</td>\n",
       "      <td>41.000000</td>\n",
       "      <td>41.000000</td>\n",
       "      <td>41.000000</td>\n",
       "      <td>41.000000</td>\n",
       "      <td>41.000000</td>\n",
       "    </tr>\n",
       "    <tr>\n",
       "      <th>mean</th>\n",
       "      <td>-0.269686</td>\n",
       "      <td>4.497147</td>\n",
       "      <td>0.185787</td>\n",
       "      <td>1.545693</td>\n",
       "      <td>-0.094119</td>\n",
       "      <td>236.537432</td>\n",
       "      <td>347.667956</td>\n",
       "    </tr>\n",
       "    <tr>\n",
       "      <th>std</th>\n",
       "      <td>2.694793</td>\n",
       "      <td>6.375218</td>\n",
       "      <td>8.376939</td>\n",
       "      <td>26.344218</td>\n",
       "      <td>47.365803</td>\n",
       "      <td>435.225304</td>\n",
       "      <td>1247.842884</td>\n",
       "    </tr>\n",
       "    <tr>\n",
       "      <th>min</th>\n",
       "      <td>-13.527860</td>\n",
       "      <td>-6.094560</td>\n",
       "      <td>-18.158900</td>\n",
       "      <td>-34.705480</td>\n",
       "      <td>-44.822480</td>\n",
       "      <td>-0.392100</td>\n",
       "      <td>-17.567530</td>\n",
       "    </tr>\n",
       "    <tr>\n",
       "      <th>25%</th>\n",
       "      <td>-0.608970</td>\n",
       "      <td>0.047260</td>\n",
       "      <td>-5.026620</td>\n",
       "      <td>-10.438470</td>\n",
       "      <td>-25.907990</td>\n",
       "      <td>21.660420</td>\n",
       "      <td>0.406170</td>\n",
       "    </tr>\n",
       "    <tr>\n",
       "      <th>50%</th>\n",
       "      <td>-0.063410</td>\n",
       "      <td>3.296410</td>\n",
       "      <td>0.109740</td>\n",
       "      <td>-0.042370</td>\n",
       "      <td>-7.544550</td>\n",
       "      <td>83.905200</td>\n",
       "      <td>69.691950</td>\n",
       "    </tr>\n",
       "    <tr>\n",
       "      <th>75%</th>\n",
       "      <td>0.612090</td>\n",
       "      <td>7.602780</td>\n",
       "      <td>5.510740</td>\n",
       "      <td>4.578130</td>\n",
       "      <td>0.657260</td>\n",
       "      <td>216.177610</td>\n",
       "      <td>168.372510</td>\n",
       "    </tr>\n",
       "    <tr>\n",
       "      <th>max</th>\n",
       "      <td>4.840330</td>\n",
       "      <td>20.694590</td>\n",
       "      <td>24.239190</td>\n",
       "      <td>140.795700</td>\n",
       "      <td>223.064370</td>\n",
       "      <td>2227.927820</td>\n",
       "      <td>7852.089700</td>\n",
       "    </tr>\n",
       "  </tbody>\n",
       "</table>\n",
       "</div>"
      ],
      "text/plain": [
       "       price_change_percentage_24h  price_change_percentage_7d  \\\n",
       "count                    41.000000                   41.000000   \n",
       "mean                     -0.269686                    4.497147   \n",
       "std                       2.694793                    6.375218   \n",
       "min                     -13.527860                   -6.094560   \n",
       "25%                      -0.608970                    0.047260   \n",
       "50%                      -0.063410                    3.296410   \n",
       "75%                       0.612090                    7.602780   \n",
       "max                       4.840330                   20.694590   \n",
       "\n",
       "       price_change_percentage_14d  price_change_percentage_30d  \\\n",
       "count                    41.000000                    41.000000   \n",
       "mean                      0.185787                     1.545693   \n",
       "std                       8.376939                    26.344218   \n",
       "min                     -18.158900                   -34.705480   \n",
       "25%                      -5.026620                   -10.438470   \n",
       "50%                       0.109740                    -0.042370   \n",
       "75%                       5.510740                     4.578130   \n",
       "max                      24.239190                   140.795700   \n",
       "\n",
       "       price_change_percentage_60d  price_change_percentage_200d  \\\n",
       "count                    41.000000                     41.000000   \n",
       "mean                     -0.094119                    236.537432   \n",
       "std                      47.365803                    435.225304   \n",
       "min                     -44.822480                     -0.392100   \n",
       "25%                     -25.907990                     21.660420   \n",
       "50%                      -7.544550                     83.905200   \n",
       "75%                       0.657260                    216.177610   \n",
       "max                     223.064370                   2227.927820   \n",
       "\n",
       "       price_change_percentage_1y  \n",
       "count                   41.000000  \n",
       "mean                   347.667956  \n",
       "std                   1247.842884  \n",
       "min                    -17.567530  \n",
       "25%                      0.406170  \n",
       "50%                     69.691950  \n",
       "75%                    168.372510  \n",
       "max                   7852.089700  "
      ]
     },
     "execution_count": 3,
     "metadata": {},
     "output_type": "execute_result"
    }
   ],
   "source": [
    "# Generate summary statistics\n",
    "df_market_data.describe()"
   ]
  },
  {
   "cell_type": "code",
   "execution_count": null,
   "metadata": {},
   "outputs": [
    {
     "data": {},
     "metadata": {},
     "output_type": "display_data"
    },
    {
     "data": {
      "application/vnd.holoviews_exec.v0+json": "",
      "text/html": [
       "<div id='1002'>\n",
       "  <div class=\"bk-root\" id=\"7b33ae6a-ccea-4352-9517-d6dc66572e1d\" data-root-id=\"1002\"></div>\n",
       "</div>\n",
       "<script type=\"application/javascript\">(function(root) {\n",
       "  function embed_document(root) {\n",
       "    var docs_json = {\"3c4b2d84-e7c4-4b2e-b2c6-786797b969b7\":{\"defs\":[{\"extends\":null,\"module\":null,\"name\":\"ReactiveHTML1\",\"overrides\":[],\"properties\":[]},{\"extends\":null,\"module\":null,\"name\":\"FlexBox1\",\"overrides\":[],\"properties\":[{\"default\":\"flex-start\",\"kind\":null,\"name\":\"align_content\"},{\"default\":\"flex-start\",\"kind\":null,\"name\":\"align_items\"},{\"default\":\"row\",\"kind\":null,\"name\":\"flex_direction\"},{\"default\":\"wrap\",\"kind\":null,\"name\":\"flex_wrap\"},{\"default\":\"flex-start\",\"kind\":null,\"name\":\"justify_content\"}]},{\"extends\":null,\"module\":null,\"name\":\"GridStack1\",\"overrides\":[],\"properties\":[{\"default\":\"warn\",\"kind\":null,\"name\":\"mode\"},{\"default\":null,\"kind\":null,\"name\":\"ncols\"},{\"default\":null,\"kind\":null,\"name\":\"nrows\"},{\"default\":true,\"kind\":null,\"name\":\"allow_resize\"},{\"default\":true,\"kind\":null,\"name\":\"allow_drag\"},{\"default\":[],\"kind\":null,\"name\":\"state\"}]},{\"extends\":null,\"module\":null,\"name\":\"click1\",\"overrides\":[],\"properties\":[{\"default\":\"\",\"kind\":null,\"name\":\"terminal_output\"},{\"default\":\"\",\"kind\":null,\"name\":\"debug_name\"},{\"default\":0,\"kind\":null,\"name\":\"clears\"}]},{\"extends\":null,\"module\":null,\"name\":\"NotificationAreaBase1\",\"overrides\":[],\"properties\":[{\"default\":\"bottom-right\",\"kind\":null,\"name\":\"position\"},{\"default\":0,\"kind\":null,\"name\":\"_clear\"}]},{\"extends\":null,\"module\":null,\"name\":\"NotificationArea1\",\"overrides\":[],\"properties\":[{\"default\":[],\"kind\":null,\"name\":\"notifications\"},{\"default\":\"bottom-right\",\"kind\":null,\"name\":\"position\"},{\"default\":0,\"kind\":null,\"name\":\"_clear\"},{\"default\":[{\"background\":\"#ffc107\",\"icon\":{\"className\":\"fas fa-exclamation-triangle\",\"color\":\"white\",\"tagName\":\"i\"},\"type\":\"warning\"},{\"background\":\"#007bff\",\"icon\":{\"className\":\"fas fa-info-circle\",\"color\":\"white\",\"tagName\":\"i\"},\"type\":\"info\"}],\"kind\":null,\"name\":\"types\"}]},{\"extends\":null,\"module\":null,\"name\":\"Notification\",\"overrides\":[],\"properties\":[{\"default\":null,\"kind\":null,\"name\":\"background\"},{\"default\":3000,\"kind\":null,\"name\":\"duration\"},{\"default\":null,\"kind\":null,\"name\":\"icon\"},{\"default\":\"\",\"kind\":null,\"name\":\"message\"},{\"default\":null,\"kind\":null,\"name\":\"notification_type\"},{\"default\":false,\"kind\":null,\"name\":\"_destroyed\"}]},{\"extends\":null,\"module\":null,\"name\":\"TemplateActions1\",\"overrides\":[],\"properties\":[{\"default\":0,\"kind\":null,\"name\":\"open_modal\"},{\"default\":0,\"kind\":null,\"name\":\"close_modal\"}]},{\"extends\":null,\"module\":null,\"name\":\"MaterialTemplateActions1\",\"overrides\":[],\"properties\":[{\"default\":0,\"kind\":null,\"name\":\"open_modal\"},{\"default\":0,\"kind\":null,\"name\":\"close_modal\"}]}],\"roots\":{\"references\":[{\"attributes\":{\"label\":{\"value\":\"price_change_percentage_24h\"},\"renderers\":[{\"id\":\"1054\"}]},\"id\":\"1067\",\"type\":\"LegendItem\"},{\"attributes\":{\"data\":{\"Variable\":[\"price_change_percentage_7d\",\"price_change_percentage_7d\",\"price_change_percentage_7d\",\"price_change_percentage_7d\",\"price_change_percentage_7d\",\"price_change_percentage_7d\",\"price_change_percentage_7d\",\"price_change_percentage_7d\",\"price_change_percentage_7d\",\"price_change_percentage_7d\",\"price_change_percentage_7d\",\"price_change_percentage_7d\",\"price_change_percentage_7d\",\"price_change_percentage_7d\",\"price_change_percentage_7d\",\"price_change_percentage_7d\",\"price_change_percentage_7d\",\"price_change_percentage_7d\",\"price_change_percentage_7d\",\"price_change_percentage_7d\",\"price_change_percentage_7d\",\"price_change_percentage_7d\",\"price_change_percentage_7d\",\"price_change_percentage_7d\",\"price_change_percentage_7d\",\"price_change_percentage_7d\",\"price_change_percentage_7d\",\"price_change_percentage_7d\",\"price_change_percentage_7d\",\"price_change_percentage_7d\",\"price_change_percentage_7d\",\"price_change_percentage_7d\",\"price_change_percentage_7d\",\"price_change_percentage_7d\",\"price_change_percentage_7d\",\"price_change_percentage_7d\",\"price_change_percentage_7d\",\"price_change_percentage_7d\",\"price_change_percentage_7d\",\"price_change_percentage_7d\",\"price_change_percentage_7d\"],\"coin_id\":[\"bitcoin\",\"ethereum\",\"tether\",\"ripple\",\"bitcoin-cash\",\"binancecoin\",\"chainlink\",\"cardano\",\"litecoin\",\"bitcoin-cash-sv\",\"crypto-com-chain\",\"usd-coin\",\"eos\",\"monero\",\"tron\",\"tezos\",\"okb\",\"stellar\",\"cosmos\",\"cdai\",\"neo\",\"wrapped-bitcoin\",\"leo-token\",\"huobi-token\",\"nem\",\"binance-usd\",\"iota\",\"vechain\",\"zcash\",\"theta-token\",\"dash\",\"ethereum-classic\",\"ethlend\",\"maker\",\"havven\",\"omisego\",\"celsius-degree-token\",\"ontology\",\"ftx-token\",\"true-usd\",\"digibyte\"],\"value\":{\"__ndarray__\":\"RbsKKT9pHkAzUBn/PsMkQL99HThnRKk/yVnY0w5/47//JhQi4BgxQBL3WPrQtSlA7iB2ptCxNEBAjBAebfwrQPFL/bypaBpArKjBNAxfCkByv0NRoK8WwPlJtU/HY76/lPsdigL99L+n6Egu/5EvQE1KQbeX9BBA0m9fB87pIUBlU67wLjcSwKftX1lpkgBAZwqd19gVMEBcIEHxY8ytP3wnZr0YigNAOh4zUBmfHUD3Hi457pT1vzNQGf8+4/k/kQ96Nqs+6781Y9F0djKoP2dEaW/wRRhAgXhdv2A3/L/8GHPXErIkQP4JLlbUYBjAVU0QdR9gFEDRlnMprmoIQGCrBIvD2RBAAiuHFtlOIECbG9MTllgRQKhXyjLEURtAqn06HjNQ4z+UvDrHgGzzvwltOZfiahxAsD2zJEBNxT8yj/zBwHPlPw==\",\"dtype\":\"float64\",\"order\":\"little\",\"shape\":[41]}},\"selected\":{\"id\":\"1070\"},\"selection_policy\":{\"id\":\"1086\"}},\"id\":\"1069\",\"type\":\"ColumnDataSource\"},{\"attributes\":{\"line_alpha\":0.2,\"line_color\":\"#8b8b8b\",\"line_width\":2,\"x\":{\"field\":\"coin_id\"},\"y\":{\"field\":\"value\"}},\"id\":\"1146\",\"type\":\"Line\"},{\"attributes\":{\"source\":{\"id\":\"1069\"}},\"id\":\"1076\",\"type\":\"CDSView\"},{\"attributes\":{},\"id\":\"1086\",\"type\":\"UnionRenderers\"},{\"attributes\":{\"label\":{\"value\":\"price_change_percentage_7d\"},\"renderers\":[{\"id\":\"1075\"}]},\"id\":\"1089\",\"type\":\"LegendItem\"},{\"attributes\":{},\"id\":\"1018\",\"type\":\"CategoricalScale\"},{\"attributes\":{\"margin\":[5,5,5,5],\"name\":\"HSpacer01052\",\"sizing_mode\":\"stretch_width\"},\"id\":\"1253\",\"type\":\"Spacer\"},{\"attributes\":{\"line_alpha\":0.1,\"line_color\":\"#e5ae38\",\"line_width\":2,\"x\":{\"field\":\"coin_id\"},\"y\":{\"field\":\"value\"}},\"id\":\"1095\",\"type\":\"Line\"},{\"attributes\":{\"line_alpha\":0.1,\"line_color\":\"#fc4f30\",\"line_width\":2,\"x\":{\"field\":\"coin_id\"},\"y\":{\"field\":\"value\"}},\"id\":\"1073\",\"type\":\"Line\"},{\"attributes\":{\"coordinates\":null,\"data_source\":{\"id\":\"1141\"},\"glyph\":{\"id\":\"1144\"},\"group\":null,\"hover_glyph\":null,\"muted_glyph\":{\"id\":\"1146\"},\"nonselection_glyph\":{\"id\":\"1145\"},\"selection_glyph\":{\"id\":\"1168\"},\"view\":{\"id\":\"1148\"}},\"id\":\"1147\",\"type\":\"GlyphRenderer\"},{\"attributes\":{\"line_color\":\"#fc4f30\",\"line_width\":2,\"x\":{\"field\":\"coin_id\"},\"y\":{\"field\":\"value\"}},\"id\":\"1090\",\"type\":\"Line\"},{\"attributes\":{},\"id\":\"1023\",\"type\":\"CategoricalTicker\"},{\"attributes\":{\"source\":{\"id\":\"1141\"}},\"id\":\"1148\",\"type\":\"CDSView\"},{\"attributes\":{\"coordinates\":null,\"data_source\":{\"id\":\"1048\"},\"glyph\":{\"id\":\"1051\"},\"group\":null,\"hover_glyph\":null,\"muted_glyph\":{\"id\":\"1053\"},\"nonselection_glyph\":{\"id\":\"1052\"},\"selection_glyph\":{\"id\":\"1068\"},\"view\":{\"id\":\"1055\"}},\"id\":\"1054\",\"type\":\"GlyphRenderer\"},{\"attributes\":{\"line_color\":\"#e5ae38\",\"line_width\":2,\"x\":{\"field\":\"coin_id\"},\"y\":{\"field\":\"value\"}},\"id\":\"1094\",\"type\":\"Line\"},{\"attributes\":{\"coordinates\":null,\"group\":null,\"text_color\":\"black\",\"text_font_size\":\"12pt\"},\"id\":\"1014\",\"type\":\"Title\"},{\"attributes\":{\"callback\":null,\"renderers\":[{\"id\":\"1054\"},{\"id\":\"1075\"},{\"id\":\"1097\"},{\"id\":\"1121\"},{\"id\":\"1147\"},{\"id\":\"1175\"},{\"id\":\"1205\"}],\"tags\":[\"hv_created\"],\"tooltips\":[[\"Variable\",\"@{Variable}\"],[\"coin_id\",\"@{coin_id}\"],[\"value\",\"@{value}\"]]},\"id\":\"1006\",\"type\":\"HoverTool\"},{\"attributes\":{},\"id\":\"1164\",\"type\":\"UnionRenderers\"},{\"attributes\":{\"label\":{\"value\":\"price_change_percentage_60d\"},\"renderers\":[{\"id\":\"1147\"}]},\"id\":\"1167\",\"type\":\"LegendItem\"},{\"attributes\":{\"axis\":{\"id\":\"1025\"},\"coordinates\":null,\"dimension\":1,\"grid_line_color\":null,\"group\":null,\"ticker\":null},\"id\":\"1028\",\"type\":\"Grid\"},{\"attributes\":{\"line_color\":\"#17becf\",\"line_width\":2,\"x\":{\"field\":\"coin_id\"},\"y\":{\"field\":\"value\"}},\"id\":\"1198\",\"type\":\"Line\"},{\"attributes\":{},\"id\":\"1063\",\"type\":\"UnionRenderers\"},{\"attributes\":{\"axis\":{\"id\":\"1022\"},\"coordinates\":null,\"grid_line_color\":null,\"group\":null,\"ticker\":null},\"id\":\"1024\",\"type\":\"Grid\"},{\"attributes\":{\"line_color\":\"#17becf\",\"line_width\":2,\"x\":{\"field\":\"coin_id\"},\"y\":{\"field\":\"value\"}},\"id\":\"1172\",\"type\":\"Line\"},{\"attributes\":{\"line_alpha\":0.1,\"line_color\":\"#9467bd\",\"line_width\":2,\"x\":{\"field\":\"coin_id\"},\"y\":{\"field\":\"value\"}},\"id\":\"1203\",\"type\":\"Line\"},{\"attributes\":{\"line_alpha\":0.1,\"line_color\":\"#17becf\",\"line_width\":2,\"x\":{\"field\":\"coin_id\"},\"y\":{\"field\":\"value\"}},\"id\":\"1173\",\"type\":\"Line\"},{\"attributes\":{\"line_color\":\"#8b8b8b\",\"line_width\":2,\"x\":{\"field\":\"coin_id\"},\"y\":{\"field\":\"value\"}},\"id\":\"1168\",\"type\":\"Line\"},{\"attributes\":{},\"id\":\"1092\",\"type\":\"Selection\"},{\"attributes\":{},\"id\":\"1026\",\"type\":\"BasicTicker\"},{\"attributes\":{\"axis_label\":\"\",\"coordinates\":null,\"formatter\":{\"id\":\"1046\"},\"group\":null,\"major_label_policy\":{\"id\":\"1047\"},\"ticker\":{\"id\":\"1026\"}},\"id\":\"1025\",\"type\":\"LinearAxis\"},{\"attributes\":{},\"id\":\"1070\",\"type\":\"Selection\"},{\"attributes\":{},\"id\":\"1020\",\"type\":\"LinearScale\"},{\"attributes\":{},\"id\":\"1047\",\"type\":\"AllLabels\"},{\"attributes\":{\"line_alpha\":0.1,\"line_color\":\"#30a2da\",\"line_width\":2,\"x\":{\"field\":\"coin_id\"},\"y\":{\"field\":\"value\"}},\"id\":\"1052\",\"type\":\"Line\"},{\"attributes\":{\"line_alpha\":0.2,\"line_color\":\"#e5ae38\",\"line_width\":2,\"x\":{\"field\":\"coin_id\"},\"y\":{\"field\":\"value\"}},\"id\":\"1096\",\"type\":\"Line\"},{\"attributes\":{\"coordinates\":null,\"data_source\":{\"id\":\"1091\"},\"glyph\":{\"id\":\"1094\"},\"group\":null,\"hover_glyph\":null,\"muted_glyph\":{\"id\":\"1096\"},\"nonselection_glyph\":{\"id\":\"1095\"},\"selection_glyph\":{\"id\":\"1114\"},\"view\":{\"id\":\"1098\"}},\"id\":\"1097\",\"type\":\"GlyphRenderer\"},{\"attributes\":{},\"id\":\"1110\",\"type\":\"UnionRenderers\"},{\"attributes\":{\"source\":{\"id\":\"1091\"}},\"id\":\"1098\",\"type\":\"CDSView\"},{\"attributes\":{},\"id\":\"1170\",\"type\":\"Selection\"},{\"attributes\":{\"line_alpha\":0.1,\"line_color\":\"#6d904f\",\"line_width\":2,\"x\":{\"field\":\"coin_id\"},\"y\":{\"field\":\"value\"}},\"id\":\"1119\",\"type\":\"Line\"},{\"attributes\":{\"line_color\":\"#e5ae38\",\"line_width\":2,\"x\":{\"field\":\"coin_id\"},\"y\":{\"field\":\"value\"}},\"id\":\"1114\",\"type\":\"Line\"},{\"attributes\":{},\"id\":\"1029\",\"type\":\"SaveTool\"},{\"attributes\":{},\"id\":\"1043\",\"type\":\"CategoricalTickFormatter\"},{\"attributes\":{\"line_alpha\":0.2,\"line_color\":\"#17becf\",\"line_width\":2,\"x\":{\"field\":\"coin_id\"},\"y\":{\"field\":\"value\"}},\"id\":\"1174\",\"type\":\"Line\"},{\"attributes\":{\"data\":{\"Variable\":[\"price_change_percentage_60d\",\"price_change_percentage_60d\",\"price_change_percentage_60d\",\"price_change_percentage_60d\",\"price_change_percentage_60d\",\"price_change_percentage_60d\",\"price_change_percentage_60d\",\"price_change_percentage_60d\",\"price_change_percentage_60d\",\"price_change_percentage_60d\",\"price_change_percentage_60d\",\"price_change_percentage_60d\",\"price_change_percentage_60d\",\"price_change_percentage_60d\",\"price_change_percentage_60d\",\"price_change_percentage_60d\",\"price_change_percentage_60d\",\"price_change_percentage_60d\",\"price_change_percentage_60d\",\"price_change_percentage_60d\",\"price_change_percentage_60d\",\"price_change_percentage_60d\",\"price_change_percentage_60d\",\"price_change_percentage_60d\",\"price_change_percentage_60d\",\"price_change_percentage_60d\",\"price_change_percentage_60d\",\"price_change_percentage_60d\",\"price_change_percentage_60d\",\"price_change_percentage_60d\",\"price_change_percentage_60d\",\"price_change_percentage_60d\",\"price_change_percentage_60d\",\"price_change_percentage_60d\",\"price_change_percentage_60d\",\"price_change_percentage_60d\",\"price_change_percentage_60d\",\"price_change_percentage_60d\",\"price_change_percentage_60d\",\"price_change_percentage_60d\",\"price_change_percentage_60d\"],\"coin_id\":[\"bitcoin\",\"ethereum\",\"tether\",\"ripple\",\"bitcoin-cash\",\"binancecoin\",\"chainlink\",\"cardano\",\"litecoin\",\"bitcoin-cash-sv\",\"crypto-com-chain\",\"usd-coin\",\"eos\",\"monero\",\"tron\",\"tezos\",\"okb\",\"stellar\",\"cosmos\",\"cdai\",\"neo\",\"wrapped-bitcoin\",\"leo-token\",\"huobi-token\",\"nem\",\"binance-usd\",\"iota\",\"vechain\",\"zcash\",\"theta-token\",\"dash\",\"ethereum-classic\",\"ethlend\",\"maker\",\"havven\",\"omisego\",\"celsius-degree-token\",\"ontology\",\"ftx-token\",\"true-usd\",\"digibyte\"],\"value\":{\"__ndarray__\":\"FvvL7skDCsAs1JrmHccpwKjjMQOV8dE/2qz6XG2NMcByol2FlG8rwIleRrHcKkJAN8MN+PzYRcBi26LMBtk2wCEf9GxWPTHAq5UJv9TfOMBg5dAi23kwwD2gbMoV3qU/lq31RUIrPsDNzMzMzNxEQJm7lpAPGhZAms5OBkdpRsBKe4MvTKYGwEwfuqC+zT7APL1SliHOHMC5AZ8fRgjlP9L7xteeCStAFaQZi6azDMCvJeSDni0ewDeOWItPQQvAXvQVpBm3VEDaOGItPgW4PwpLPKBsQkHAaw4QzNHPRcAJM23/yoo0wBmQvd79AVRAfa62Yn85OsBUGFsIcug5wLCsNCkFHQFA529CIQKeMsA0uoPYmbZDwPKwUGua0VNA/5qsUQ/ia0Ao8iTpmllAwFuxv+yenBdAmrFoOjsZ0D8s1JrmHRc/wA==\",\"dtype\":\"float64\",\"order\":\"little\",\"shape\":[41]}},\"selected\":{\"id\":\"1142\"},\"selection_policy\":{\"id\":\"1164\"}},\"id\":\"1141\",\"type\":\"ColumnDataSource\"},{\"attributes\":{},\"id\":\"1030\",\"type\":\"PanTool\"},{\"attributes\":{\"coordinates\":null,\"data_source\":{\"id\":\"1169\"},\"glyph\":{\"id\":\"1172\"},\"group\":null,\"hover_glyph\":null,\"muted_glyph\":{\"id\":\"1174\"},\"nonselection_glyph\":{\"id\":\"1173\"},\"selection_glyph\":{\"id\":\"1198\"},\"view\":{\"id\":\"1176\"}},\"id\":\"1175\",\"type\":\"GlyphRenderer\"},{\"attributes\":{\"axis_label\":\"coin_id\",\"coordinates\":null,\"formatter\":{\"id\":\"1043\"},\"group\":null,\"major_label_orientation\":1.5707963267948966,\"major_label_policy\":{\"id\":\"1044\"},\"ticker\":{\"id\":\"1023\"}},\"id\":\"1022\",\"type\":\"CategoricalAxis\"},{\"attributes\":{},\"id\":\"1031\",\"type\":\"WheelZoomTool\"},{\"attributes\":{\"source\":{\"id\":\"1169\"}},\"id\":\"1176\",\"type\":\"CDSView\"},{\"attributes\":{\"margin\":[5,5,5,5],\"name\":\"HSpacer01051\",\"sizing_mode\":\"stretch_width\"},\"id\":\"1003\",\"type\":\"Spacer\"},{\"attributes\":{\"tools\":[{\"id\":\"1006\"},{\"id\":\"1029\"},{\"id\":\"1030\"},{\"id\":\"1031\"},{\"id\":\"1032\"},{\"id\":\"1033\"}]},\"id\":\"1035\",\"type\":\"Toolbar\"},{\"attributes\":{},\"id\":\"1044\",\"type\":\"AllLabels\"},{\"attributes\":{\"overlay\":{\"id\":\"1034\"}},\"id\":\"1032\",\"type\":\"BoxZoomTool\"},{\"attributes\":{},\"id\":\"1116\",\"type\":\"Selection\"},{\"attributes\":{},\"id\":\"1194\",\"type\":\"UnionRenderers\"},{\"attributes\":{\"line_color\":\"#6d904f\",\"line_width\":2,\"x\":{\"field\":\"coin_id\"},\"y\":{\"field\":\"value\"}},\"id\":\"1118\",\"type\":\"Line\"},{\"attributes\":{\"label\":{\"value\":\"price_change_percentage_200d\"},\"renderers\":[{\"id\":\"1175\"}]},\"id\":\"1197\",\"type\":\"LegendItem\"},{\"attributes\":{\"data\":{\"Variable\":[\"price_change_percentage_30d\",\"price_change_percentage_30d\",\"price_change_percentage_30d\",\"price_change_percentage_30d\",\"price_change_percentage_30d\",\"price_change_percentage_30d\",\"price_change_percentage_30d\",\"price_change_percentage_30d\",\"price_change_percentage_30d\",\"price_change_percentage_30d\",\"price_change_percentage_30d\",\"price_change_percentage_30d\",\"price_change_percentage_30d\",\"price_change_percentage_30d\",\"price_change_percentage_30d\",\"price_change_percentage_30d\",\"price_change_percentage_30d\",\"price_change_percentage_30d\",\"price_change_percentage_30d\",\"price_change_percentage_30d\",\"price_change_percentage_30d\",\"price_change_percentage_30d\",\"price_change_percentage_30d\",\"price_change_percentage_30d\",\"price_change_percentage_30d\",\"price_change_percentage_30d\",\"price_change_percentage_30d\",\"price_change_percentage_30d\",\"price_change_percentage_30d\",\"price_change_percentage_30d\",\"price_change_percentage_30d\",\"price_change_percentage_30d\",\"price_change_percentage_30d\",\"price_change_percentage_30d\",\"price_change_percentage_30d\",\"price_change_percentage_30d\",\"price_change_percentage_30d\",\"price_change_percentage_30d\",\"price_change_percentage_30d\",\"price_change_percentage_30d\",\"price_change_percentage_30d\"],\"coin_id\":[\"bitcoin\",\"ethereum\",\"tether\",\"ripple\",\"bitcoin-cash\",\"binancecoin\",\"chainlink\",\"cardano\",\"litecoin\",\"bitcoin-cash-sv\",\"crypto-com-chain\",\"usd-coin\",\"eos\",\"monero\",\"tron\",\"tezos\",\"okb\",\"stellar\",\"cosmos\",\"cdai\",\"neo\",\"wrapped-bitcoin\",\"leo-token\",\"huobi-token\",\"nem\",\"binance-usd\",\"iota\",\"vechain\",\"zcash\",\"theta-token\",\"dash\",\"ethereum-classic\",\"ethlend\",\"maker\",\"havven\",\"omisego\",\"celsius-degree-token\",\"ontology\",\"ftx-token\",\"true-usd\",\"digibyte\"],\"value\":{\"__ndarray__\":\"VMa/z7iwHkAl6ZrJN9vAP/28qUiFsaW/L26jAbwFzj8dcjPcgH8vQPMf0m9fB64/5bhTOlhvJsBnfjUHCDYkQGWNeohGd/M/ryDNWDQdB0Cmft5UpHIxwJkvL8A+OsW/t0WZDTKJEsDfVKTC2HpDQEzD8BExNSnAjGK5pdVALMDjjcwjf+AkwIrIsIo3QiDAj1iLTwFQEkAWpBmLpnMBwE7WqIdo9DXAVG8NbJWAHUAnMQisHJoIQGA8g4b+CQrACMTr+gU7DcCQpQ9dUN+SP80Bgjl6nBDA9S1zuixWLMBC7Eyh83odQEku/yH9bj9AtTf4wmQqH8An/FI/byoHQNjYJaq3/j3A9GxWfa62MECdRloqb9c0wF4R/G8lOyLArK3YX3aZYUC1/SsrTVpBwP7PYb68ICXAFR3J5T+knz+ndLD+z4EqQA==\",\"dtype\":\"float64\",\"order\":\"little\",\"shape\":[41]}},\"selected\":{\"id\":\"1116\"},\"selection_policy\":{\"id\":\"1136\"}},\"id\":\"1115\",\"type\":\"ColumnDataSource\"},{\"attributes\":{\"line_alpha\":0.2,\"line_color\":\"#fc4f30\",\"line_width\":2,\"x\":{\"field\":\"coin_id\"},\"y\":{\"field\":\"value\"}},\"id\":\"1074\",\"type\":\"Line\"},{\"attributes\":{\"data\":{\"Variable\":[\"price_change_percentage_1y\",\"price_change_percentage_1y\",\"price_change_percentage_1y\",\"price_change_percentage_1y\",\"price_change_percentage_1y\",\"price_change_percentage_1y\",\"price_change_percentage_1y\",\"price_change_percentage_1y\",\"price_change_percentage_1y\",\"price_change_percentage_1y\",\"price_change_percentage_1y\",\"price_change_percentage_1y\",\"price_change_percentage_1y\",\"price_change_percentage_1y\",\"price_change_percentage_1y\",\"price_change_percentage_1y\",\"price_change_percentage_1y\",\"price_change_percentage_1y\",\"price_change_percentage_1y\",\"price_change_percentage_1y\",\"price_change_percentage_1y\",\"price_change_percentage_1y\",\"price_change_percentage_1y\",\"price_change_percentage_1y\",\"price_change_percentage_1y\",\"price_change_percentage_1y\",\"price_change_percentage_1y\",\"price_change_percentage_1y\",\"price_change_percentage_1y\",\"price_change_percentage_1y\",\"price_change_percentage_1y\",\"price_change_percentage_1y\",\"price_change_percentage_1y\",\"price_change_percentage_1y\",\"price_change_percentage_1y\",\"price_change_percentage_1y\",\"price_change_percentage_1y\",\"price_change_percentage_1y\",\"price_change_percentage_1y\",\"price_change_percentage_1y\",\"price_change_percentage_1y\"],\"coin_id\":[\"bitcoin\",\"ethereum\",\"tether\",\"ripple\",\"bitcoin-cash\",\"binancecoin\",\"chainlink\",\"cardano\",\"litecoin\",\"bitcoin-cash-sv\",\"crypto-com-chain\",\"usd-coin\",\"eos\",\"monero\",\"tron\",\"tezos\",\"okb\",\"stellar\",\"cosmos\",\"cdai\",\"neo\",\"wrapped-bitcoin\",\"leo-token\",\"huobi-token\",\"nem\",\"binance-usd\",\"iota\",\"vechain\",\"zcash\",\"theta-token\",\"dash\",\"ethereum-classic\",\"ethlend\",\"maker\",\"havven\",\"omisego\",\"celsius-degree-token\",\"ontology\",\"ftx-token\",\"true-usd\",\"digibyte\"],\"value\":{\"__ndarray__\":\"kQpjC0HCQkDXqIdodH1ZQOD42jNLApQ/NXugFRiaMMDM6bKY2PwsQOcdp+hIbFFAaTo7GRxSdEC7LCY2H4NjQPnaM0sCVCnA0NA/wcVuV0CQvd798RBzQL4wmSoYlci/tn9lpUmRMcDpvMYuUaFhQELKT6p9nk1A6PaSxmiAYUBdUN8yp75hQMzuycNCnStAxLZFmQ2cVEAIsTOFzmvSvx/0bFZ9aWBAhxvw+WHEQkAN/RNcrAA1QN8Vwf9WkjhAS7A4nPkWaUAVUn5S7dPBPzYk7rH04Q/AIsMq3shbaUBf0hito7hUQPyMCwcC64VAzsKedvirA8Dwoq8gzTgmQHRGlPYWrL5Ayk+qfTpOJUDfiVkvRjaFQEfJq3MMC3RAnFCIgONmn0CsVib8Uk8pwNttF5rrC2VAyXGndLD+2T/YfFwbKgxnQA==\",\"dtype\":\"float64\",\"order\":\"little\",\"shape\":[41]}},\"selected\":{\"id\":\"1200\"},\"selection_policy\":{\"id\":\"1226\"}},\"id\":\"1199\",\"type\":\"ColumnDataSource\"},{\"attributes\":{},\"id\":\"1200\",\"type\":\"Selection\"},{\"attributes\":{},\"id\":\"1033\",\"type\":\"ResetTool\"},{\"attributes\":{\"end\":8641.780918,\"reset_end\":8641.780918,\"reset_start\":-834.5136980000001,\"start\":-834.5136980000001,\"tags\":[[[\"value\",\"value\",null]]]},\"id\":\"1005\",\"type\":\"Range1d\"},{\"attributes\":{\"children\":[{\"id\":\"1003\"},{\"id\":\"1013\"},{\"id\":\"1253\"}],\"margin\":[0,0,0,0],\"name\":\"Row01047\",\"tags\":[\"embedded\"]},\"id\":\"1002\",\"type\":\"Row\"},{\"attributes\":{\"line_alpha\":0.2,\"line_color\":\"#6d904f\",\"line_width\":2,\"x\":{\"field\":\"coin_id\"},\"y\":{\"field\":\"value\"}},\"id\":\"1120\",\"type\":\"Line\"},{\"attributes\":{},\"id\":\"1046\",\"type\":\"BasicTickFormatter\"},{\"attributes\":{\"bottom_units\":\"screen\",\"coordinates\":null,\"fill_alpha\":0.5,\"fill_color\":\"lightgrey\",\"group\":null,\"left_units\":\"screen\",\"level\":\"overlay\",\"line_alpha\":1.0,\"line_color\":\"black\",\"line_dash\":[4,4],\"line_width\":2,\"right_units\":\"screen\",\"syncable\":false,\"top_units\":\"screen\"},\"id\":\"1034\",\"type\":\"BoxAnnotation\"},{\"attributes\":{\"line_color\":\"#9467bd\",\"line_width\":2,\"x\":{\"field\":\"coin_id\"},\"y\":{\"field\":\"value\"}},\"id\":\"1202\",\"type\":\"Line\"},{\"attributes\":{\"coordinates\":null,\"data_source\":{\"id\":\"1115\"},\"glyph\":{\"id\":\"1118\"},\"group\":null,\"hover_glyph\":null,\"muted_glyph\":{\"id\":\"1120\"},\"nonselection_glyph\":{\"id\":\"1119\"},\"selection_glyph\":{\"id\":\"1140\"},\"view\":{\"id\":\"1122\"}},\"id\":\"1121\",\"type\":\"GlyphRenderer\"},{\"attributes\":{\"click_policy\":\"mute\",\"coordinates\":null,\"group\":null,\"items\":[{\"id\":\"1067\"},{\"id\":\"1089\"},{\"id\":\"1113\"},{\"id\":\"1139\"},{\"id\":\"1167\"},{\"id\":\"1197\"},{\"id\":\"1229\"}],\"location\":[0,0],\"title\":\"Variable\"},\"id\":\"1066\",\"type\":\"Legend\"},{\"attributes\":{\"line_color\":\"#30a2da\",\"line_width\":2,\"x\":{\"field\":\"coin_id\"},\"y\":{\"field\":\"value\"}},\"id\":\"1068\",\"type\":\"Line\"},{\"attributes\":{},\"id\":\"1136\",\"type\":\"UnionRenderers\"},{\"attributes\":{\"source\":{\"id\":\"1115\"}},\"id\":\"1122\",\"type\":\"CDSView\"},{\"attributes\":{\"line_alpha\":0.2,\"line_color\":\"#9467bd\",\"line_width\":2,\"x\":{\"field\":\"coin_id\"},\"y\":{\"field\":\"value\"}},\"id\":\"1204\",\"type\":\"Line\"},{\"attributes\":{\"label\":{\"value\":\"price_change_percentage_30d\"},\"renderers\":[{\"id\":\"1121\"}]},\"id\":\"1139\",\"type\":\"LegendItem\"},{\"attributes\":{\"coordinates\":null,\"data_source\":{\"id\":\"1199\"},\"glyph\":{\"id\":\"1202\"},\"group\":null,\"hover_glyph\":null,\"muted_glyph\":{\"id\":\"1204\"},\"nonselection_glyph\":{\"id\":\"1203\"},\"selection_glyph\":{\"id\":\"1230\"},\"view\":{\"id\":\"1206\"}},\"id\":\"1205\",\"type\":\"GlyphRenderer\"},{\"attributes\":{},\"id\":\"1226\",\"type\":\"UnionRenderers\"},{\"attributes\":{\"line_color\":\"#6d904f\",\"line_width\":2,\"x\":{\"field\":\"coin_id\"},\"y\":{\"field\":\"value\"}},\"id\":\"1140\",\"type\":\"Line\"},{\"attributes\":{\"source\":{\"id\":\"1199\"}},\"id\":\"1206\",\"type\":\"CDSView\"},{\"attributes\":{},\"id\":\"1049\",\"type\":\"Selection\"},{\"attributes\":{\"label\":{\"value\":\"price_change_percentage_1y\"},\"renderers\":[{\"id\":\"1205\"}]},\"id\":\"1229\",\"type\":\"LegendItem\"},{\"attributes\":{},\"id\":\"1142\",\"type\":\"Selection\"},{\"attributes\":{\"data\":{\"Variable\":[\"price_change_percentage_200d\",\"price_change_percentage_200d\",\"price_change_percentage_200d\",\"price_change_percentage_200d\",\"price_change_percentage_200d\",\"price_change_percentage_200d\",\"price_change_percentage_200d\",\"price_change_percentage_200d\",\"price_change_percentage_200d\",\"price_change_percentage_200d\",\"price_change_percentage_200d\",\"price_change_percentage_200d\",\"price_change_percentage_200d\",\"price_change_percentage_200d\",\"price_change_percentage_200d\",\"price_change_percentage_200d\",\"price_change_percentage_200d\",\"price_change_percentage_200d\",\"price_change_percentage_200d\",\"price_change_percentage_200d\",\"price_change_percentage_200d\",\"price_change_percentage_200d\",\"price_change_percentage_200d\",\"price_change_percentage_200d\",\"price_change_percentage_200d\",\"price_change_percentage_200d\",\"price_change_percentage_200d\",\"price_change_percentage_200d\",\"price_change_percentage_200d\",\"price_change_percentage_200d\",\"price_change_percentage_200d\",\"price_change_percentage_200d\",\"price_change_percentage_200d\",\"price_change_percentage_200d\",\"price_change_percentage_200d\",\"price_change_percentage_200d\",\"price_change_percentage_200d\",\"price_change_percentage_200d\",\"price_change_percentage_200d\",\"price_change_percentage_200d\",\"price_change_percentage_200d\"],\"coin_id\":[\"bitcoin\",\"ethereum\",\"tether\",\"ripple\",\"bitcoin-cash\",\"binancecoin\",\"chainlink\",\"cardano\",\"litecoin\",\"bitcoin-cash-sv\",\"crypto-com-chain\",\"usd-coin\",\"eos\",\"monero\",\"tron\",\"tezos\",\"okb\",\"stellar\",\"cosmos\",\"cdai\",\"neo\",\"wrapped-bitcoin\",\"leo-token\",\"huobi-token\",\"nem\",\"binance-usd\",\"iota\",\"vechain\",\"zcash\",\"theta-token\",\"dash\",\"ethereum-classic\",\"ethlend\",\"maker\",\"havven\",\"omisego\",\"celsius-degree-token\",\"ontology\",\"ftx-token\",\"true-usd\",\"digibyte\"],\"value\":{\"__ndarray__\":\"xY8xdy3hVED0piIVxlhnQBe86CtIM3a/9zsUBfrEQ0DUn/1IEak1QPTDCOHRc2NAl3MprqozeUAdxM4UOohwQIF9dOrKfztAFRiyutWzHUCO7iB2plZsQIQqNXugFcS/ZHWr56QPMkALe9rhrzBlQIC8V61MnGBA5nlwd9a2RUAQHm0csfpDQC6Lic3HJ1VAkj8YeO4/Z0AOvjCZKhjZv2vUQzS61GNAtRX7y+75VEC5GW7A52cwQAPso1NXHkVAKq4q+64Fa0A7NgLxun65P+TaUDHOwVdAyM1wAz7bcEAFwHgGDaNeQH3Qs1k1lYtAOUVHcvnvGEANGvonuMgkQCYZOQvbZ6FAGT4ipkSiVED5MeauZXeDQHi0ccQaSoJAC170FcTYmEB0PGagMmJLQC2yne+nvkxAndfYJaq3tr9R9wFIbSl+QA==\",\"dtype\":\"float64\",\"order\":\"little\",\"shape\":[41]}},\"selected\":{\"id\":\"1170\"},\"selection_policy\":{\"id\":\"1194\"}},\"id\":\"1169\",\"type\":\"ColumnDataSource\"},{\"attributes\":{\"line_alpha\":0.2,\"line_color\":\"#30a2da\",\"line_width\":2,\"x\":{\"field\":\"coin_id\"},\"y\":{\"field\":\"value\"}},\"id\":\"1053\",\"type\":\"Line\"},{\"attributes\":{\"line_color\":\"#9467bd\",\"line_width\":2,\"x\":{\"field\":\"coin_id\"},\"y\":{\"field\":\"value\"}},\"id\":\"1230\",\"type\":\"Line\"},{\"attributes\":{\"source\":{\"id\":\"1048\"}},\"id\":\"1055\",\"type\":\"CDSView\"},{\"attributes\":{\"below\":[{\"id\":\"1022\"}],\"center\":[{\"id\":\"1024\"},{\"id\":\"1028\"}],\"height\":400,\"left\":[{\"id\":\"1025\"}],\"margin\":[5,5,5,5],\"min_border_bottom\":10,\"min_border_left\":10,\"min_border_right\":10,\"min_border_top\":10,\"renderers\":[{\"id\":\"1054\"},{\"id\":\"1075\"},{\"id\":\"1097\"},{\"id\":\"1121\"},{\"id\":\"1147\"},{\"id\":\"1175\"},{\"id\":\"1205\"}],\"right\":[{\"id\":\"1066\"}],\"sizing_mode\":\"fixed\",\"title\":{\"id\":\"1014\"},\"toolbar\":{\"id\":\"1035\"},\"width\":800,\"x_range\":{\"id\":\"1004\"},\"x_scale\":{\"id\":\"1018\"},\"y_range\":{\"id\":\"1005\"},\"y_scale\":{\"id\":\"1020\"}},\"id\":\"1013\",\"subtype\":\"Figure\",\"type\":\"Plot\"},{\"attributes\":{\"line_color\":\"#fc4f30\",\"line_width\":2,\"x\":{\"field\":\"coin_id\"},\"y\":{\"field\":\"value\"}},\"id\":\"1072\",\"type\":\"Line\"},{\"attributes\":{\"line_alpha\":0.1,\"line_color\":\"#8b8b8b\",\"line_width\":2,\"x\":{\"field\":\"coin_id\"},\"y\":{\"field\":\"value\"}},\"id\":\"1145\",\"type\":\"Line\"},{\"attributes\":{\"label\":{\"value\":\"price_change_percentage_14d\"},\"renderers\":[{\"id\":\"1097\"}]},\"id\":\"1113\",\"type\":\"LegendItem\"},{\"attributes\":{\"data\":{\"Variable\":[\"price_change_percentage_14d\",\"price_change_percentage_14d\",\"price_change_percentage_14d\",\"price_change_percentage_14d\",\"price_change_percentage_14d\",\"price_change_percentage_14d\",\"price_change_percentage_14d\",\"price_change_percentage_14d\",\"price_change_percentage_14d\",\"price_change_percentage_14d\",\"price_change_percentage_14d\",\"price_change_percentage_14d\",\"price_change_percentage_14d\",\"price_change_percentage_14d\",\"price_change_percentage_14d\",\"price_change_percentage_14d\",\"price_change_percentage_14d\",\"price_change_percentage_14d\",\"price_change_percentage_14d\",\"price_change_percentage_14d\",\"price_change_percentage_14d\",\"price_change_percentage_14d\",\"price_change_percentage_14d\",\"price_change_percentage_14d\",\"price_change_percentage_14d\",\"price_change_percentage_14d\",\"price_change_percentage_14d\",\"price_change_percentage_14d\",\"price_change_percentage_14d\",\"price_change_percentage_14d\",\"price_change_percentage_14d\",\"price_change_percentage_14d\",\"price_change_percentage_14d\",\"price_change_percentage_14d\",\"price_change_percentage_14d\",\"price_change_percentage_14d\",\"price_change_percentage_14d\",\"price_change_percentage_14d\",\"price_change_percentage_14d\",\"price_change_percentage_14d\",\"price_change_percentage_14d\"],\"coin_id\":[\"bitcoin\",\"ethereum\",\"tether\",\"ripple\",\"bitcoin-cash\",\"binancecoin\",\"chainlink\",\"cardano\",\"litecoin\",\"bitcoin-cash-sv\",\"crypto-com-chain\",\"usd-coin\",\"eos\",\"monero\",\"tron\",\"tezos\",\"okb\",\"stellar\",\"cosmos\",\"cdai\",\"neo\",\"wrapped-bitcoin\",\"leo-token\",\"huobi-token\",\"nem\",\"binance-usd\",\"iota\",\"vechain\",\"zcash\",\"theta-token\",\"dash\",\"ethereum-classic\",\"ethlend\",\"maker\",\"havven\",\"omisego\",\"celsius-degree-token\",\"ontology\",\"ftx-token\",\"true-usd\",\"digibyte\"],\"value\":{\"__ndarray__\":\"zAaZZORMGkB5knTN5DsTQC1DHOviNno/c9wpHaz/AUCLic3HtYEtQJkvL8A+OhtAC4DxDBqaIkAOhGQBEzgWQICfceFAKB1AIFnABG7d/b8ysfm4NhQhwGpI3GPpQ3e/pfeNrz0z8j8bo3VUNWkyQBUA4xk0dPY/VIzzN6GQAkCWrfVFQhsUwKpla32RUPG/Qgkzbf8KFkDPg7uzdtvFP8MN+PwwsiPAYFlpUgo6GkB2+GuyRh0cwM2v5gDBHN0/j1iLTwEwBUDWrZ6T3jeuP7pOIy2VNw7Am1Wfq60oMsAJM23/yioXQJbK2xFOSxrAQE0tW+uL4D9NucK7XET0v0SLbOf7mSPA/pqsUQ/R978vaYzWUZUqwDtT6LzGbirAvodLjjs9OEByUMJM2x8lwJ30vvG1Z8q/ZCMQr+sXvD+7D0BqE0cdwA==\",\"dtype\":\"float64\",\"order\":\"little\",\"shape\":[41]}},\"selected\":{\"id\":\"1092\"},\"selection_policy\":{\"id\":\"1110\"}},\"id\":\"1091\",\"type\":\"ColumnDataSource\"},{\"attributes\":{\"line_color\":\"#8b8b8b\",\"line_width\":2,\"x\":{\"field\":\"coin_id\"},\"y\":{\"field\":\"value\"}},\"id\":\"1144\",\"type\":\"Line\"},{\"attributes\":{\"coordinates\":null,\"data_source\":{\"id\":\"1069\"},\"glyph\":{\"id\":\"1072\"},\"group\":null,\"hover_glyph\":null,\"muted_glyph\":{\"id\":\"1074\"},\"nonselection_glyph\":{\"id\":\"1073\"},\"selection_glyph\":{\"id\":\"1090\"},\"view\":{\"id\":\"1076\"}},\"id\":\"1075\",\"type\":\"GlyphRenderer\"},{\"attributes\":{\"data\":{\"Variable\":[\"price_change_percentage_24h\",\"price_change_percentage_24h\",\"price_change_percentage_24h\",\"price_change_percentage_24h\",\"price_change_percentage_24h\",\"price_change_percentage_24h\",\"price_change_percentage_24h\",\"price_change_percentage_24h\",\"price_change_percentage_24h\",\"price_change_percentage_24h\",\"price_change_percentage_24h\",\"price_change_percentage_24h\",\"price_change_percentage_24h\",\"price_change_percentage_24h\",\"price_change_percentage_24h\",\"price_change_percentage_24h\",\"price_change_percentage_24h\",\"price_change_percentage_24h\",\"price_change_percentage_24h\",\"price_change_percentage_24h\",\"price_change_percentage_24h\",\"price_change_percentage_24h\",\"price_change_percentage_24h\",\"price_change_percentage_24h\",\"price_change_percentage_24h\",\"price_change_percentage_24h\",\"price_change_percentage_24h\",\"price_change_percentage_24h\",\"price_change_percentage_24h\",\"price_change_percentage_24h\",\"price_change_percentage_24h\",\"price_change_percentage_24h\",\"price_change_percentage_24h\",\"price_change_percentage_24h\",\"price_change_percentage_24h\",\"price_change_percentage_24h\",\"price_change_percentage_24h\",\"price_change_percentage_24h\",\"price_change_percentage_24h\",\"price_change_percentage_24h\",\"price_change_percentage_24h\"],\"coin_id\":[\"bitcoin\",\"ethereum\",\"tether\",\"ripple\",\"bitcoin-cash\",\"binancecoin\",\"chainlink\",\"cardano\",\"litecoin\",\"bitcoin-cash-sv\",\"crypto-com-chain\",\"usd-coin\",\"eos\",\"monero\",\"tron\",\"tezos\",\"okb\",\"stellar\",\"cosmos\",\"cdai\",\"neo\",\"wrapped-bitcoin\",\"leo-token\",\"huobi-token\",\"nem\",\"binance-usd\",\"iota\",\"vechain\",\"zcash\",\"theta-token\",\"dash\",\"ethereum-classic\",\"ethlend\",\"maker\",\"havven\",\"omisego\",\"celsius-degree-token\",\"ontology\",\"ftx-token\",\"true-usd\",\"digibyte\"],\"value\":{\"__ndarray__\":\"nZ0MjpJX8T8LzXUaaanMP5qByvj3Gcu/wCZr1EM02L8ep+hILj8HQL0Yyol21QBAwhcmUwWjzr//CS5W1GBqP7NGPUSjO7C/QKTfvg6c7T8trYbEPZbjPzeJQWDl0Ma/1pC4x9KHwj88NgLxun7bP94HILWJk7M/JzYf14aK5b83iUFg5dAFwG3i5H6HIvC/5Xlwd9Zu7r9j83FtqBjLP+eHEcKjjd8/NNyAzw+j8T/fGtgqweLAv+VmuAGfH9q/UdobfGEy678D7KNTVz67v8czaOif4No/teBFX0Ga9D8G2EenrnzjvyCduvJZPhLAoMN8eQH28L+cxCCwcmjdv667eapDDivAX5hMFYxK479EUaBP5EkQwAdkr3d/XBNA0JuKVBgbBEDqBDQRNrz1vxo09E9wseo/tY6qJoi6r79qMA3DR8QHQA==\",\"dtype\":\"float64\",\"order\":\"little\",\"shape\":[41]}},\"selected\":{\"id\":\"1049\"},\"selection_policy\":{\"id\":\"1063\"}},\"id\":\"1048\",\"type\":\"ColumnDataSource\"},{\"attributes\":{\"line_color\":\"#30a2da\",\"line_width\":2,\"x\":{\"field\":\"coin_id\"},\"y\":{\"field\":\"value\"}},\"id\":\"1051\",\"type\":\"Line\"},{\"attributes\":{\"factors\":[\"bitcoin\",\"ethereum\",\"tether\",\"ripple\",\"bitcoin-cash\",\"binancecoin\",\"chainlink\",\"cardano\",\"litecoin\",\"bitcoin-cash-sv\",\"crypto-com-chain\",\"usd-coin\",\"eos\",\"monero\",\"tron\",\"tezos\",\"okb\",\"stellar\",\"cosmos\",\"cdai\",\"neo\",\"wrapped-bitcoin\",\"leo-token\",\"huobi-token\",\"nem\",\"binance-usd\",\"iota\",\"vechain\",\"zcash\",\"theta-token\",\"dash\",\"ethereum-classic\",\"ethlend\",\"maker\",\"havven\",\"omisego\",\"celsius-degree-token\",\"ontology\",\"ftx-token\",\"true-usd\",\"digibyte\"],\"tags\":[[[\"coin_id\",\"coin_id\",null]]]},\"id\":\"1004\",\"type\":\"FactorRange\"}],\"root_ids\":[\"1002\"]},\"title\":\"Bokeh Application\",\"version\":\"2.4.3\"}};\n",
       "    var render_items = [{\"docid\":\"3c4b2d84-e7c4-4b2e-b2c6-786797b969b7\",\"root_ids\":[\"1002\"],\"roots\":{\"1002\":\"7b33ae6a-ccea-4352-9517-d6dc66572e1d\"}}];\n",
       "    root.Bokeh.embed.embed_items_notebook(docs_json, render_items);\n",
       "    for (const render_item of render_items) {\n",
       "      for (const root_id of render_item.root_ids) {\n",
       "\tconst id_el = document.getElementById(root_id)\n",
       "\tif (id_el.children.length && (id_el.children[0].className === 'bk-root')) {\n",
       "\t  const root_el = id_el.children[0]\n",
       "\t  root_el.id = root_el.id + '-rendered'\n",
       "\t}\n",
       "      }\n",
       "    }\n",
       "  }\n",
       "  if (root.Bokeh !== undefined && root.Bokeh.Panel !== undefined) {\n",
       "    embed_document(root);\n",
       "  } else {\n",
       "    var attempts = 0;\n",
       "    var timer = setInterval(function(root) {\n",
       "      if (root.Bokeh !== undefined && root.Bokeh.Panel !== undefined) {\n",
       "        clearInterval(timer);\n",
       "        embed_document(root);\n",
       "      } else if (document.readyState == \"complete\") {\n",
       "        attempts++;\n",
       "        if (attempts > 200) {\n",
       "          clearInterval(timer);\n",
       "          console.log(\"Bokeh: ERROR: Unable to run BokehJS code because BokehJS library is missing\");\n",
       "        }\n",
       "      }\n",
       "    }, 25, root)\n",
       "  }\n",
       "})(window);</script>"
      ],
      "text/plain": [
       ":NdOverlay   [Variable]\n",
       "   :Curve   [coin_id]   (value)"
      ]
     },
     "execution_count": 4,
     "metadata": {
      "application/vnd.holoviews_exec.v0+json": {
       "id": "1002"
      }
     },
     "output_type": "execute_result"
    }
   ],
   "source": [
    "# Plot your data to see what's in your DataFrame\n",
    "df_market_data.hvplot.line(\n",
    "    width=800,\n",
    "    height=400,\n",
    "    rot=90\n",
    ")"
   ]
  },
  {
   "cell_type": "markdown",
   "metadata": {},
   "source": [
    "---"
   ]
  },
  {
   "cell_type": "markdown",
   "metadata": {},
   "source": [
    "### Prepare the Data"
   ]
  },
  {
   "cell_type": "code",
   "execution_count": null,
   "metadata": {},
   "outputs": [],
   "source": [
    "# Use the `StandardScaler()` module from scikit-learn to normalize the data from the CSV file\n",
    "scaled_data = StandardScaler().fit_transform(df_market_data)"
   ]
  },
  {
   "cell_type": "code",
   "execution_count": null,
   "metadata": {},
   "outputs": [
    {
     "data": {
      "text/html": [
       "<div>\n",
       "<style scoped>\n",
       "    .dataframe tbody tr th:only-of-type {\n",
       "        vertical-align: middle;\n",
       "    }\n",
       "\n",
       "    .dataframe tbody tr th {\n",
       "        vertical-align: top;\n",
       "    }\n",
       "\n",
       "    .dataframe thead th {\n",
       "        text-align: right;\n",
       "    }\n",
       "</style>\n",
       "<table border=\"1\" class=\"dataframe\">\n",
       "  <thead>\n",
       "    <tr style=\"text-align: right;\">\n",
       "      <th></th>\n",
       "      <th>price_change_percentage_24h</th>\n",
       "      <th>price_change_percentage_7d</th>\n",
       "      <th>price_change_percentage_14d</th>\n",
       "      <th>price_change_percentage_30d</th>\n",
       "      <th>price_change_percentage_60d</th>\n",
       "      <th>price_change_percentage_200d</th>\n",
       "      <th>price_change_percentage_1y</th>\n",
       "    </tr>\n",
       "    <tr>\n",
       "      <th>coin_id</th>\n",
       "      <th></th>\n",
       "      <th></th>\n",
       "      <th></th>\n",
       "      <th></th>\n",
       "      <th></th>\n",
       "      <th></th>\n",
       "      <th></th>\n",
       "    </tr>\n",
       "  </thead>\n",
       "  <tbody>\n",
       "    <tr>\n",
       "      <th>bitcoin</th>\n",
       "      <td>0.508529</td>\n",
       "      <td>0.493193</td>\n",
       "      <td>0.772200</td>\n",
       "      <td>0.235460</td>\n",
       "      <td>-0.067495</td>\n",
       "      <td>-0.355953</td>\n",
       "      <td>-0.251637</td>\n",
       "    </tr>\n",
       "    <tr>\n",
       "      <th>ethereum</th>\n",
       "      <td>0.185446</td>\n",
       "      <td>0.934445</td>\n",
       "      <td>0.558692</td>\n",
       "      <td>-0.054341</td>\n",
       "      <td>-0.273483</td>\n",
       "      <td>-0.115759</td>\n",
       "      <td>-0.199352</td>\n",
       "    </tr>\n",
       "    <tr>\n",
       "      <th>tether</th>\n",
       "      <td>0.021774</td>\n",
       "      <td>-0.706337</td>\n",
       "      <td>-0.021680</td>\n",
       "      <td>-0.061030</td>\n",
       "      <td>0.008005</td>\n",
       "      <td>-0.550247</td>\n",
       "      <td>-0.282061</td>\n",
       "    </tr>\n",
       "    <tr>\n",
       "      <th>ripple</th>\n",
       "      <td>-0.040764</td>\n",
       "      <td>-0.810928</td>\n",
       "      <td>0.249458</td>\n",
       "      <td>-0.050388</td>\n",
       "      <td>-0.373164</td>\n",
       "      <td>-0.458259</td>\n",
       "      <td>-0.295546</td>\n",
       "    </tr>\n",
       "    <tr>\n",
       "      <th>bitcoin-cash</th>\n",
       "      <td>1.193036</td>\n",
       "      <td>2.000959</td>\n",
       "      <td>1.760610</td>\n",
       "      <td>0.545842</td>\n",
       "      <td>-0.291203</td>\n",
       "      <td>-0.499848</td>\n",
       "      <td>-0.270317</td>\n",
       "    </tr>\n",
       "  </tbody>\n",
       "</table>\n",
       "</div>"
      ],
      "text/plain": [
       "              price_change_percentage_24h  price_change_percentage_7d  \\\n",
       "coin_id                                                                 \n",
       "bitcoin                          0.508529                    0.493193   \n",
       "ethereum                         0.185446                    0.934445   \n",
       "tether                           0.021774                   -0.706337   \n",
       "ripple                          -0.040764                   -0.810928   \n",
       "bitcoin-cash                     1.193036                    2.000959   \n",
       "\n",
       "              price_change_percentage_14d  price_change_percentage_30d  \\\n",
       "coin_id                                                                  \n",
       "bitcoin                          0.772200                     0.235460   \n",
       "ethereum                         0.558692                    -0.054341   \n",
       "tether                          -0.021680                    -0.061030   \n",
       "ripple                           0.249458                    -0.050388   \n",
       "bitcoin-cash                     1.760610                     0.545842   \n",
       "\n",
       "              price_change_percentage_60d  price_change_percentage_200d  \\\n",
       "coin_id                                                                   \n",
       "bitcoin                         -0.067495                     -0.355953   \n",
       "ethereum                        -0.273483                     -0.115759   \n",
       "tether                           0.008005                     -0.550247   \n",
       "ripple                          -0.373164                     -0.458259   \n",
       "bitcoin-cash                    -0.291203                     -0.499848   \n",
       "\n",
       "              price_change_percentage_1y  \n",
       "coin_id                                   \n",
       "bitcoin                        -0.251637  \n",
       "ethereum                       -0.199352  \n",
       "tether                         -0.282061  \n",
       "ripple                         -0.295546  \n",
       "bitcoin-cash                   -0.270317  "
      ]
     },
     "execution_count": 6,
     "metadata": {},
     "output_type": "execute_result"
    }
   ],
   "source": [
    "# Create a DataFrame with the scaled data\n",
    "df_market_data_scaled = pd.DataFrame(\n",
    "    scaled_data,\n",
    "    columns=df_market_data.columns\n",
    ")\n",
    "\n",
    "# Copy the crypto names from the original data\n",
    "df_market_data_scaled[\"coin_id\"] = df_market_data.index\n",
    "\n",
    "# Set the coinid column as index\n",
    "df_market_data_scaled = df_market_data_scaled.set_index(\"coin_id\")\n",
    "\n",
    "# Display sample data\n",
    "df_market_data_scaled.head()"
   ]
  },
  {
   "cell_type": "markdown",
   "metadata": {},
   "source": [
    "---"
   ]
  },
  {
   "cell_type": "markdown",
   "metadata": {},
   "source": [
    "### Find the Best Value for k Using the Original Data."
   ]
  },
  {
   "cell_type": "code",
   "execution_count": null,
   "metadata": {},
   "outputs": [
    {
     "data": {
      "text/plain": [
       "[1, 2, 3, 4, 5, 6, 7, 8, 9, 10, 11]"
      ]
     },
     "execution_count": 7,
     "metadata": {},
     "output_type": "execute_result"
    }
   ],
   "source": [
    "# Create a list with the number of k-values from 1 to 11\n",
    "k = range(1,12)\n",
    "list(k)"
   ]
  },
  {
   "cell_type": "code",
   "execution_count": null,
   "metadata": {},
   "outputs": [
    {
     "data": {
      "text/plain": [
       "[286.99999999999994,\n",
       " 198.57181809798124,\n",
       " 123.19048183836955,\n",
       " 79.02243535120974,\n",
       " 64.12799653396947,\n",
       " 53.0577884656706,\n",
       " 44.120787369593934,\n",
       " 37.07823336746087,\n",
       " 32.42030804667696,\n",
       " 28.16543330597925,\n",
       " 23.890044355377945]"
      ]
     },
     "execution_count": 8,
     "metadata": {},
     "output_type": "execute_result"
    }
   ],
   "source": [
    "# Create an empty list to store the inertia values\n",
    "inertia = []\n",
    "\n",
    "# Create a for loop to compute the inertia with each possible value of k\n",
    "# Inside the loop:\n",
    "# 1. Create a KMeans model using the loop counter for the n_clusters\n",
    "# 2. Fit the model to the data using `df_market_data_scaled`\n",
    "# 3. Append the model.inertia_ to the inertia list\n",
    "for i in k:\n",
    "    model = KMeans(n_clusters=i)\n",
    "    model.fit(df_market_data_scaled)\n",
    "    inertia.append(model.inertia_)\n",
    "    \n",
    "inertia"
   ]
  },
  {
   "cell_type": "code",
   "execution_count": null,
   "metadata": {},
   "outputs": [
    {
     "data": {
      "text/html": [
       "<div>\n",
       "<style scoped>\n",
       "    .dataframe tbody tr th:only-of-type {\n",
       "        vertical-align: middle;\n",
       "    }\n",
       "\n",
       "    .dataframe tbody tr th {\n",
       "        vertical-align: top;\n",
       "    }\n",
       "\n",
       "    .dataframe thead th {\n",
       "        text-align: right;\n",
       "    }\n",
       "</style>\n",
       "<table border=\"1\" class=\"dataframe\">\n",
       "  <thead>\n",
       "    <tr style=\"text-align: right;\">\n",
       "      <th></th>\n",
       "      <th>k</th>\n",
       "      <th>inertia</th>\n",
       "    </tr>\n",
       "  </thead>\n",
       "  <tbody>\n",
       "    <tr>\n",
       "      <th>0</th>\n",
       "      <td>1</td>\n",
       "      <td>287.000000</td>\n",
       "    </tr>\n",
       "    <tr>\n",
       "      <th>1</th>\n",
       "      <td>2</td>\n",
       "      <td>198.571818</td>\n",
       "    </tr>\n",
       "    <tr>\n",
       "      <th>2</th>\n",
       "      <td>3</td>\n",
       "      <td>123.190482</td>\n",
       "    </tr>\n",
       "    <tr>\n",
       "      <th>3</th>\n",
       "      <td>4</td>\n",
       "      <td>79.022435</td>\n",
       "    </tr>\n",
       "    <tr>\n",
       "      <th>4</th>\n",
       "      <td>5</td>\n",
       "      <td>64.127997</td>\n",
       "    </tr>\n",
       "    <tr>\n",
       "      <th>5</th>\n",
       "      <td>6</td>\n",
       "      <td>53.057788</td>\n",
       "    </tr>\n",
       "    <tr>\n",
       "      <th>6</th>\n",
       "      <td>7</td>\n",
       "      <td>44.120787</td>\n",
       "    </tr>\n",
       "    <tr>\n",
       "      <th>7</th>\n",
       "      <td>8</td>\n",
       "      <td>37.078233</td>\n",
       "    </tr>\n",
       "    <tr>\n",
       "      <th>8</th>\n",
       "      <td>9</td>\n",
       "      <td>32.420308</td>\n",
       "    </tr>\n",
       "    <tr>\n",
       "      <th>9</th>\n",
       "      <td>10</td>\n",
       "      <td>28.165433</td>\n",
       "    </tr>\n",
       "    <tr>\n",
       "      <th>10</th>\n",
       "      <td>11</td>\n",
       "      <td>23.890044</td>\n",
       "    </tr>\n",
       "  </tbody>\n",
       "</table>\n",
       "</div>"
      ],
      "text/plain": [
       "     k     inertia\n",
       "0    1  287.000000\n",
       "1    2  198.571818\n",
       "2    3  123.190482\n",
       "3    4   79.022435\n",
       "4    5   64.127997\n",
       "5    6   53.057788\n",
       "6    7   44.120787\n",
       "7    8   37.078233\n",
       "8    9   32.420308\n",
       "9   10   28.165433\n",
       "10  11   23.890044"
      ]
     },
     "execution_count": 9,
     "metadata": {},
     "output_type": "execute_result"
    }
   ],
   "source": [
    "# Create a dictionary with the data to plot the Elbow curve\n",
    "dic_inertia = {'k':k, 'inertia':inertia}\n",
    "\n",
    "# Create a DataFrame with the data to plot the Elbow curve\n",
    "inertia_df = pd.DataFrame(dic_inertia)\n",
    "\n",
    "inertia_df"
   ]
  },
  {
   "cell_type": "code",
   "execution_count": null,
   "metadata": {},
   "outputs": [
    {
     "data": {},
     "metadata": {},
     "output_type": "display_data"
    },
    {
     "data": {
      "application/vnd.holoviews_exec.v0+json": "",
      "text/html": [
       "<div id='1365'>\n",
       "  <div class=\"bk-root\" id=\"20d0aa84-9228-4cd8-a44a-3ff240a81360\" data-root-id=\"1365\"></div>\n",
       "</div>\n",
       "<script type=\"application/javascript\">(function(root) {\n",
       "  function embed_document(root) {\n",
       "    var docs_json = {\"8f4689bc-2605-44f8-bf05-ac95d495d8d3\":{\"defs\":[{\"extends\":null,\"module\":null,\"name\":\"ReactiveHTML1\",\"overrides\":[],\"properties\":[]},{\"extends\":null,\"module\":null,\"name\":\"FlexBox1\",\"overrides\":[],\"properties\":[{\"default\":\"flex-start\",\"kind\":null,\"name\":\"align_content\"},{\"default\":\"flex-start\",\"kind\":null,\"name\":\"align_items\"},{\"default\":\"row\",\"kind\":null,\"name\":\"flex_direction\"},{\"default\":\"wrap\",\"kind\":null,\"name\":\"flex_wrap\"},{\"default\":\"flex-start\",\"kind\":null,\"name\":\"justify_content\"}]},{\"extends\":null,\"module\":null,\"name\":\"GridStack1\",\"overrides\":[],\"properties\":[{\"default\":\"warn\",\"kind\":null,\"name\":\"mode\"},{\"default\":null,\"kind\":null,\"name\":\"ncols\"},{\"default\":null,\"kind\":null,\"name\":\"nrows\"},{\"default\":true,\"kind\":null,\"name\":\"allow_resize\"},{\"default\":true,\"kind\":null,\"name\":\"allow_drag\"},{\"default\":[],\"kind\":null,\"name\":\"state\"}]},{\"extends\":null,\"module\":null,\"name\":\"click1\",\"overrides\":[],\"properties\":[{\"default\":\"\",\"kind\":null,\"name\":\"terminal_output\"},{\"default\":\"\",\"kind\":null,\"name\":\"debug_name\"},{\"default\":0,\"kind\":null,\"name\":\"clears\"}]},{\"extends\":null,\"module\":null,\"name\":\"NotificationAreaBase1\",\"overrides\":[],\"properties\":[{\"default\":\"bottom-right\",\"kind\":null,\"name\":\"position\"},{\"default\":0,\"kind\":null,\"name\":\"_clear\"}]},{\"extends\":null,\"module\":null,\"name\":\"NotificationArea1\",\"overrides\":[],\"properties\":[{\"default\":[],\"kind\":null,\"name\":\"notifications\"},{\"default\":\"bottom-right\",\"kind\":null,\"name\":\"position\"},{\"default\":0,\"kind\":null,\"name\":\"_clear\"},{\"default\":[{\"background\":\"#ffc107\",\"icon\":{\"className\":\"fas fa-exclamation-triangle\",\"color\":\"white\",\"tagName\":\"i\"},\"type\":\"warning\"},{\"background\":\"#007bff\",\"icon\":{\"className\":\"fas fa-info-circle\",\"color\":\"white\",\"tagName\":\"i\"},\"type\":\"info\"}],\"kind\":null,\"name\":\"types\"}]},{\"extends\":null,\"module\":null,\"name\":\"Notification\",\"overrides\":[],\"properties\":[{\"default\":null,\"kind\":null,\"name\":\"background\"},{\"default\":3000,\"kind\":null,\"name\":\"duration\"},{\"default\":null,\"kind\":null,\"name\":\"icon\"},{\"default\":\"\",\"kind\":null,\"name\":\"message\"},{\"default\":null,\"kind\":null,\"name\":\"notification_type\"},{\"default\":false,\"kind\":null,\"name\":\"_destroyed\"}]},{\"extends\":null,\"module\":null,\"name\":\"TemplateActions1\",\"overrides\":[],\"properties\":[{\"default\":0,\"kind\":null,\"name\":\"open_modal\"},{\"default\":0,\"kind\":null,\"name\":\"close_modal\"}]},{\"extends\":null,\"module\":null,\"name\":\"MaterialTemplateActions1\",\"overrides\":[],\"properties\":[{\"default\":0,\"kind\":null,\"name\":\"open_modal\"},{\"default\":0,\"kind\":null,\"name\":\"close_modal\"}]}],\"roots\":{\"references\":[{\"attributes\":{\"margin\":[5,5,5,5],\"name\":\"HSpacer01258\",\"sizing_mode\":\"stretch_width\"},\"id\":\"1425\",\"type\":\"Spacer\"},{\"attributes\":{\"axis\":{\"id\":\"1383\"},\"coordinates\":null,\"dimension\":1,\"grid_line_color\":null,\"group\":null,\"ticker\":null},\"id\":\"1386\",\"type\":\"Grid\"},{\"attributes\":{},\"id\":\"1377\",\"type\":\"LinearScale\"},{\"attributes\":{\"bottom_units\":\"screen\",\"coordinates\":null,\"fill_alpha\":0.5,\"fill_color\":\"lightgrey\",\"group\":null,\"left_units\":\"screen\",\"level\":\"overlay\",\"line_alpha\":1.0,\"line_color\":\"black\",\"line_dash\":[4,4],\"line_width\":2,\"right_units\":\"screen\",\"syncable\":false,\"top_units\":\"screen\"},\"id\":\"1392\",\"type\":\"BoxAnnotation\"},{\"attributes\":{\"end\":11.0,\"reset_end\":11.0,\"reset_start\":1.0,\"start\":1.0,\"tags\":[[[\"k\",\"k\",null]]]},\"id\":\"1367\",\"type\":\"Range1d\"},{\"attributes\":{\"axis_label\":\"Number of Clusters (k)\",\"coordinates\":null,\"formatter\":{\"id\":\"1410\"},\"group\":null,\"major_label_policy\":{\"id\":\"1411\"},\"ticker\":{\"id\":\"1380\"}},\"id\":\"1379\",\"type\":\"LinearAxis\"},{\"attributes\":{},\"id\":\"1401\",\"type\":\"Selection\"},{\"attributes\":{},\"id\":\"1414\",\"type\":\"AllLabels\"},{\"attributes\":{},\"id\":\"1380\",\"type\":\"BasicTicker\"},{\"attributes\":{\"axis\":{\"id\":\"1379\"},\"coordinates\":null,\"grid_line_color\":null,\"group\":null,\"ticker\":null},\"id\":\"1382\",\"type\":\"Grid\"},{\"attributes\":{},\"id\":\"1411\",\"type\":\"AllLabels\"},{\"attributes\":{},\"id\":\"1384\",\"type\":\"BasicTicker\"},{\"attributes\":{},\"id\":\"1410\",\"type\":\"BasicTickFormatter\"},{\"attributes\":{\"tools\":[{\"id\":\"1369\"},{\"id\":\"1387\"},{\"id\":\"1388\"},{\"id\":\"1389\"},{\"id\":\"1390\"},{\"id\":\"1391\"}]},\"id\":\"1393\",\"type\":\"Toolbar\"},{\"attributes\":{\"axis_label\":\"Inertia (units)\",\"coordinates\":null,\"formatter\":{\"id\":\"1413\"},\"group\":null,\"major_label_policy\":{\"id\":\"1414\"},\"ticker\":{\"id\":\"1384\"}},\"id\":\"1383\",\"type\":\"LinearAxis\"},{\"attributes\":{},\"id\":\"1422\",\"type\":\"UnionRenderers\"},{\"attributes\":{\"children\":[{\"id\":\"1366\"},{\"id\":\"1370\"},{\"id\":\"1425\"}],\"margin\":[0,0,0,0],\"name\":\"Row01253\",\"tags\":[\"embedded\"]},\"id\":\"1365\",\"type\":\"Row\"},{\"attributes\":{\"end\":313.31099556446213,\"reset_end\":313.31099556446213,\"reset_start\":-2.420951209084258,\"start\":-2.420951209084258,\"tags\":[[[\"inertia\",\"inertia\",null]]]},\"id\":\"1368\",\"type\":\"Range1d\"},{\"attributes\":{\"coordinates\":null,\"data_source\":{\"id\":\"1400\"},\"glyph\":{\"id\":\"1403\"},\"group\":null,\"hover_glyph\":null,\"muted_glyph\":{\"id\":\"1405\"},\"nonselection_glyph\":{\"id\":\"1404\"},\"selection_glyph\":{\"id\":\"1408\"},\"view\":{\"id\":\"1407\"}},\"id\":\"1406\",\"type\":\"GlyphRenderer\"},{\"attributes\":{\"line_alpha\":0.1,\"line_color\":\"#30a2da\",\"line_width\":2,\"x\":{\"field\":\"k\"},\"y\":{\"field\":\"inertia\"}},\"id\":\"1404\",\"type\":\"Line\"},{\"attributes\":{\"line_alpha\":0.2,\"line_color\":\"#30a2da\",\"line_width\":2,\"x\":{\"field\":\"k\"},\"y\":{\"field\":\"inertia\"}},\"id\":\"1405\",\"type\":\"Line\"},{\"attributes\":{\"source\":{\"id\":\"1400\"}},\"id\":\"1407\",\"type\":\"CDSView\"},{\"attributes\":{\"line_color\":\"#30a2da\",\"line_width\":2,\"x\":{\"field\":\"k\"},\"y\":{\"field\":\"inertia\"}},\"id\":\"1403\",\"type\":\"Line\"},{\"attributes\":{\"callback\":null,\"renderers\":[{\"id\":\"1406\"}],\"tags\":[\"hv_created\"],\"tooltips\":[[\"k\",\"@{k}\"],[\"inertia\",\"@{inertia}\"]]},\"id\":\"1369\",\"type\":\"HoverTool\"},{\"attributes\":{},\"id\":\"1387\",\"type\":\"SaveTool\"},{\"attributes\":{\"data\":{\"inertia\":{\"__ndarray__\":\"///////vcUDkwndVTNJoQN6RvNowzF5AFu6ulG/BU0Cd2V8YMQhQQBQSyZxlh0pAgRbl9XUPRkCmWQ2NA4pCQJFccafMNUBAnNlO1lkqPEByVmby2eM3QA==\",\"dtype\":\"float64\",\"order\":\"little\",\"shape\":[11]},\"k\":[1,2,3,4,5,6,7,8,9,10,11]},\"selected\":{\"id\":\"1401\"},\"selection_policy\":{\"id\":\"1422\"}},\"id\":\"1400\",\"type\":\"ColumnDataSource\"},{\"attributes\":{\"below\":[{\"id\":\"1379\"}],\"center\":[{\"id\":\"1382\"},{\"id\":\"1386\"}],\"height\":300,\"left\":[{\"id\":\"1383\"}],\"margin\":[5,5,5,5],\"min_border_bottom\":10,\"min_border_left\":10,\"min_border_right\":10,\"min_border_top\":10,\"renderers\":[{\"id\":\"1406\"}],\"sizing_mode\":\"fixed\",\"title\":{\"id\":\"1371\"},\"toolbar\":{\"id\":\"1393\"},\"width\":700,\"x_range\":{\"id\":\"1367\"},\"x_scale\":{\"id\":\"1375\"},\"y_range\":{\"id\":\"1368\"},\"y_scale\":{\"id\":\"1377\"}},\"id\":\"1370\",\"subtype\":\"Figure\",\"type\":\"Plot\"},{\"attributes\":{},\"id\":\"1388\",\"type\":\"PanTool\"},{\"attributes\":{},\"id\":\"1413\",\"type\":\"BasicTickFormatter\"},{\"attributes\":{},\"id\":\"1389\",\"type\":\"WheelZoomTool\"},{\"attributes\":{\"margin\":[5,5,5,5],\"name\":\"HSpacer01257\",\"sizing_mode\":\"stretch_width\"},\"id\":\"1366\",\"type\":\"Spacer\"},{\"attributes\":{},\"id\":\"1391\",\"type\":\"ResetTool\"},{\"attributes\":{\"overlay\":{\"id\":\"1392\"}},\"id\":\"1390\",\"type\":\"BoxZoomTool\"},{\"attributes\":{\"line_color\":\"#30a2da\",\"line_width\":2,\"x\":{\"field\":\"k\"},\"y\":{\"field\":\"inertia\"}},\"id\":\"1408\",\"type\":\"Line\"},{\"attributes\":{},\"id\":\"1375\",\"type\":\"LinearScale\"},{\"attributes\":{\"coordinates\":null,\"group\":null,\"text\":\"Standarized Performance Data: Inertia versus Number of Clusters\",\"text_color\":\"black\",\"text_font_size\":\"12pt\"},\"id\":\"1371\",\"type\":\"Title\"}],\"root_ids\":[\"1365\"]},\"title\":\"Bokeh Application\",\"version\":\"2.4.3\"}};\n",
       "    var render_items = [{\"docid\":\"8f4689bc-2605-44f8-bf05-ac95d495d8d3\",\"root_ids\":[\"1365\"],\"roots\":{\"1365\":\"20d0aa84-9228-4cd8-a44a-3ff240a81360\"}}];\n",
       "    root.Bokeh.embed.embed_items_notebook(docs_json, render_items);\n",
       "    for (const render_item of render_items) {\n",
       "      for (const root_id of render_item.root_ids) {\n",
       "\tconst id_el = document.getElementById(root_id)\n",
       "\tif (id_el.children.length && (id_el.children[0].className === 'bk-root')) {\n",
       "\t  const root_el = id_el.children[0]\n",
       "\t  root_el.id = root_el.id + '-rendered'\n",
       "\t}\n",
       "      }\n",
       "    }\n",
       "  }\n",
       "  if (root.Bokeh !== undefined && root.Bokeh.Panel !== undefined) {\n",
       "    embed_document(root);\n",
       "  } else {\n",
       "    var attempts = 0;\n",
       "    var timer = setInterval(function(root) {\n",
       "      if (root.Bokeh !== undefined && root.Bokeh.Panel !== undefined) {\n",
       "        clearInterval(timer);\n",
       "        embed_document(root);\n",
       "      } else if (document.readyState == \"complete\") {\n",
       "        attempts++;\n",
       "        if (attempts > 200) {\n",
       "          clearInterval(timer);\n",
       "          console.log(\"Bokeh: ERROR: Unable to run BokehJS code because BokehJS library is missing\");\n",
       "        }\n",
       "      }\n",
       "    }, 25, root)\n",
       "  }\n",
       "})(window);</script>"
      ],
      "text/plain": [
       ":Curve   [k]   (inertia)"
      ]
     },
     "execution_count": 10,
     "metadata": {
      "application/vnd.holoviews_exec.v0+json": {
       "id": "1365"
      }
     },
     "output_type": "execute_result"
    }
   ],
   "source": [
    "# Plot a line chart with all the inertia values computed with \n",
    "# the different values of k to visually identify the optimal value for k.\n",
    "original_inertia_plot=inertia_df.hvplot(\n",
    "    x      = 'k',\n",
    "    y      = 'inertia',\n",
    "    title  = 'Standarized Performance Data: Inertia versus Number of Clusters',\n",
    "    xlabel = 'Number of Clusters (k)',\n",
    "    ylabel = 'Inertia (units)'\n",
    ")\n",
    "original_inertia_plot"
   ]
  },
  {
   "attachments": {},
   "cell_type": "markdown",
   "metadata": {},
   "source": [
    "#### Answer the following question: \n",
    "\n",
    "**Question:** What is the best value for `k`?\n",
    "\n",
    "**Answer:** \n",
    "k=4 is the best choice. This, because:\n",
    "* with k=4 we get a significant inertia reduction from 123 in k=3 to 79 in k=4. After that, reductions do not improve in more than 16 inertia units.  \n",
    "* Graphically, the elbow on k=4 is also noticeable, because after k=4 the inertia start decreasing in a close to linear fashion.\n"
   ]
  },
  {
   "cell_type": "markdown",
   "metadata": {},
   "source": [
    "---"
   ]
  },
  {
   "cell_type": "markdown",
   "metadata": {},
   "source": [
    "### Cluster Cryptocurrencies with K-means Using the Original Data"
   ]
  },
  {
   "cell_type": "code",
   "execution_count": null,
   "metadata": {},
   "outputs": [],
   "source": [
    "# Initialize the K-Means model using the best value for k\n",
    "model = KMeans(n_clusters=4)"
   ]
  },
  {
   "cell_type": "code",
   "execution_count": null,
   "metadata": {},
   "outputs": [
    {
     "data": {
      "text/plain": [
       "KMeans(n_clusters=4)"
      ]
     },
     "execution_count": 12,
     "metadata": {},
     "output_type": "execute_result"
    }
   ],
   "source": [
    "# Fit the K-Means model using the scaled data\n",
    "model.fit(df_market_data_scaled)"
   ]
  },
  {
   "cell_type": "code",
   "execution_count": null,
   "metadata": {},
   "outputs": [
    {
     "name": "stdout",
     "output_type": "stream",
     "text": [
      "[3 3 0 0 3 3 3 3 3 0 0 0 0 3 0 3 0 0 3 0 0 3 0 0 0 0 0 0 3 0 0 0 1 3 0 0 2\n",
      " 0 0 0 0]\n"
     ]
    }
   ],
   "source": [
    "# Predict the clusters to group the cryptocurrencies using the scaled data\n",
    "clusters = model.predict(df_market_data_scaled)\n",
    "\n",
    "# Print the resulting array of cluster values.\n",
    "print(clusters)"
   ]
  },
  {
   "cell_type": "code",
   "execution_count": null,
   "metadata": {},
   "outputs": [],
   "source": [
    "# Create a copy of the DataFrame\n",
    "df_clusters_predicted = df_market_data_scaled.copy()"
   ]
  },
  {
   "cell_type": "code",
   "execution_count": null,
   "metadata": {},
   "outputs": [
    {
     "data": {
      "text/html": [
       "<div>\n",
       "<style scoped>\n",
       "    .dataframe tbody tr th:only-of-type {\n",
       "        vertical-align: middle;\n",
       "    }\n",
       "\n",
       "    .dataframe tbody tr th {\n",
       "        vertical-align: top;\n",
       "    }\n",
       "\n",
       "    .dataframe thead th {\n",
       "        text-align: right;\n",
       "    }\n",
       "</style>\n",
       "<table border=\"1\" class=\"dataframe\">\n",
       "  <thead>\n",
       "    <tr style=\"text-align: right;\">\n",
       "      <th></th>\n",
       "      <th>price_change_percentage_24h</th>\n",
       "      <th>price_change_percentage_7d</th>\n",
       "      <th>price_change_percentage_14d</th>\n",
       "      <th>price_change_percentage_30d</th>\n",
       "      <th>price_change_percentage_60d</th>\n",
       "      <th>price_change_percentage_200d</th>\n",
       "      <th>price_change_percentage_1y</th>\n",
       "      <th>cluster_original</th>\n",
       "    </tr>\n",
       "    <tr>\n",
       "      <th>coin_id</th>\n",
       "      <th></th>\n",
       "      <th></th>\n",
       "      <th></th>\n",
       "      <th></th>\n",
       "      <th></th>\n",
       "      <th></th>\n",
       "      <th></th>\n",
       "      <th></th>\n",
       "    </tr>\n",
       "  </thead>\n",
       "  <tbody>\n",
       "    <tr>\n",
       "      <th>bitcoin</th>\n",
       "      <td>0.508529</td>\n",
       "      <td>0.493193</td>\n",
       "      <td>0.772200</td>\n",
       "      <td>0.235460</td>\n",
       "      <td>-0.067495</td>\n",
       "      <td>-0.355953</td>\n",
       "      <td>-0.251637</td>\n",
       "      <td>3</td>\n",
       "    </tr>\n",
       "    <tr>\n",
       "      <th>ethereum</th>\n",
       "      <td>0.185446</td>\n",
       "      <td>0.934445</td>\n",
       "      <td>0.558692</td>\n",
       "      <td>-0.054341</td>\n",
       "      <td>-0.273483</td>\n",
       "      <td>-0.115759</td>\n",
       "      <td>-0.199352</td>\n",
       "      <td>3</td>\n",
       "    </tr>\n",
       "    <tr>\n",
       "      <th>tether</th>\n",
       "      <td>0.021774</td>\n",
       "      <td>-0.706337</td>\n",
       "      <td>-0.021680</td>\n",
       "      <td>-0.061030</td>\n",
       "      <td>0.008005</td>\n",
       "      <td>-0.550247</td>\n",
       "      <td>-0.282061</td>\n",
       "      <td>0</td>\n",
       "    </tr>\n",
       "    <tr>\n",
       "      <th>ripple</th>\n",
       "      <td>-0.040764</td>\n",
       "      <td>-0.810928</td>\n",
       "      <td>0.249458</td>\n",
       "      <td>-0.050388</td>\n",
       "      <td>-0.373164</td>\n",
       "      <td>-0.458259</td>\n",
       "      <td>-0.295546</td>\n",
       "      <td>0</td>\n",
       "    </tr>\n",
       "    <tr>\n",
       "      <th>bitcoin-cash</th>\n",
       "      <td>1.193036</td>\n",
       "      <td>2.000959</td>\n",
       "      <td>1.760610</td>\n",
       "      <td>0.545842</td>\n",
       "      <td>-0.291203</td>\n",
       "      <td>-0.499848</td>\n",
       "      <td>-0.270317</td>\n",
       "      <td>3</td>\n",
       "    </tr>\n",
       "  </tbody>\n",
       "</table>\n",
       "</div>"
      ],
      "text/plain": [
       "              price_change_percentage_24h  price_change_percentage_7d  \\\n",
       "coin_id                                                                 \n",
       "bitcoin                          0.508529                    0.493193   \n",
       "ethereum                         0.185446                    0.934445   \n",
       "tether                           0.021774                   -0.706337   \n",
       "ripple                          -0.040764                   -0.810928   \n",
       "bitcoin-cash                     1.193036                    2.000959   \n",
       "\n",
       "              price_change_percentage_14d  price_change_percentage_30d  \\\n",
       "coin_id                                                                  \n",
       "bitcoin                          0.772200                     0.235460   \n",
       "ethereum                         0.558692                    -0.054341   \n",
       "tether                          -0.021680                    -0.061030   \n",
       "ripple                           0.249458                    -0.050388   \n",
       "bitcoin-cash                     1.760610                     0.545842   \n",
       "\n",
       "              price_change_percentage_60d  price_change_percentage_200d  \\\n",
       "coin_id                                                                   \n",
       "bitcoin                         -0.067495                     -0.355953   \n",
       "ethereum                        -0.273483                     -0.115759   \n",
       "tether                           0.008005                     -0.550247   \n",
       "ripple                          -0.373164                     -0.458259   \n",
       "bitcoin-cash                    -0.291203                     -0.499848   \n",
       "\n",
       "              price_change_percentage_1y  cluster_original  \n",
       "coin_id                                                     \n",
       "bitcoin                        -0.251637                 3  \n",
       "ethereum                       -0.199352                 3  \n",
       "tether                         -0.282061                 0  \n",
       "ripple                         -0.295546                 0  \n",
       "bitcoin-cash                   -0.270317                 3  "
      ]
     },
     "execution_count": 24,
     "metadata": {},
     "output_type": "execute_result"
    }
   ],
   "source": [
    "# Add a new column to the DataFrame with the predicted clusters\n",
    "df_clusters_predicted['cluster_original'] = clusters\n",
    "\n",
    "# Display sample data\n",
    "df_clusters_predicted.head()"
   ]
  },
  {
   "cell_type": "code",
   "execution_count": null,
   "metadata": {},
   "outputs": [
    {
     "data": {},
     "metadata": {},
     "output_type": "display_data"
    },
    {
     "data": {
      "application/vnd.holoviews_exec.v0+json": "",
      "text/html": [
       "<div id='1712'>\n",
       "  <div class=\"bk-root\" id=\"77391795-06d4-4d1e-8886-5d361ca6593c\" data-root-id=\"1712\"></div>\n",
       "</div>\n",
       "<script type=\"application/javascript\">(function(root) {\n",
       "  function embed_document(root) {\n",
       "    var docs_json = {\"5782fa24-dd21-4609-93f8-648c5b142c96\":{\"defs\":[{\"extends\":null,\"module\":null,\"name\":\"ReactiveHTML1\",\"overrides\":[],\"properties\":[]},{\"extends\":null,\"module\":null,\"name\":\"FlexBox1\",\"overrides\":[],\"properties\":[{\"default\":\"flex-start\",\"kind\":null,\"name\":\"align_content\"},{\"default\":\"flex-start\",\"kind\":null,\"name\":\"align_items\"},{\"default\":\"row\",\"kind\":null,\"name\":\"flex_direction\"},{\"default\":\"wrap\",\"kind\":null,\"name\":\"flex_wrap\"},{\"default\":\"flex-start\",\"kind\":null,\"name\":\"justify_content\"}]},{\"extends\":null,\"module\":null,\"name\":\"GridStack1\",\"overrides\":[],\"properties\":[{\"default\":\"warn\",\"kind\":null,\"name\":\"mode\"},{\"default\":null,\"kind\":null,\"name\":\"ncols\"},{\"default\":null,\"kind\":null,\"name\":\"nrows\"},{\"default\":true,\"kind\":null,\"name\":\"allow_resize\"},{\"default\":true,\"kind\":null,\"name\":\"allow_drag\"},{\"default\":[],\"kind\":null,\"name\":\"state\"}]},{\"extends\":null,\"module\":null,\"name\":\"click1\",\"overrides\":[],\"properties\":[{\"default\":\"\",\"kind\":null,\"name\":\"terminal_output\"},{\"default\":\"\",\"kind\":null,\"name\":\"debug_name\"},{\"default\":0,\"kind\":null,\"name\":\"clears\"}]},{\"extends\":null,\"module\":null,\"name\":\"NotificationAreaBase1\",\"overrides\":[],\"properties\":[{\"default\":\"bottom-right\",\"kind\":null,\"name\":\"position\"},{\"default\":0,\"kind\":null,\"name\":\"_clear\"}]},{\"extends\":null,\"module\":null,\"name\":\"NotificationArea1\",\"overrides\":[],\"properties\":[{\"default\":[],\"kind\":null,\"name\":\"notifications\"},{\"default\":\"bottom-right\",\"kind\":null,\"name\":\"position\"},{\"default\":0,\"kind\":null,\"name\":\"_clear\"},{\"default\":[{\"background\":\"#ffc107\",\"icon\":{\"className\":\"fas fa-exclamation-triangle\",\"color\":\"white\",\"tagName\":\"i\"},\"type\":\"warning\"},{\"background\":\"#007bff\",\"icon\":{\"className\":\"fas fa-info-circle\",\"color\":\"white\",\"tagName\":\"i\"},\"type\":\"info\"}],\"kind\":null,\"name\":\"types\"}]},{\"extends\":null,\"module\":null,\"name\":\"Notification\",\"overrides\":[],\"properties\":[{\"default\":null,\"kind\":null,\"name\":\"background\"},{\"default\":3000,\"kind\":null,\"name\":\"duration\"},{\"default\":null,\"kind\":null,\"name\":\"icon\"},{\"default\":\"\",\"kind\":null,\"name\":\"message\"},{\"default\":null,\"kind\":null,\"name\":\"notification_type\"},{\"default\":false,\"kind\":null,\"name\":\"_destroyed\"}]},{\"extends\":null,\"module\":null,\"name\":\"TemplateActions1\",\"overrides\":[],\"properties\":[{\"default\":0,\"kind\":null,\"name\":\"open_modal\"},{\"default\":0,\"kind\":null,\"name\":\"close_modal\"}]},{\"extends\":null,\"module\":null,\"name\":\"MaterialTemplateActions1\",\"overrides\":[],\"properties\":[{\"default\":0,\"kind\":null,\"name\":\"open_modal\"},{\"default\":0,\"kind\":null,\"name\":\"close_modal\"}]}],\"roots\":{\"references\":[{\"attributes\":{},\"id\":\"1844\",\"type\":\"UnionRenderers\"},{\"attributes\":{\"fill_alpha\":{\"value\":0.1},\"fill_color\":{\"value\":\"#e5ae38\"},\"hatch_alpha\":{\"value\":0.1},\"hatch_color\":{\"value\":\"#e5ae38\"},\"line_alpha\":{\"value\":0.1},\"line_color\":{\"value\":\"#e5ae38\"},\"size\":{\"value\":5.477225575051661},\"x\":{\"field\":\"price_change_percentage_14d\"},\"y\":{\"field\":\"price_change_percentage_1y\"}},\"id\":\"1803\",\"type\":\"Scatter\"},{\"attributes\":{\"coordinates\":null,\"data_source\":{\"id\":\"1756\"},\"glyph\":{\"id\":\"1759\"},\"group\":null,\"hover_glyph\":null,\"muted_glyph\":{\"id\":\"1761\"},\"nonselection_glyph\":{\"id\":\"1760\"},\"selection_glyph\":{\"id\":\"1776\"},\"view\":{\"id\":\"1763\"}},\"id\":\"1762\",\"type\":\"GlyphRenderer\"},{\"attributes\":{\"fill_alpha\":{\"value\":0.2},\"fill_color\":{\"value\":\"#e5ae38\"},\"hatch_alpha\":{\"value\":0.2},\"hatch_color\":{\"value\":\"#e5ae38\"},\"line_alpha\":{\"value\":0.2},\"line_color\":{\"value\":\"#e5ae38\"},\"size\":{\"value\":5.477225575051661},\"x\":{\"field\":\"price_change_percentage_14d\"},\"y\":{\"field\":\"price_change_percentage_1y\"}},\"id\":\"1804\",\"type\":\"Scatter\"},{\"attributes\":{\"source\":{\"id\":\"1799\"}},\"id\":\"1806\",\"type\":\"CDSView\"},{\"attributes\":{},\"id\":\"1771\",\"type\":\"UnionRenderers\"},{\"attributes\":{\"end\":3.126660870907022,\"reset_end\":3.126660870907022,\"reset_start\":-2.436715049554743,\"start\":-2.436715049554743,\"tags\":[[[\"price_change_percentage_14d\",\"price_change_percentage_14d\",null]]]},\"id\":\"1714\",\"type\":\"Range1d\"},{\"attributes\":{},\"id\":\"1737\",\"type\":\"SaveTool\"},{\"attributes\":{},\"id\":\"1738\",\"type\":\"PanTool\"},{\"attributes\":{},\"id\":\"1739\",\"type\":\"WheelZoomTool\"},{\"attributes\":{},\"id\":\"1818\",\"type\":\"UnionRenderers\"},{\"attributes\":{\"margin\":[5,5,5,5],\"name\":\"HSpacer01684\",\"sizing_mode\":\"stretch_width\"},\"id\":\"1713\",\"type\":\"Spacer\"},{\"attributes\":{\"tools\":[{\"id\":\"1716\"},{\"id\":\"1737\"},{\"id\":\"1738\"},{\"id\":\"1739\"},{\"id\":\"1740\"},{\"id\":\"1741\"}]},\"id\":\"1743\",\"type\":\"Toolbar\"},{\"attributes\":{\"callback\":null,\"renderers\":[{\"id\":\"1762\"},{\"id\":\"1783\"},{\"id\":\"1805\"},{\"id\":\"1829\"}],\"tags\":[\"hv_created\"],\"tooltips\":[[\"cluster_original\",\"@{cluster_original}\"],[\"price_change_percentage_14d\",\"@{price_change_percentage_14d}\"],[\"price_change_percentage_1y\",\"@{price_change_percentage_1y}\"],[\"coin_id\",\"@{coin_id}\"]]},\"id\":\"1716\",\"type\":\"HoverTool\"},{\"attributes\":{\"children\":[{\"id\":\"1713\"},{\"id\":\"1720\"},{\"id\":\"1865\"}],\"margin\":[0,0,0,0],\"name\":\"Row01680\",\"tags\":[\"embedded\"]},\"id\":\"1712\",\"type\":\"Row\"},{\"attributes\":{\"overlay\":{\"id\":\"1742\"}},\"id\":\"1740\",\"type\":\"BoxZoomTool\"},{\"attributes\":{\"label\":{\"value\":\"2\"},\"renderers\":[{\"id\":\"1805\"}]},\"id\":\"1821\",\"type\":\"LegendItem\"},{\"attributes\":{\"coordinates\":null,\"data_source\":{\"id\":\"1799\"},\"glyph\":{\"id\":\"1802\"},\"group\":null,\"hover_glyph\":null,\"muted_glyph\":{\"id\":\"1804\"},\"nonselection_glyph\":{\"id\":\"1803\"},\"selection_glyph\":{\"id\":\"1822\"},\"view\":{\"id\":\"1806\"}},\"id\":\"1805\",\"type\":\"GlyphRenderer\"},{\"attributes\":{\"fill_color\":{\"value\":\"#30a2da\"},\"hatch_color\":{\"value\":\"#30a2da\"},\"line_color\":{\"value\":\"#30a2da\"},\"size\":{\"value\":5.477225575051661},\"x\":{\"field\":\"price_change_percentage_14d\"},\"y\":{\"field\":\"price_change_percentage_1y\"}},\"id\":\"1759\",\"type\":\"Scatter\"},{\"attributes\":{\"end\":6.72712095745086,\"reset_end\":6.72712095745086,\"reset_start\":-0.9348250733816648,\"start\":-0.9348250733816648,\"tags\":[[[\"price_change_percentage_1y\",\"price_change_percentage_1y\",null]]]},\"id\":\"1715\",\"type\":\"Range1d\"},{\"attributes\":{\"data\":{\"cluster_original\":[1],\"coin_id\":[\"ethlend\"],\"price_change_percentage_14d\":{\"__ndarray__\":\"EjPPN7FP878=\",\"dtype\":\"float64\",\"order\":\"little\",\"shape\":[1]},\"price_change_percentage_1y\":{\"__ndarray__\":\"gzyZocBaGEA=\",\"dtype\":\"float64\",\"order\":\"little\",\"shape\":[1]}},\"selected\":{\"id\":\"1778\"},\"selection_policy\":{\"id\":\"1794\"}},\"id\":\"1777\",\"type\":\"ColumnDataSource\"},{\"attributes\":{},\"id\":\"1741\",\"type\":\"ResetTool\"},{\"attributes\":{\"margin\":[5,5,5,5],\"name\":\"HSpacer01685\",\"sizing_mode\":\"stretch_width\"},\"id\":\"1865\",\"type\":\"Spacer\"},{\"attributes\":{\"coordinates\":null,\"data_source\":{\"id\":\"1823\"},\"glyph\":{\"id\":\"1826\"},\"group\":null,\"hover_glyph\":null,\"muted_glyph\":{\"id\":\"1828\"},\"nonselection_glyph\":{\"id\":\"1827\"},\"selection_glyph\":{\"id\":\"1848\"},\"view\":{\"id\":\"1830\"}},\"id\":\"1829\",\"type\":\"GlyphRenderer\"},{\"attributes\":{\"bottom_units\":\"screen\",\"coordinates\":null,\"fill_alpha\":0.5,\"fill_color\":\"lightgrey\",\"group\":null,\"left_units\":\"screen\",\"level\":\"overlay\",\"line_alpha\":1.0,\"line_color\":\"black\",\"line_dash\":[4,4],\"line_width\":2,\"right_units\":\"screen\",\"syncable\":false,\"top_units\":\"screen\"},\"id\":\"1742\",\"type\":\"BoxAnnotation\"},{\"attributes\":{\"angle\":{\"value\":0.0},\"fill_alpha\":{\"value\":1.0},\"fill_color\":{\"value\":\"#e5ae38\"},\"hatch_alpha\":{\"value\":1.0},\"hatch_color\":{\"value\":\"#e5ae38\"},\"hatch_scale\":{\"value\":12.0},\"hatch_weight\":{\"value\":1.0},\"line_alpha\":{\"value\":1.0},\"line_cap\":{\"value\":\"butt\"},\"line_color\":{\"value\":\"#e5ae38\"},\"line_dash\":{\"value\":[]},\"line_dash_offset\":{\"value\":0},\"line_join\":{\"value\":\"bevel\"},\"line_width\":{\"value\":1},\"marker\":{\"value\":\"circle\"},\"size\":{\"value\":5.477225575051661},\"x\":{\"field\":\"price_change_percentage_14d\"},\"y\":{\"field\":\"price_change_percentage_1y\"}},\"id\":\"1822\",\"type\":\"Scatter\"},{\"attributes\":{\"click_policy\":\"mute\",\"coordinates\":null,\"group\":null,\"items\":[{\"id\":\"1775\"},{\"id\":\"1797\"},{\"id\":\"1821\"},{\"id\":\"1847\"}],\"location\":[0,0],\"title\":\"cluster_original\"},\"id\":\"1774\",\"type\":\"Legend\"},{\"attributes\":{\"fill_alpha\":{\"value\":0.1},\"fill_color\":{\"value\":\"#6d904f\"},\"hatch_alpha\":{\"value\":0.1},\"hatch_color\":{\"value\":\"#6d904f\"},\"line_alpha\":{\"value\":0.1},\"line_color\":{\"value\":\"#6d904f\"},\"size\":{\"value\":5.477225575051661},\"x\":{\"field\":\"price_change_percentage_14d\"},\"y\":{\"field\":\"price_change_percentage_1y\"}},\"id\":\"1827\",\"type\":\"Scatter\"},{\"attributes\":{\"fill_alpha\":{\"value\":0.2},\"fill_color\":{\"value\":\"#30a2da\"},\"hatch_alpha\":{\"value\":0.2},\"hatch_color\":{\"value\":\"#30a2da\"},\"line_alpha\":{\"value\":0.2},\"line_color\":{\"value\":\"#30a2da\"},\"size\":{\"value\":5.477225575051661},\"x\":{\"field\":\"price_change_percentage_14d\"},\"y\":{\"field\":\"price_change_percentage_1y\"}},\"id\":\"1761\",\"type\":\"Scatter\"},{\"attributes\":{},\"id\":\"1824\",\"type\":\"Selection\"},{\"attributes\":{\"source\":{\"id\":\"1756\"}},\"id\":\"1763\",\"type\":\"CDSView\"},{\"attributes\":{\"source\":{\"id\":\"1823\"}},\"id\":\"1830\",\"type\":\"CDSView\"},{\"attributes\":{\"label\":{\"value\":\"0\"},\"renderers\":[{\"id\":\"1762\"}]},\"id\":\"1775\",\"type\":\"LegendItem\"},{\"attributes\":{\"fill_alpha\":{\"value\":0.1},\"fill_color\":{\"value\":\"#30a2da\"},\"hatch_alpha\":{\"value\":0.1},\"hatch_color\":{\"value\":\"#30a2da\"},\"line_alpha\":{\"value\":0.1},\"line_color\":{\"value\":\"#30a2da\"},\"size\":{\"value\":5.477225575051661},\"x\":{\"field\":\"price_change_percentage_14d\"},\"y\":{\"field\":\"price_change_percentage_1y\"}},\"id\":\"1760\",\"type\":\"Scatter\"},{\"attributes\":{\"label\":{\"value\":\"3\"},\"renderers\":[{\"id\":\"1829\"}]},\"id\":\"1847\",\"type\":\"LegendItem\"},{\"attributes\":{},\"id\":\"1751\",\"type\":\"BasicTickFormatter\"},{\"attributes\":{\"fill_color\":{\"value\":\"#6d904f\"},\"hatch_color\":{\"value\":\"#6d904f\"},\"line_color\":{\"value\":\"#6d904f\"},\"size\":{\"value\":5.477225575051661},\"x\":{\"field\":\"price_change_percentage_14d\"},\"y\":{\"field\":\"price_change_percentage_1y\"}},\"id\":\"1826\",\"type\":\"Scatter\"},{\"attributes\":{\"data\":{\"cluster_original\":[0,0,0,0,0,0,0,0,0,0,0,0,0,0,0,0,0,0,0,0,0,0,0,0,0,0],\"coin_id\":[\"tether\",\"ripple\",\"bitcoin-cash-sv\",\"crypto-com-chain\",\"usd-coin\",\"eos\",\"tron\",\"okb\",\"stellar\",\"cdai\",\"neo\",\"leo-token\",\"huobi-token\",\"nem\",\"binance-usd\",\"iota\",\"vechain\",\"theta-token\",\"dash\",\"ethereum-classic\",\"havven\",\"omisego\",\"ontology\",\"ftx-token\",\"true-usd\",\"digibyte\"],\"price_change_percentage_14d\":{\"__ndarray__\":\"L3sBaGQzlr/L3F8oPe7PP3NjPGDhv8+/TLJsj1Hf8L+Va3M8HbKXv2U3cmQwcr0/fvuS3PnVwj9DVmWxpyjkvyKfjNZ4ncO/f94W1njBXb8A0bj4GGfzv1SDDY2/5uu/xd4oQb2moD9Ln4eDZwzTP0S7/nSKYI+/KswLTSmn3r+7kqAso7wBwNc2MV03JOq/Kbls7Q6ApD90cedROXjGvyrzUbHOD/q/Ol/1hYrq+b/cP0enpcj0v+lC29fyQqi/rjCfoLDSgr+uLyxJrgbtvw==\",\"dtype\":\"float64\",\"order\":\"little\",\"shape\":[26]},\"price_change_percentage_1y\":{\"__ndarray__\":\"0tbtgUcN0r9onRVeOurSv8DzHRIoX8q/ZYfU+i+zob9Zt1uMFxDSv9d+3k0Q99K/EJWswyz0zb8aTqSC/lzFv7zx0EUAVtG/r2LTfF0R0r/sbi65b3jGv4MlKg5a9tC/jZL+tujG0L8+5EUem4W+v7L3RgiwC9K/QBFeFIRC0r8zoGQ8RRO+vx0crWPUXdI/EKFv4Dku0r8VsZZ513nRv3r6/cSEMdE/58IWQ8Jplr9Y0yK6wrXSvxKiHMC8nsK/P3pCziMI0r/jEUnTKPXAvw==\",\"dtype\":\"float64\",\"order\":\"little\",\"shape\":[26]}},\"selected\":{\"id\":\"1757\"},\"selection_policy\":{\"id\":\"1771\"}},\"id\":\"1756\",\"type\":\"ColumnDataSource\"},{\"attributes\":{\"fill_alpha\":{\"value\":0.2},\"fill_color\":{\"value\":\"#fc4f30\"},\"hatch_alpha\":{\"value\":0.2},\"hatch_color\":{\"value\":\"#fc4f30\"},\"line_alpha\":{\"value\":0.2},\"line_color\":{\"value\":\"#fc4f30\"},\"size\":{\"value\":5.477225575051661},\"x\":{\"field\":\"price_change_percentage_14d\"},\"y\":{\"field\":\"price_change_percentage_1y\"}},\"id\":\"1782\",\"type\":\"Scatter\"},{\"attributes\":{},\"id\":\"1755\",\"type\":\"AllLabels\"},{\"attributes\":{\"fill_alpha\":{\"value\":0.2},\"fill_color\":{\"value\":\"#6d904f\"},\"hatch_alpha\":{\"value\":0.2},\"hatch_color\":{\"value\":\"#6d904f\"},\"line_alpha\":{\"value\":0.2},\"line_color\":{\"value\":\"#6d904f\"},\"size\":{\"value\":5.477225575051661},\"x\":{\"field\":\"price_change_percentage_14d\"},\"y\":{\"field\":\"price_change_percentage_1y\"}},\"id\":\"1828\",\"type\":\"Scatter\"},{\"attributes\":{\"coordinates\":null,\"data_source\":{\"id\":\"1777\"},\"glyph\":{\"id\":\"1780\"},\"group\":null,\"hover_glyph\":null,\"muted_glyph\":{\"id\":\"1782\"},\"nonselection_glyph\":{\"id\":\"1781\"},\"selection_glyph\":{\"id\":\"1798\"},\"view\":{\"id\":\"1784\"}},\"id\":\"1783\",\"type\":\"GlyphRenderer\"},{\"attributes\":{\"angle\":{\"value\":0.0},\"fill_alpha\":{\"value\":1.0},\"fill_color\":{\"value\":\"#30a2da\"},\"hatch_alpha\":{\"value\":1.0},\"hatch_color\":{\"value\":\"#30a2da\"},\"hatch_scale\":{\"value\":12.0},\"hatch_weight\":{\"value\":1.0},\"line_alpha\":{\"value\":1.0},\"line_cap\":{\"value\":\"butt\"},\"line_color\":{\"value\":\"#30a2da\"},\"line_dash\":{\"value\":[]},\"line_dash_offset\":{\"value\":0},\"line_join\":{\"value\":\"bevel\"},\"line_width\":{\"value\":1},\"marker\":{\"value\":\"circle\"},\"size\":{\"value\":5.477225575051661},\"x\":{\"field\":\"price_change_percentage_14d\"},\"y\":{\"field\":\"price_change_percentage_1y\"}},\"id\":\"1776\",\"type\":\"Scatter\"},{\"attributes\":{\"angle\":{\"value\":0.0},\"fill_alpha\":{\"value\":1.0},\"fill_color\":{\"value\":\"#fc4f30\"},\"hatch_alpha\":{\"value\":1.0},\"hatch_color\":{\"value\":\"#fc4f30\"},\"hatch_scale\":{\"value\":12.0},\"hatch_weight\":{\"value\":1.0},\"line_alpha\":{\"value\":1.0},\"line_cap\":{\"value\":\"butt\"},\"line_color\":{\"value\":\"#fc4f30\"},\"line_dash\":{\"value\":[]},\"line_dash_offset\":{\"value\":0},\"line_join\":{\"value\":\"bevel\"},\"line_width\":{\"value\":1},\"marker\":{\"value\":\"circle\"},\"size\":{\"value\":5.477225575051661},\"x\":{\"field\":\"price_change_percentage_14d\"},\"y\":{\"field\":\"price_change_percentage_1y\"}},\"id\":\"1798\",\"type\":\"Scatter\"},{\"attributes\":{\"fill_color\":{\"value\":\"#e5ae38\"},\"hatch_color\":{\"value\":\"#e5ae38\"},\"line_color\":{\"value\":\"#e5ae38\"},\"size\":{\"value\":5.477225575051661},\"x\":{\"field\":\"price_change_percentage_14d\"},\"y\":{\"field\":\"price_change_percentage_1y\"}},\"id\":\"1802\",\"type\":\"Scatter\"},{\"attributes\":{},\"id\":\"1754\",\"type\":\"BasicTickFormatter\"},{\"attributes\":{},\"id\":\"1778\",\"type\":\"Selection\"},{\"attributes\":{},\"id\":\"1725\",\"type\":\"LinearScale\"},{\"attributes\":{\"angle\":{\"value\":0.0},\"fill_alpha\":{\"value\":1.0},\"fill_color\":{\"value\":\"#6d904f\"},\"hatch_alpha\":{\"value\":1.0},\"hatch_color\":{\"value\":\"#6d904f\"},\"hatch_scale\":{\"value\":12.0},\"hatch_weight\":{\"value\":1.0},\"line_alpha\":{\"value\":1.0},\"line_cap\":{\"value\":\"butt\"},\"line_color\":{\"value\":\"#6d904f\"},\"line_dash\":{\"value\":[]},\"line_dash_offset\":{\"value\":0},\"line_join\":{\"value\":\"bevel\"},\"line_width\":{\"value\":1},\"marker\":{\"value\":\"circle\"},\"size\":{\"value\":5.477225575051661},\"x\":{\"field\":\"price_change_percentage_14d\"},\"y\":{\"field\":\"price_change_percentage_1y\"}},\"id\":\"1848\",\"type\":\"Scatter\"},{\"attributes\":{\"below\":[{\"id\":\"1729\"}],\"center\":[{\"id\":\"1732\"},{\"id\":\"1736\"}],\"height\":300,\"left\":[{\"id\":\"1733\"}],\"margin\":[5,5,5,5],\"min_border_bottom\":10,\"min_border_left\":10,\"min_border_right\":10,\"min_border_top\":10,\"renderers\":[{\"id\":\"1762\"},{\"id\":\"1783\"},{\"id\":\"1805\"},{\"id\":\"1829\"}],\"right\":[{\"id\":\"1774\"}],\"sizing_mode\":\"fixed\",\"title\":{\"id\":\"1721\"},\"toolbar\":{\"id\":\"1743\"},\"width\":700,\"x_range\":{\"id\":\"1714\"},\"x_scale\":{\"id\":\"1725\"},\"y_range\":{\"id\":\"1715\"},\"y_scale\":{\"id\":\"1727\"}},\"id\":\"1720\",\"subtype\":\"Figure\",\"type\":\"Plot\"},{\"attributes\":{},\"id\":\"1794\",\"type\":\"UnionRenderers\"},{\"attributes\":{\"coordinates\":null,\"group\":null,\"text\":\"Cryptocurrencies Standarized Returns. K-Mean Clusters with k=4.\",\"text_color\":\"black\",\"text_font_size\":\"12pt\"},\"id\":\"1721\",\"type\":\"Title\"},{\"attributes\":{\"label\":{\"value\":\"1\"},\"renderers\":[{\"id\":\"1783\"}]},\"id\":\"1797\",\"type\":\"LegendItem\"},{\"attributes\":{\"source\":{\"id\":\"1777\"}},\"id\":\"1784\",\"type\":\"CDSView\"},{\"attributes\":{\"data\":{\"cluster_original\":[2],\"coin_id\":[\"celsius-degree-token\"],\"price_change_percentage_14d\":{\"__ndarray__\":\"FFU2faVBB0A=\",\"dtype\":\"float64\",\"order\":\"little\",\"shape\":[1]},\"price_change_percentage_1y\":{\"__ndarray__\":\"OvTrj2iT9T8=\",\"dtype\":\"float64\",\"order\":\"little\",\"shape\":[1]}},\"selected\":{\"id\":\"1800\"},\"selection_policy\":{\"id\":\"1818\"}},\"id\":\"1799\",\"type\":\"ColumnDataSource\"},{\"attributes\":{\"axis\":{\"id\":\"1733\"},\"coordinates\":null,\"dimension\":1,\"grid_line_color\":null,\"group\":null,\"ticker\":null},\"id\":\"1736\",\"type\":\"Grid\"},{\"attributes\":{},\"id\":\"1727\",\"type\":\"LinearScale\"},{\"attributes\":{\"fill_alpha\":{\"value\":0.1},\"fill_color\":{\"value\":\"#fc4f30\"},\"hatch_alpha\":{\"value\":0.1},\"hatch_color\":{\"value\":\"#fc4f30\"},\"line_alpha\":{\"value\":0.1},\"line_color\":{\"value\":\"#fc4f30\"},\"size\":{\"value\":5.477225575051661},\"x\":{\"field\":\"price_change_percentage_14d\"},\"y\":{\"field\":\"price_change_percentage_1y\"}},\"id\":\"1781\",\"type\":\"Scatter\"},{\"attributes\":{\"axis_label\":\"price_change_percentage_14d\",\"coordinates\":null,\"formatter\":{\"id\":\"1751\"},\"group\":null,\"major_label_policy\":{\"id\":\"1752\"},\"ticker\":{\"id\":\"1730\"}},\"id\":\"1729\",\"type\":\"LinearAxis\"},{\"attributes\":{},\"id\":\"1730\",\"type\":\"BasicTicker\"},{\"attributes\":{\"fill_color\":{\"value\":\"#fc4f30\"},\"hatch_color\":{\"value\":\"#fc4f30\"},\"line_color\":{\"value\":\"#fc4f30\"},\"size\":{\"value\":5.477225575051661},\"x\":{\"field\":\"price_change_percentage_14d\"},\"y\":{\"field\":\"price_change_percentage_1y\"}},\"id\":\"1780\",\"type\":\"Scatter\"},{\"attributes\":{},\"id\":\"1752\",\"type\":\"AllLabels\"},{\"attributes\":{\"axis\":{\"id\":\"1729\"},\"coordinates\":null,\"grid_line_color\":null,\"group\":null,\"ticker\":null},\"id\":\"1732\",\"type\":\"Grid\"},{\"attributes\":{},\"id\":\"1734\",\"type\":\"BasicTicker\"},{\"attributes\":{\"axis_label\":\"price_change_percentage_1y\",\"coordinates\":null,\"formatter\":{\"id\":\"1754\"},\"group\":null,\"major_label_policy\":{\"id\":\"1755\"},\"ticker\":{\"id\":\"1734\"}},\"id\":\"1733\",\"type\":\"LinearAxis\"},{\"attributes\":{\"data\":{\"cluster_original\":[3,3,3,3,3,3,3,3,3,3,3,3,3],\"coin_id\":[\"bitcoin\",\"ethereum\",\"bitcoin-cash\",\"binancecoin\",\"chainlink\",\"cardano\",\"litecoin\",\"monero\",\"tezos\",\"cosmos\",\"wrapped-bitcoin\",\"zcash\",\"maker\"],\"price_change_percentage_14d\":{\"__ndarray__\":\"muLdrt216D+PSHVMzuDhP7gQi2Z1K/w/MGmtxlqb6T8Pp+OGWKDxPxTMkJqqw+Q/7P2Jpv546z+cw3/YDp8BQLcNxiFGg9A/52DgXhWY5D8wjSqEo6PoPwsFcdFXruU/AkzpMNDmyb8=\",\"dtype\":\"float64\",\"order\":\"little\",\"shape\":[13]},\"price_change_percentage_1y\":{\"__ndarray__\":\"ZIOvlNEa0L8+RW61XoTJvzHqfHffTNG/VVzrnEDezL8xTPVHJbmSv20aeg4U5cO/QqlS3eG10r+H6xnpXXXFv2O+GP+0kMW/vQghwWCLy7/FkSn9mBrQvxtcXcmAf8u/IdIwj+5/0b8=\",\"dtype\":\"float64\",\"order\":\"little\",\"shape\":[13]}},\"selected\":{\"id\":\"1824\"},\"selection_policy\":{\"id\":\"1844\"}},\"id\":\"1823\",\"type\":\"ColumnDataSource\"},{\"attributes\":{},\"id\":\"1757\",\"type\":\"Selection\"},{\"attributes\":{},\"id\":\"1800\",\"type\":\"Selection\"}],\"root_ids\":[\"1712\"]},\"title\":\"Bokeh Application\",\"version\":\"2.4.3\"}};\n",
       "    var render_items = [{\"docid\":\"5782fa24-dd21-4609-93f8-648c5b142c96\",\"root_ids\":[\"1712\"],\"roots\":{\"1712\":\"77391795-06d4-4d1e-8886-5d361ca6593c\"}}];\n",
       "    root.Bokeh.embed.embed_items_notebook(docs_json, render_items);\n",
       "    for (const render_item of render_items) {\n",
       "      for (const root_id of render_item.root_ids) {\n",
       "\tconst id_el = document.getElementById(root_id)\n",
       "\tif (id_el.children.length && (id_el.children[0].className === 'bk-root')) {\n",
       "\t  const root_el = id_el.children[0]\n",
       "\t  root_el.id = root_el.id + '-rendered'\n",
       "\t}\n",
       "      }\n",
       "    }\n",
       "  }\n",
       "  if (root.Bokeh !== undefined && root.Bokeh.Panel !== undefined) {\n",
       "    embed_document(root);\n",
       "  } else {\n",
       "    var attempts = 0;\n",
       "    var timer = setInterval(function(root) {\n",
       "      if (root.Bokeh !== undefined && root.Bokeh.Panel !== undefined) {\n",
       "        clearInterval(timer);\n",
       "        embed_document(root);\n",
       "      } else if (document.readyState == \"complete\") {\n",
       "        attempts++;\n",
       "        if (attempts > 200) {\n",
       "          clearInterval(timer);\n",
       "          console.log(\"Bokeh: ERROR: Unable to run BokehJS code because BokehJS library is missing\");\n",
       "        }\n",
       "      }\n",
       "    }, 25, root)\n",
       "  }\n",
       "})(window);</script>"
      ],
      "text/plain": [
       ":NdOverlay   [cluster_original]\n",
       "   :Scatter   [price_change_percentage_14d]   (price_change_percentage_1y,coin_id)"
      ]
     },
     "execution_count": 25,
     "metadata": {
      "application/vnd.holoviews_exec.v0+json": {
       "id": "1712"
      }
     },
     "output_type": "execute_result"
    }
   ],
   "source": [
    "# Create a scatter plot using hvPlot by setting \n",
    "# `x=\"price_change_percentage_24h\"` and `y=\"price_change_percentage_7d\"`. \n",
    "# Color the graph points with the labels found using K-Means and \n",
    "# add the crypto name in the `hover_cols` parameter to identify \n",
    "# the cryptocurrency represented by each data point.\n",
    "plot_original_clusters = df_clusters_predicted.hvplot.scatter(\n",
    "    x     = \"price_change_percentage_14d\", \n",
    "    y     = \"price_change_percentage_1y\", \n",
    "    by    = 'cluster_original',\n",
    "    title = \"Cryptocurrencies Standarized Returns. K-Mean Clusters with k=4.\",\n",
    "    hover_cols = 'coin_id'\n",
    ")\n",
    "plot_original_clusters"
   ]
  },
  {
   "cell_type": "markdown",
   "metadata": {},
   "source": [
    "---"
   ]
  },
  {
   "cell_type": "markdown",
   "metadata": {},
   "source": [
    "### Optimize Clusters with Principal Component Analysis."
   ]
  },
  {
   "cell_type": "code",
   "execution_count": null,
   "metadata": {},
   "outputs": [],
   "source": [
    "# Create a PCA model instance and set `n_components=3`.\n",
    "pca = PCA(n_components = 3)"
   ]
  },
  {
   "cell_type": "code",
   "execution_count": null,
   "metadata": {},
   "outputs": [
    {
     "data": {
      "text/plain": [
       "array([[ 2.05913887, -0.53668446, -0.43823774],\n",
       "       [ 1.95640089, -0.41082149, -1.0169655 ],\n",
       "       [-0.99014153, -0.45422783,  0.69002131],\n",
       "       [-0.9731886 , -0.49464992,  0.55123402],\n",
       "       [ 3.33036692, -1.02231141, -0.50134143]])"
      ]
     },
     "execution_count": 26,
     "metadata": {},
     "output_type": "execute_result"
    }
   ],
   "source": [
    "# Use the PCA model with `fit_transform` to reduce to \n",
    "# three principal components.\n",
    "market_data_pca = pca.fit_transform(df_market_data_scaled)\n",
    "\n",
    "# View the first five rows of the DataFrame. \n",
    "market_data_pca[0:5]"
   ]
  },
  {
   "cell_type": "code",
   "execution_count": null,
   "metadata": {},
   "outputs": [
    {
     "data": {
      "text/plain": [
       "array([0.38939231, 0.29166039, 0.20810061])"
      ]
     },
     "execution_count": 28,
     "metadata": {},
     "output_type": "execute_result"
    }
   ],
   "source": [
    "# Retrieve the explained variance to determine how much information \n",
    "# can be attributed to each principal component.\n",
    "pca.explained_variance_ratio_"
   ]
  },
  {
   "attachments": {},
   "cell_type": "markdown",
   "metadata": {},
   "source": [
    "#### Answer the following question: \n",
    "\n",
    "**Question:** What is the total explained variance of the three principal components?\n",
    "\n",
    "**Answer:** 90%\n",
    "\n",
    "We can see that 89.50% is the total variance explained by the three first principal components. That means that if we drop the other 4 components, we would be just losing a 10% of the variance in the data.\n"
   ]
  },
  {
   "cell_type": "code",
   "execution_count": null,
   "metadata": {},
   "outputs": [
    {
     "data": {
      "text/html": [
       "<div>\n",
       "<style scoped>\n",
       "    .dataframe tbody tr th:only-of-type {\n",
       "        vertical-align: middle;\n",
       "    }\n",
       "\n",
       "    .dataframe tbody tr th {\n",
       "        vertical-align: top;\n",
       "    }\n",
       "\n",
       "    .dataframe thead th {\n",
       "        text-align: right;\n",
       "    }\n",
       "</style>\n",
       "<table border=\"1\" class=\"dataframe\">\n",
       "  <thead>\n",
       "    <tr style=\"text-align: right;\">\n",
       "      <th></th>\n",
       "      <th>PC1</th>\n",
       "      <th>PC2</th>\n",
       "      <th>PC3</th>\n",
       "    </tr>\n",
       "    <tr>\n",
       "      <th>coin_id</th>\n",
       "      <th></th>\n",
       "      <th></th>\n",
       "      <th></th>\n",
       "    </tr>\n",
       "  </thead>\n",
       "  <tbody>\n",
       "    <tr>\n",
       "      <th>bitcoin</th>\n",
       "      <td>2.059139</td>\n",
       "      <td>-0.536684</td>\n",
       "      <td>-0.438238</td>\n",
       "    </tr>\n",
       "    <tr>\n",
       "      <th>ethereum</th>\n",
       "      <td>1.956401</td>\n",
       "      <td>-0.410821</td>\n",
       "      <td>-1.016966</td>\n",
       "    </tr>\n",
       "    <tr>\n",
       "      <th>tether</th>\n",
       "      <td>-0.990142</td>\n",
       "      <td>-0.454228</td>\n",
       "      <td>0.690021</td>\n",
       "    </tr>\n",
       "    <tr>\n",
       "      <th>ripple</th>\n",
       "      <td>-0.973189</td>\n",
       "      <td>-0.494650</td>\n",
       "      <td>0.551234</td>\n",
       "    </tr>\n",
       "    <tr>\n",
       "      <th>bitcoin-cash</th>\n",
       "      <td>3.330367</td>\n",
       "      <td>-1.022311</td>\n",
       "      <td>-0.501341</td>\n",
       "    </tr>\n",
       "  </tbody>\n",
       "</table>\n",
       "</div>"
      ],
      "text/plain": [
       "                   PC1       PC2       PC3\n",
       "coin_id                                   \n",
       "bitcoin       2.059139 -0.536684 -0.438238\n",
       "ethereum      1.956401 -0.410821 -1.016966\n",
       "tether       -0.990142 -0.454228  0.690021\n",
       "ripple       -0.973189 -0.494650  0.551234\n",
       "bitcoin-cash  3.330367 -1.022311 -0.501341"
      ]
     },
     "execution_count": 29,
     "metadata": {},
     "output_type": "execute_result"
    }
   ],
   "source": [
    "# Create a new DataFrame with the PCA data.\n",
    "df_market_data_pca = pd.DataFrame(market_data_pca, columns=['PC1','PC2','PC3'])\n",
    "\n",
    "# Copy the crypto names from the original data\n",
    "df_market_data_pca['coin_id'] = df_market_data_scaled.index\n",
    "\n",
    "# Set the coinid column as index\n",
    "df_market_data_pca = df_market_data_pca.set_index('coin_id')\n",
    "\n",
    "# Display sample data\n",
    "df_market_data_pca.head()"
   ]
  },
  {
   "cell_type": "markdown",
   "metadata": {},
   "source": [
    "---"
   ]
  },
  {
   "cell_type": "markdown",
   "metadata": {},
   "source": [
    "### Find the Best Value for k Using the PCA Data"
   ]
  },
  {
   "cell_type": "code",
   "execution_count": null,
   "metadata": {},
   "outputs": [
    {
     "data": {
      "text/plain": [
       "[1, 2, 3, 4, 5, 6, 7, 8, 9, 10, 11]"
      ]
     },
     "execution_count": 30,
     "metadata": {},
     "output_type": "execute_result"
    }
   ],
   "source": [
    "# Create a list with the number of k-values from 1 to 11\n",
    "k = list(range(1,12))\n",
    "k"
   ]
  },
  {
   "cell_type": "code",
   "execution_count": null,
   "metadata": {},
   "outputs": [
    {
     "data": {
      "text/plain": [
       "[325.4084233851051,\n",
       " 195.30995055757205,\n",
       " 108.66475812556446,\n",
       " 39.88332402229197,\n",
       " 28.986240182509093,\n",
       " 21.26313971905509,\n",
       " 16.169572198441706,\n",
       " 13.832620643843608,\n",
       " 10.062937330717109,\n",
       " 8.13523890234226,\n",
       " 6.773140769170896]"
      ]
     },
     "execution_count": 31,
     "metadata": {},
     "output_type": "execute_result"
    }
   ],
   "source": [
    "# Create an empy list to store the inertia values\n",
    "inertia_pca = []\n",
    "\n",
    "# Create a for loop to compute the inertia with each possible value of k\n",
    "# Inside the loop:\n",
    "# 1. Create a KMeans model using the loop counter for the n_clusters\n",
    "# 2. Fit the model to the data using `df_market_data_pca`\n",
    "# 3. Append the model.inertia_ to the inertia list\n",
    "for i in k:\n",
    "    model_pca = KMeans(n_clusters = i)\n",
    "    model_pca.fit(df_market_data_pca)\n",
    "    inertia_pca.append(model_pca.inertia_)\n",
    "\n",
    "inertia_pca"
   ]
  },
  {
   "cell_type": "code",
   "execution_count": null,
   "metadata": {},
   "outputs": [
    {
     "data": {
      "text/html": [
       "<div>\n",
       "<style scoped>\n",
       "    .dataframe tbody tr th:only-of-type {\n",
       "        vertical-align: middle;\n",
       "    }\n",
       "\n",
       "    .dataframe tbody tr th {\n",
       "        vertical-align: top;\n",
       "    }\n",
       "\n",
       "    .dataframe thead th {\n",
       "        text-align: right;\n",
       "    }\n",
       "</style>\n",
       "<table border=\"1\" class=\"dataframe\">\n",
       "  <thead>\n",
       "    <tr style=\"text-align: right;\">\n",
       "      <th></th>\n",
       "      <th>inertia_pca</th>\n",
       "    </tr>\n",
       "    <tr>\n",
       "      <th>k</th>\n",
       "      <th></th>\n",
       "    </tr>\n",
       "  </thead>\n",
       "  <tbody>\n",
       "    <tr>\n",
       "      <th>1</th>\n",
       "      <td>325.408423</td>\n",
       "    </tr>\n",
       "    <tr>\n",
       "      <th>2</th>\n",
       "      <td>195.309951</td>\n",
       "    </tr>\n",
       "    <tr>\n",
       "      <th>3</th>\n",
       "      <td>108.664758</td>\n",
       "    </tr>\n",
       "    <tr>\n",
       "      <th>4</th>\n",
       "      <td>39.883324</td>\n",
       "    </tr>\n",
       "    <tr>\n",
       "      <th>5</th>\n",
       "      <td>28.986240</td>\n",
       "    </tr>\n",
       "    <tr>\n",
       "      <th>6</th>\n",
       "      <td>21.263140</td>\n",
       "    </tr>\n",
       "    <tr>\n",
       "      <th>7</th>\n",
       "      <td>16.169572</td>\n",
       "    </tr>\n",
       "    <tr>\n",
       "      <th>8</th>\n",
       "      <td>13.832621</td>\n",
       "    </tr>\n",
       "    <tr>\n",
       "      <th>9</th>\n",
       "      <td>10.062937</td>\n",
       "    </tr>\n",
       "    <tr>\n",
       "      <th>10</th>\n",
       "      <td>8.135239</td>\n",
       "    </tr>\n",
       "    <tr>\n",
       "      <th>11</th>\n",
       "      <td>6.773141</td>\n",
       "    </tr>\n",
       "  </tbody>\n",
       "</table>\n",
       "</div>"
      ],
      "text/plain": [
       "    inertia_pca\n",
       "k              \n",
       "1    325.408423\n",
       "2    195.309951\n",
       "3    108.664758\n",
       "4     39.883324\n",
       "5     28.986240\n",
       "6     21.263140\n",
       "7     16.169572\n",
       "8     13.832621\n",
       "9     10.062937\n",
       "10     8.135239\n",
       "11     6.773141"
      ]
     },
     "execution_count": 32,
     "metadata": {},
     "output_type": "execute_result"
    }
   ],
   "source": [
    "# Create a dictionary with the data to plot the Elbow curve\n",
    "inertia_pca = {'k':k, 'inertia_pca':inertia_pca}\n",
    "\n",
    "# Create a DataFrame with the data to plot the Elbow curve\n",
    "inertia_pca_df = pd.DataFrame(inertia_pca)\n",
    "\n",
    "inertia_pca_df = inertia_pca_df.set_index('k')\n",
    "inertia_pca_df\n"
   ]
  },
  {
   "cell_type": "code",
   "execution_count": null,
   "metadata": {},
   "outputs": [
    {
     "data": {},
     "metadata": {},
     "output_type": "display_data"
    },
    {
     "data": {
      "application/vnd.holoviews_exec.v0+json": "",
      "text/html": [
       "<div id='1947'>\n",
       "  <div class=\"bk-root\" id=\"179a62c8-8a60-4192-b902-085b73e1cf8a\" data-root-id=\"1947\"></div>\n",
       "</div>\n",
       "<script type=\"application/javascript\">(function(root) {\n",
       "  function embed_document(root) {\n",
       "    var docs_json = {\"6f370473-11ba-4b5a-bc2c-634b3ea8a2d0\":{\"defs\":[{\"extends\":null,\"module\":null,\"name\":\"ReactiveHTML1\",\"overrides\":[],\"properties\":[]},{\"extends\":null,\"module\":null,\"name\":\"FlexBox1\",\"overrides\":[],\"properties\":[{\"default\":\"flex-start\",\"kind\":null,\"name\":\"align_content\"},{\"default\":\"flex-start\",\"kind\":null,\"name\":\"align_items\"},{\"default\":\"row\",\"kind\":null,\"name\":\"flex_direction\"},{\"default\":\"wrap\",\"kind\":null,\"name\":\"flex_wrap\"},{\"default\":\"flex-start\",\"kind\":null,\"name\":\"justify_content\"}]},{\"extends\":null,\"module\":null,\"name\":\"GridStack1\",\"overrides\":[],\"properties\":[{\"default\":\"warn\",\"kind\":null,\"name\":\"mode\"},{\"default\":null,\"kind\":null,\"name\":\"ncols\"},{\"default\":null,\"kind\":null,\"name\":\"nrows\"},{\"default\":true,\"kind\":null,\"name\":\"allow_resize\"},{\"default\":true,\"kind\":null,\"name\":\"allow_drag\"},{\"default\":[],\"kind\":null,\"name\":\"state\"}]},{\"extends\":null,\"module\":null,\"name\":\"click1\",\"overrides\":[],\"properties\":[{\"default\":\"\",\"kind\":null,\"name\":\"terminal_output\"},{\"default\":\"\",\"kind\":null,\"name\":\"debug_name\"},{\"default\":0,\"kind\":null,\"name\":\"clears\"}]},{\"extends\":null,\"module\":null,\"name\":\"NotificationAreaBase1\",\"overrides\":[],\"properties\":[{\"default\":\"bottom-right\",\"kind\":null,\"name\":\"position\"},{\"default\":0,\"kind\":null,\"name\":\"_clear\"}]},{\"extends\":null,\"module\":null,\"name\":\"NotificationArea1\",\"overrides\":[],\"properties\":[{\"default\":[],\"kind\":null,\"name\":\"notifications\"},{\"default\":\"bottom-right\",\"kind\":null,\"name\":\"position\"},{\"default\":0,\"kind\":null,\"name\":\"_clear\"},{\"default\":[{\"background\":\"#ffc107\",\"icon\":{\"className\":\"fas fa-exclamation-triangle\",\"color\":\"white\",\"tagName\":\"i\"},\"type\":\"warning\"},{\"background\":\"#007bff\",\"icon\":{\"className\":\"fas fa-info-circle\",\"color\":\"white\",\"tagName\":\"i\"},\"type\":\"info\"}],\"kind\":null,\"name\":\"types\"}]},{\"extends\":null,\"module\":null,\"name\":\"Notification\",\"overrides\":[],\"properties\":[{\"default\":null,\"kind\":null,\"name\":\"background\"},{\"default\":3000,\"kind\":null,\"name\":\"duration\"},{\"default\":null,\"kind\":null,\"name\":\"icon\"},{\"default\":\"\",\"kind\":null,\"name\":\"message\"},{\"default\":null,\"kind\":null,\"name\":\"notification_type\"},{\"default\":false,\"kind\":null,\"name\":\"_destroyed\"}]},{\"extends\":null,\"module\":null,\"name\":\"TemplateActions1\",\"overrides\":[],\"properties\":[{\"default\":0,\"kind\":null,\"name\":\"open_modal\"},{\"default\":0,\"kind\":null,\"name\":\"close_modal\"}]},{\"extends\":null,\"module\":null,\"name\":\"MaterialTemplateActions1\",\"overrides\":[],\"properties\":[{\"default\":0,\"kind\":null,\"name\":\"open_modal\"},{\"default\":0,\"kind\":null,\"name\":\"close_modal\"}]}],\"roots\":{\"references\":[{\"attributes\":{\"margin\":[5,5,5,5],\"name\":\"HSpacer01860\",\"sizing_mode\":\"stretch_width\"},\"id\":\"2007\",\"type\":\"Spacer\"},{\"attributes\":{\"data\":{\"inertia_pca\":{\"__ndarray__\":\"K5/15ohWdEDEhG4d62loQC1DqmWLKltA8sH1whDxQ0Cs4JE8evw8QMie5x9dQzVAMp5mFWkrMEDGkMZATaorQEpBYlI5ICRA9WmNCD5FIEBSLLs2shcbQA==\",\"dtype\":\"float64\",\"order\":\"little\",\"shape\":[11]},\"k\":[1,2,3,4,5,6,7,8,9,10,11]},\"selected\":{\"id\":\"1983\"},\"selection_policy\":{\"id\":\"2004\"}},\"id\":\"1982\",\"type\":\"ColumnDataSource\"},{\"attributes\":{\"axis\":{\"id\":\"1961\"},\"coordinates\":null,\"grid_line_color\":null,\"group\":null,\"ticker\":null},\"id\":\"1964\",\"type\":\"Grid\"},{\"attributes\":{},\"id\":\"2004\",\"type\":\"UnionRenderers\"},{\"attributes\":{\"axis\":{\"id\":\"1965\"},\"coordinates\":null,\"dimension\":1,\"grid_line_color\":null,\"group\":null,\"ticker\":null},\"id\":\"1968\",\"type\":\"Grid\"},{\"attributes\":{\"line_color\":\"#30a2da\",\"line_width\":2,\"x\":{\"field\":\"k\"},\"y\":{\"field\":\"inertia_pca\"}},\"id\":\"1985\",\"type\":\"Line\"},{\"attributes\":{\"line_color\":\"#30a2da\",\"line_width\":2,\"x\":{\"field\":\"k\"},\"y\":{\"field\":\"inertia_pca\"}},\"id\":\"1990\",\"type\":\"Line\"},{\"attributes\":{},\"id\":\"1966\",\"type\":\"BasicTicker\"},{\"attributes\":{},\"id\":\"1983\",\"type\":\"Selection\"},{\"attributes\":{\"axis_label\":\"Inertia (units)\",\"coordinates\":null,\"formatter\":{\"id\":\"1995\"},\"group\":null,\"major_label_policy\":{\"id\":\"1996\"},\"ticker\":{\"id\":\"1966\"}},\"id\":\"1965\",\"type\":\"LinearAxis\"},{\"attributes\":{},\"id\":\"1962\",\"type\":\"BasicTicker\"},{\"attributes\":{},\"id\":\"1993\",\"type\":\"AllLabels\"},{\"attributes\":{\"line_alpha\":0.2,\"line_color\":\"#30a2da\",\"line_width\":2,\"x\":{\"field\":\"k\"},\"y\":{\"field\":\"inertia_pca\"}},\"id\":\"1987\",\"type\":\"Line\"},{\"attributes\":{\"bottom_units\":\"screen\",\"coordinates\":null,\"fill_alpha\":0.5,\"fill_color\":\"lightgrey\",\"group\":null,\"left_units\":\"screen\",\"level\":\"overlay\",\"line_alpha\":1.0,\"line_color\":\"black\",\"line_dash\":[4,4],\"line_width\":2,\"right_units\":\"screen\",\"syncable\":false,\"top_units\":\"screen\"},\"id\":\"1974\",\"type\":\"BoxAnnotation\"},{\"attributes\":{},\"id\":\"1996\",\"type\":\"AllLabels\"},{\"attributes\":{\"end\":11.0,\"reset_end\":11.0,\"reset_start\":1.0,\"start\":1.0,\"tags\":[[[\"k\",\"k\",null]]]},\"id\":\"1949\",\"type\":\"Range1d\"},{\"attributes\":{\"line_alpha\":0.1,\"line_color\":\"#30a2da\",\"line_width\":2,\"x\":{\"field\":\"k\"},\"y\":{\"field\":\"inertia_pca\"}},\"id\":\"1986\",\"type\":\"Line\"},{\"attributes\":{\"source\":{\"id\":\"1982\"}},\"id\":\"1989\",\"type\":\"CDSView\"},{\"attributes\":{\"callback\":null,\"renderers\":[{\"id\":\"1988\"}],\"tags\":[\"hv_created\"],\"tooltips\":[[\"k\",\"@{k}\"],[\"inertia_pca\",\"@{inertia_pca}\"]]},\"id\":\"1951\",\"type\":\"HoverTool\"},{\"attributes\":{\"coordinates\":null,\"data_source\":{\"id\":\"1982\"},\"glyph\":{\"id\":\"1985\"},\"group\":null,\"hover_glyph\":null,\"muted_glyph\":{\"id\":\"1987\"},\"nonselection_glyph\":{\"id\":\"1986\"},\"selection_glyph\":{\"id\":\"1990\"},\"view\":{\"id\":\"1989\"}},\"id\":\"1988\",\"type\":\"GlyphRenderer\"},{\"attributes\":{},\"id\":\"1969\",\"type\":\"SaveTool\"},{\"attributes\":{},\"id\":\"1995\",\"type\":\"BasicTickFormatter\"},{\"attributes\":{\"below\":[{\"id\":\"1961\"}],\"center\":[{\"id\":\"1964\"},{\"id\":\"1968\"}],\"height\":300,\"left\":[{\"id\":\"1965\"}],\"margin\":[5,5,5,5],\"min_border_bottom\":10,\"min_border_left\":10,\"min_border_right\":10,\"min_border_top\":10,\"renderers\":[{\"id\":\"1988\"}],\"sizing_mode\":\"fixed\",\"title\":{\"id\":\"1953\"},\"toolbar\":{\"id\":\"1975\"},\"width\":700,\"x_range\":{\"id\":\"1949\"},\"x_scale\":{\"id\":\"1957\"},\"y_range\":{\"id\":\"1950\"},\"y_scale\":{\"id\":\"1959\"}},\"id\":\"1952\",\"subtype\":\"Figure\",\"type\":\"Plot\"},{\"attributes\":{},\"id\":\"1970\",\"type\":\"PanTool\"},{\"attributes\":{},\"id\":\"1971\",\"type\":\"WheelZoomTool\"},{\"attributes\":{\"tools\":[{\"id\":\"1951\"},{\"id\":\"1969\"},{\"id\":\"1970\"},{\"id\":\"1971\"},{\"id\":\"1972\"},{\"id\":\"1973\"}]},\"id\":\"1975\",\"type\":\"Toolbar\"},{\"attributes\":{\"overlay\":{\"id\":\"1974\"}},\"id\":\"1972\",\"type\":\"BoxZoomTool\"},{\"attributes\":{},\"id\":\"1992\",\"type\":\"BasicTickFormatter\"},{\"attributes\":{},\"id\":\"1957\",\"type\":\"LinearScale\"},{\"attributes\":{\"coordinates\":null,\"group\":null,\"text\":\"Principal Components of the Standarized Performance: Inertia v/s Number of Clusters\",\"text_color\":\"black\",\"text_font_size\":\"12pt\"},\"id\":\"1953\",\"type\":\"Title\"},{\"attributes\":{},\"id\":\"1959\",\"type\":\"LinearScale\"},{\"attributes\":{},\"id\":\"1973\",\"type\":\"ResetTool\"},{\"attributes\":{\"end\":357.27195164669854,\"reset_end\":357.27195164669854,\"reset_start\":-25.09038749242253,\"start\":-25.09038749242253,\"tags\":[[[\"inertia_pca\",\"inertia_pca\",null]]]},\"id\":\"1950\",\"type\":\"Range1d\"},{\"attributes\":{\"axis_label\":\"Number of Clusters (k)\",\"coordinates\":null,\"formatter\":{\"id\":\"1992\"},\"group\":null,\"major_label_policy\":{\"id\":\"1993\"},\"ticker\":{\"id\":\"1962\"}},\"id\":\"1961\",\"type\":\"LinearAxis\"},{\"attributes\":{\"margin\":[5,5,5,5],\"name\":\"HSpacer01859\",\"sizing_mode\":\"stretch_width\"},\"id\":\"1948\",\"type\":\"Spacer\"},{\"attributes\":{\"children\":[{\"id\":\"1948\"},{\"id\":\"1952\"},{\"id\":\"2007\"}],\"margin\":[0,0,0,0],\"name\":\"Row01855\",\"tags\":[\"embedded\"]},\"id\":\"1947\",\"type\":\"Row\"}],\"root_ids\":[\"1947\"]},\"title\":\"Bokeh Application\",\"version\":\"2.4.3\"}};\n",
       "    var render_items = [{\"docid\":\"6f370473-11ba-4b5a-bc2c-634b3ea8a2d0\",\"root_ids\":[\"1947\"],\"roots\":{\"1947\":\"179a62c8-8a60-4192-b902-085b73e1cf8a\"}}];\n",
       "    root.Bokeh.embed.embed_items_notebook(docs_json, render_items);\n",
       "    for (const render_item of render_items) {\n",
       "      for (const root_id of render_item.root_ids) {\n",
       "\tconst id_el = document.getElementById(root_id)\n",
       "\tif (id_el.children.length && (id_el.children[0].className === 'bk-root')) {\n",
       "\t  const root_el = id_el.children[0]\n",
       "\t  root_el.id = root_el.id + '-rendered'\n",
       "\t}\n",
       "      }\n",
       "    }\n",
       "  }\n",
       "  if (root.Bokeh !== undefined && root.Bokeh.Panel !== undefined) {\n",
       "    embed_document(root);\n",
       "  } else {\n",
       "    var attempts = 0;\n",
       "    var timer = setInterval(function(root) {\n",
       "      if (root.Bokeh !== undefined && root.Bokeh.Panel !== undefined) {\n",
       "        clearInterval(timer);\n",
       "        embed_document(root);\n",
       "      } else if (document.readyState == \"complete\") {\n",
       "        attempts++;\n",
       "        if (attempts > 200) {\n",
       "          clearInterval(timer);\n",
       "          console.log(\"Bokeh: ERROR: Unable to run BokehJS code because BokehJS library is missing\");\n",
       "        }\n",
       "      }\n",
       "    }, 25, root)\n",
       "  }\n",
       "})(window);</script>"
      ],
      "text/plain": [
       ":Curve   [k]   (inertia_pca)"
      ]
     },
     "execution_count": 33,
     "metadata": {
      "application/vnd.holoviews_exec.v0+json": {
       "id": "1947"
      }
     },
     "output_type": "execute_result"
    }
   ],
   "source": [
    "# Plot a line chart with all the inertia values computed with \n",
    "# the different values of k to visually identify the optimal value for k.\n",
    "inertia_pca_plot = inertia_pca_df['inertia_pca'].hvplot(\n",
    "    title  = 'Principal Components of the Standarized Performance: Inertia v/s Number of Clusters',\n",
    "    xlabel = 'Number of Clusters (k)',\n",
    "    ylabel = 'Inertia (units)'     \n",
    ")\n",
    "\n",
    "inertia_pca_plot"
   ]
  },
  {
   "attachments": {},
   "cell_type": "markdown",
   "metadata": {},
   "source": [
    "#### Answer the following questions: \n",
    "\n",
    "* **Question:** What is the best value for `k` when using the PCA data?\n",
    "\n",
    "  * **Answer:**\n",
    "\n",
    "The reasons to choose again k=4 are similar than the ones to choose k=4 for the scalar original data:\n",
    "* with k=4 we get a significant inertia reduction from 94 in k=3 to 50 in k=4. After that, reductions do not improve in more than 11 inertia units.  \n",
    "* Graphically, the elbow on k=4 is also noticeable, because after k=4 the inertia start decreasing in a close to linear fashion.\n",
    "\n",
    "* **Question:** Does it differ from the best k value found using the original data?\n",
    "\n",
    "  * **Answer:** \n",
    "  \n",
    "The difference from the original data is the Inertia itself at that point, which is 79 with k=4 with the standarized data, and only 50 using 3 PCA. Definetily a significant improvement. Not even with k=6 we got a level of 50 for the inertia with the standarized regular data. "
   ]
  },
  {
   "cell_type": "markdown",
   "metadata": {},
   "source": [
    "### Cluster Cryptocurrencies with K-means Using the PCA Data"
   ]
  },
  {
   "cell_type": "code",
   "execution_count": null,
   "metadata": {},
   "outputs": [],
   "source": [
    "# Initialize the K-Means model using the best value for k\n",
    "k = 4\n",
    "model_pca = KMeans(n_clusters=k, random_state=1)"
   ]
  },
  {
   "cell_type": "code",
   "execution_count": null,
   "metadata": {},
   "outputs": [
    {
     "data": {
      "text/plain": [
       "KMeans(n_clusters=4, random_state=1)"
      ]
     },
     "execution_count": 35,
     "metadata": {},
     "output_type": "execute_result"
    }
   ],
   "source": [
    "# Fit the K-Means model using the PCA data\n",
    "model_pca.fit(df_market_data_pca)"
   ]
  },
  {
   "cell_type": "code",
   "execution_count": null,
   "metadata": {},
   "outputs": [
    {
     "name": "stdout",
     "output_type": "stream",
     "text": [
      "[1 1 0 0 1 1 1 1 1 0 0 0 0 1 0 1 0 0 1 0 0 1 0 0 0 0 0 0 1 0 0 0 2 1 0 0 3\n",
      " 0 0 0 0]\n"
     ]
    }
   ],
   "source": [
    "# Predict the clusters to group the cryptocurrencies using the PCA data\n",
    "cluster = model_pca.predict(df_market_data_pca)\n",
    "\n",
    "# Print the resulting array of cluster values.\n",
    "print(cluster)"
   ]
  },
  {
   "cell_type": "code",
   "execution_count": null,
   "metadata": {},
   "outputs": [
    {
     "data": {
      "text/html": [
       "<div>\n",
       "<style scoped>\n",
       "    .dataframe tbody tr th:only-of-type {\n",
       "        vertical-align: middle;\n",
       "    }\n",
       "\n",
       "    .dataframe tbody tr th {\n",
       "        vertical-align: top;\n",
       "    }\n",
       "\n",
       "    .dataframe thead th {\n",
       "        text-align: right;\n",
       "    }\n",
       "</style>\n",
       "<table border=\"1\" class=\"dataframe\">\n",
       "  <thead>\n",
       "    <tr style=\"text-align: right;\">\n",
       "      <th></th>\n",
       "      <th>PC1</th>\n",
       "      <th>PC2</th>\n",
       "      <th>PC3</th>\n",
       "      <th>cluster_pca</th>\n",
       "    </tr>\n",
       "    <tr>\n",
       "      <th>coin_id</th>\n",
       "      <th></th>\n",
       "      <th></th>\n",
       "      <th></th>\n",
       "      <th></th>\n",
       "    </tr>\n",
       "  </thead>\n",
       "  <tbody>\n",
       "    <tr>\n",
       "      <th>bitcoin</th>\n",
       "      <td>2.059139</td>\n",
       "      <td>-0.536684</td>\n",
       "      <td>-0.438238</td>\n",
       "      <td>1</td>\n",
       "    </tr>\n",
       "    <tr>\n",
       "      <th>ethereum</th>\n",
       "      <td>1.956401</td>\n",
       "      <td>-0.410821</td>\n",
       "      <td>-1.016966</td>\n",
       "      <td>1</td>\n",
       "    </tr>\n",
       "    <tr>\n",
       "      <th>tether</th>\n",
       "      <td>-0.990142</td>\n",
       "      <td>-0.454228</td>\n",
       "      <td>0.690021</td>\n",
       "      <td>0</td>\n",
       "    </tr>\n",
       "    <tr>\n",
       "      <th>ripple</th>\n",
       "      <td>-0.973189</td>\n",
       "      <td>-0.494650</td>\n",
       "      <td>0.551234</td>\n",
       "      <td>0</td>\n",
       "    </tr>\n",
       "    <tr>\n",
       "      <th>bitcoin-cash</th>\n",
       "      <td>3.330367</td>\n",
       "      <td>-1.022311</td>\n",
       "      <td>-0.501341</td>\n",
       "      <td>1</td>\n",
       "    </tr>\n",
       "  </tbody>\n",
       "</table>\n",
       "</div>"
      ],
      "text/plain": [
       "                   PC1       PC2       PC3  cluster_pca\n",
       "coin_id                                                \n",
       "bitcoin       2.059139 -0.536684 -0.438238            1\n",
       "ethereum      1.956401 -0.410821 -1.016966            1\n",
       "tether       -0.990142 -0.454228  0.690021            0\n",
       "ripple       -0.973189 -0.494650  0.551234            0\n",
       "bitcoin-cash  3.330367 -1.022311 -0.501341            1"
      ]
     },
     "execution_count": 37,
     "metadata": {},
     "output_type": "execute_result"
    }
   ],
   "source": [
    "# Create a copy of the DataFrame with the PCA data\n",
    "df_clusters_pca = df_market_data_pca.copy()\n",
    "\n",
    "# Add a new column to the DataFrame with the predicted clusters\n",
    "df_clusters_pca['cluster_pca'] = cluster\n",
    "\n",
    "# Display sample data\n",
    "df_clusters_pca.head()"
   ]
  },
  {
   "cell_type": "markdown",
   "metadata": {},
   "source": [
    "### Visualize and Compare the Results\n",
    "\n",
    "In this section, you will visually analyze the cluster analysis results by contrasting the outcome with and without using the optimization techniques."
   ]
  },
  {
   "cell_type": "code",
   "execution_count": null,
   "metadata": {},
   "outputs": [
    {
     "data": {},
     "metadata": {},
     "output_type": "display_data"
    },
    {
     "data": {
      "application/vnd.holoviews_exec.v0+json": "",
      "text/html": [
       "<div id='2059'>\n",
       "  <div class=\"bk-root\" id=\"b0c4112d-dfa6-41a6-a602-d5d6f4673454\" data-root-id=\"2059\"></div>\n",
       "</div>\n",
       "<script type=\"application/javascript\">(function(root) {\n",
       "  function embed_document(root) {\n",
       "    var docs_json = {\"8fb805e3-2ad1-4fdd-a48d-5482e6d9dd46\":{\"defs\":[{\"extends\":null,\"module\":null,\"name\":\"ReactiveHTML1\",\"overrides\":[],\"properties\":[]},{\"extends\":null,\"module\":null,\"name\":\"FlexBox1\",\"overrides\":[],\"properties\":[{\"default\":\"flex-start\",\"kind\":null,\"name\":\"align_content\"},{\"default\":\"flex-start\",\"kind\":null,\"name\":\"align_items\"},{\"default\":\"row\",\"kind\":null,\"name\":\"flex_direction\"},{\"default\":\"wrap\",\"kind\":null,\"name\":\"flex_wrap\"},{\"default\":\"flex-start\",\"kind\":null,\"name\":\"justify_content\"}]},{\"extends\":null,\"module\":null,\"name\":\"GridStack1\",\"overrides\":[],\"properties\":[{\"default\":\"warn\",\"kind\":null,\"name\":\"mode\"},{\"default\":null,\"kind\":null,\"name\":\"ncols\"},{\"default\":null,\"kind\":null,\"name\":\"nrows\"},{\"default\":true,\"kind\":null,\"name\":\"allow_resize\"},{\"default\":true,\"kind\":null,\"name\":\"allow_drag\"},{\"default\":[],\"kind\":null,\"name\":\"state\"}]},{\"extends\":null,\"module\":null,\"name\":\"click1\",\"overrides\":[],\"properties\":[{\"default\":\"\",\"kind\":null,\"name\":\"terminal_output\"},{\"default\":\"\",\"kind\":null,\"name\":\"debug_name\"},{\"default\":0,\"kind\":null,\"name\":\"clears\"}]},{\"extends\":null,\"module\":null,\"name\":\"NotificationAreaBase1\",\"overrides\":[],\"properties\":[{\"default\":\"bottom-right\",\"kind\":null,\"name\":\"position\"},{\"default\":0,\"kind\":null,\"name\":\"_clear\"}]},{\"extends\":null,\"module\":null,\"name\":\"NotificationArea1\",\"overrides\":[],\"properties\":[{\"default\":[],\"kind\":null,\"name\":\"notifications\"},{\"default\":\"bottom-right\",\"kind\":null,\"name\":\"position\"},{\"default\":0,\"kind\":null,\"name\":\"_clear\"},{\"default\":[{\"background\":\"#ffc107\",\"icon\":{\"className\":\"fas fa-exclamation-triangle\",\"color\":\"white\",\"tagName\":\"i\"},\"type\":\"warning\"},{\"background\":\"#007bff\",\"icon\":{\"className\":\"fas fa-info-circle\",\"color\":\"white\",\"tagName\":\"i\"},\"type\":\"info\"}],\"kind\":null,\"name\":\"types\"}]},{\"extends\":null,\"module\":null,\"name\":\"Notification\",\"overrides\":[],\"properties\":[{\"default\":null,\"kind\":null,\"name\":\"background\"},{\"default\":3000,\"kind\":null,\"name\":\"duration\"},{\"default\":null,\"kind\":null,\"name\":\"icon\"},{\"default\":\"\",\"kind\":null,\"name\":\"message\"},{\"default\":null,\"kind\":null,\"name\":\"notification_type\"},{\"default\":false,\"kind\":null,\"name\":\"_destroyed\"}]},{\"extends\":null,\"module\":null,\"name\":\"TemplateActions1\",\"overrides\":[],\"properties\":[{\"default\":0,\"kind\":null,\"name\":\"open_modal\"},{\"default\":0,\"kind\":null,\"name\":\"close_modal\"}]},{\"extends\":null,\"module\":null,\"name\":\"MaterialTemplateActions1\",\"overrides\":[],\"properties\":[{\"default\":0,\"kind\":null,\"name\":\"open_modal\"},{\"default\":0,\"kind\":null,\"name\":\"close_modal\"}]}],\"roots\":{\"references\":[{\"attributes\":{\"children\":[{\"id\":\"2060\"},{\"id\":\"2181\"},{\"id\":\"2202\"}],\"margin\":[0,0,0,0],\"name\":\"Row01925\",\"tags\":[\"embedded\"]},\"id\":\"2059\",\"type\":\"Row\"},{\"attributes\":{},\"id\":\"2095\",\"type\":\"Selection\"},{\"attributes\":{},\"id\":\"2069\",\"type\":\"LinearScale\"},{\"attributes\":{},\"id\":\"2155\",\"type\":\"AllLabels\"},{\"attributes\":{\"callback\":null,\"renderers\":[{\"id\":\"2147\"}],\"tags\":[\"hv_created\"],\"tooltips\":[[\"k\",\"@{k}\"],[\"inertia_pca\",\"@{inertia_pca}\"]]},\"id\":\"2110\",\"type\":\"HoverTool\"},{\"attributes\":{\"coordinates\":null,\"group\":null,\"text\":\"Standarized Performance Data: Inertia versus Number of Clusters\",\"text_color\":\"black\",\"text_font_size\":\"12pt\"},\"id\":\"2065\",\"type\":\"Title\"},{\"attributes\":{\"data\":{\"inertia_pca\":{\"__ndarray__\":\"K5/15ohWdEDEhG4d62loQC1DqmWLKltA8sH1whDxQ0Cs4JE8evw8QMie5x9dQzVAMp5mFWkrMEDGkMZATaorQEpBYlI5ICRA9WmNCD5FIEBSLLs2shcbQA==\",\"dtype\":\"float64\",\"order\":\"little\",\"shape\":[11]},\"k\":[1,2,3,4,5,6,7,8,9,10,11]},\"selected\":{\"id\":\"2142\"},\"selection_policy\":{\"id\":\"2174\"}},\"id\":\"2141\",\"type\":\"ColumnDataSource\"},{\"attributes\":{\"below\":[{\"id\":\"2120\"}],\"center\":[{\"id\":\"2123\"},{\"id\":\"2127\"}],\"height\":300,\"left\":[{\"id\":\"2124\"}],\"margin\":null,\"min_border_bottom\":10,\"min_border_left\":10,\"min_border_right\":10,\"min_border_top\":10,\"renderers\":[{\"id\":\"2147\"}],\"sizing_mode\":\"fixed\",\"title\":{\"id\":\"2112\"},\"toolbar\":{\"id\":\"2134\"},\"toolbar_location\":null,\"width\":700,\"x_range\":{\"id\":\"2061\"},\"x_scale\":{\"id\":\"2116\"},\"y_range\":{\"id\":\"2109\"},\"y_scale\":{\"id\":\"2118\"}},\"id\":\"2111\",\"subtype\":\"Figure\",\"type\":\"Plot\"},{\"attributes\":{\"margin\":[5,5,5,5],\"name\":\"HSpacer01930\",\"sizing_mode\":\"stretch_width\"},\"id\":\"2202\",\"type\":\"Spacer\"},{\"attributes\":{\"axis\":{\"id\":\"2077\"},\"coordinates\":null,\"dimension\":1,\"grid_line_color\":null,\"group\":null,\"ticker\":null},\"id\":\"2080\",\"type\":\"Grid\"},{\"attributes\":{},\"id\":\"2071\",\"type\":\"LinearScale\"},{\"attributes\":{\"coordinates\":null,\"data_source\":{\"id\":\"2141\"},\"glyph\":{\"id\":\"2144\"},\"group\":null,\"hover_glyph\":null,\"muted_glyph\":{\"id\":\"2146\"},\"nonselection_glyph\":{\"id\":\"2145\"},\"selection_glyph\":{\"id\":\"2149\"},\"view\":{\"id\":\"2148\"}},\"id\":\"2147\",\"type\":\"GlyphRenderer\"},{\"attributes\":{\"axis_label\":\"Number of Clusters (k)\",\"coordinates\":null,\"formatter\":{\"id\":\"2104\"},\"group\":null,\"major_label_policy\":{\"id\":\"2105\"},\"ticker\":{\"id\":\"2074\"}},\"id\":\"2073\",\"type\":\"LinearAxis\"},{\"attributes\":{},\"id\":\"2116\",\"type\":\"LinearScale\"},{\"attributes\":{},\"id\":\"2074\",\"type\":\"BasicTicker\"},{\"attributes\":{\"coordinates\":null,\"group\":null,\"text\":\"Principal Components of the Standarized Performance: Inertia v/s Number of Clusters\",\"text_color\":\"black\",\"text_font_size\":\"12pt\"},\"id\":\"2112\",\"type\":\"Title\"},{\"attributes\":{\"axis\":{\"id\":\"2073\"},\"coordinates\":null,\"grid_line_color\":null,\"group\":null,\"ticker\":null},\"id\":\"2076\",\"type\":\"Grid\"},{\"attributes\":{},\"id\":\"2078\",\"type\":\"BasicTicker\"},{\"attributes\":{\"axis_label\":\"Inertia (units)\",\"coordinates\":null,\"formatter\":{\"id\":\"2107\"},\"group\":null,\"major_label_policy\":{\"id\":\"2108\"},\"ticker\":{\"id\":\"2078\"}},\"id\":\"2077\",\"type\":\"LinearAxis\"},{\"attributes\":{\"axis\":{\"id\":\"2124\"},\"coordinates\":null,\"dimension\":1,\"grid_line_color\":null,\"group\":null,\"ticker\":null},\"id\":\"2127\",\"type\":\"Grid\"},{\"attributes\":{},\"id\":\"2118\",\"type\":\"LinearScale\"},{\"attributes\":{\"axis_label\":\"Number of Clusters (k)\",\"coordinates\":null,\"formatter\":{\"id\":\"2151\"},\"group\":null,\"major_label_policy\":{\"id\":\"2152\"},\"ticker\":{\"id\":\"2121\"}},\"id\":\"2120\",\"type\":\"LinearAxis\"},{\"attributes\":{\"source\":{\"id\":\"2094\"}},\"id\":\"2101\",\"type\":\"CDSView\"},{\"attributes\":{},\"id\":\"2121\",\"type\":\"BasicTicker\"},{\"attributes\":{\"coordinates\":null,\"data_source\":{\"id\":\"2094\"},\"glyph\":{\"id\":\"2097\"},\"group\":null,\"hover_glyph\":null,\"muted_glyph\":{\"id\":\"2099\"},\"nonselection_glyph\":{\"id\":\"2098\"},\"selection_glyph\":{\"id\":\"2102\"},\"view\":{\"id\":\"2101\"}},\"id\":\"2100\",\"type\":\"GlyphRenderer\"},{\"attributes\":{},\"id\":\"2081\",\"type\":\"SaveTool\"},{\"attributes\":{\"axis\":{\"id\":\"2120\"},\"coordinates\":null,\"grid_line_color\":null,\"group\":null,\"ticker\":null},\"id\":\"2123\",\"type\":\"Grid\"},{\"attributes\":{},\"id\":\"2082\",\"type\":\"PanTool\"},{\"attributes\":{},\"id\":\"2125\",\"type\":\"BasicTicker\"},{\"attributes\":{\"margin\":[5,5,5,5],\"name\":\"HSpacer01929\",\"sizing_mode\":\"stretch_width\"},\"id\":\"2060\",\"type\":\"Spacer\"},{\"attributes\":{\"axis_label\":\"Inertia (units)\",\"coordinates\":null,\"formatter\":{\"id\":\"2154\"},\"group\":null,\"major_label_policy\":{\"id\":\"2155\"},\"ticker\":{\"id\":\"2125\"}},\"id\":\"2124\",\"type\":\"LinearAxis\"},{\"attributes\":{},\"id\":\"2083\",\"type\":\"WheelZoomTool\"},{\"attributes\":{},\"id\":\"2105\",\"type\":\"AllLabels\"},{\"attributes\":{\"tools\":[{\"id\":\"2063\"},{\"id\":\"2081\"},{\"id\":\"2082\"},{\"id\":\"2083\"},{\"id\":\"2084\"},{\"id\":\"2085\"}]},\"id\":\"2087\",\"type\":\"Toolbar\"},{\"attributes\":{\"overlay\":{\"id\":\"2086\"}},\"id\":\"2084\",\"type\":\"BoxZoomTool\"},{\"attributes\":{\"line_alpha\":0.2,\"line_color\":\"#30a2da\",\"line_width\":2,\"x\":{\"field\":\"k\"},\"y\":{\"field\":\"inertia\"}},\"id\":\"2099\",\"type\":\"Line\"},{\"attributes\":{\"line_alpha\":0.1,\"line_color\":\"#30a2da\",\"line_width\":2,\"x\":{\"field\":\"k\"},\"y\":{\"field\":\"inertia_pca\"}},\"id\":\"2145\",\"type\":\"Line\"},{\"attributes\":{\"end\":11.0,\"reset_end\":11.0,\"reset_start\":1.0,\"start\":1.0,\"tags\":[[[\"k\",\"k\",null]]]},\"id\":\"2061\",\"type\":\"Range1d\"},{\"attributes\":{\"line_alpha\":0.2,\"line_color\":\"#30a2da\",\"line_width\":2,\"x\":{\"field\":\"k\"},\"y\":{\"field\":\"inertia_pca\"}},\"id\":\"2146\",\"type\":\"Line\"},{\"attributes\":{},\"id\":\"2085\",\"type\":\"ResetTool\"},{\"attributes\":{\"line_color\":\"#30a2da\",\"line_width\":2,\"x\":{\"field\":\"k\"},\"y\":{\"field\":\"inertia\"}},\"id\":\"2102\",\"type\":\"Line\"},{\"attributes\":{},\"id\":\"2128\",\"type\":\"SaveTool\"},{\"attributes\":{\"bottom_units\":\"screen\",\"coordinates\":null,\"fill_alpha\":0.5,\"fill_color\":\"lightgrey\",\"group\":null,\"left_units\":\"screen\",\"level\":\"overlay\",\"line_alpha\":1.0,\"line_color\":\"black\",\"line_dash\":[4,4],\"line_width\":2,\"right_units\":\"screen\",\"syncable\":false,\"top_units\":\"screen\"},\"id\":\"2086\",\"type\":\"BoxAnnotation\"},{\"attributes\":{},\"id\":\"2129\",\"type\":\"PanTool\"},{\"attributes\":{},\"id\":\"2130\",\"type\":\"WheelZoomTool\"},{\"attributes\":{\"children\":[{\"id\":\"2180\"},{\"id\":\"2178\"}]},\"id\":\"2181\",\"type\":\"Column\"},{\"attributes\":{\"line_color\":\"#30a2da\",\"line_width\":2,\"x\":{\"field\":\"k\"},\"y\":{\"field\":\"inertia_pca\"}},\"id\":\"2144\",\"type\":\"Line\"},{\"attributes\":{\"children\":[[{\"id\":\"2064\"},0,0],[{\"id\":\"2111\"},0,1]]},\"id\":\"2178\",\"type\":\"GridBox\"},{\"attributes\":{},\"id\":\"2132\",\"type\":\"ResetTool\"},{\"attributes\":{\"bottom_units\":\"screen\",\"coordinates\":null,\"fill_alpha\":0.5,\"fill_color\":\"lightgrey\",\"group\":null,\"left_units\":\"screen\",\"level\":\"overlay\",\"line_alpha\":1.0,\"line_color\":\"black\",\"line_dash\":[4,4],\"line_width\":2,\"right_units\":\"screen\",\"syncable\":false,\"top_units\":\"screen\"},\"id\":\"2133\",\"type\":\"BoxAnnotation\"},{\"attributes\":{},\"id\":\"2151\",\"type\":\"BasicTickFormatter\"},{\"attributes\":{},\"id\":\"2142\",\"type\":\"Selection\"},{\"attributes\":{\"line_color\":\"#30a2da\",\"line_width\":2,\"x\":{\"field\":\"k\"},\"y\":{\"field\":\"inertia_pca\"}},\"id\":\"2149\",\"type\":\"Line\"},{\"attributes\":{\"tools\":[{\"id\":\"2110\"},{\"id\":\"2128\"},{\"id\":\"2129\"},{\"id\":\"2130\"},{\"id\":\"2131\"},{\"id\":\"2132\"}]},\"id\":\"2134\",\"type\":\"Toolbar\"},{\"attributes\":{\"end\":357.27195164669854,\"reset_end\":357.27195164669854,\"reset_start\":-25.09038749242253,\"start\":-25.09038749242253,\"tags\":[[[\"inertia_pca\",\"inertia_pca\",null]]]},\"id\":\"2109\",\"type\":\"Range1d\"},{\"attributes\":{},\"id\":\"2163\",\"type\":\"UnionRenderers\"},{\"attributes\":{\"overlay\":{\"id\":\"2133\"}},\"id\":\"2131\",\"type\":\"BoxZoomTool\"},{\"attributes\":{\"callback\":null,\"renderers\":[{\"id\":\"2100\"}],\"tags\":[\"hv_created\"],\"tooltips\":[[\"k\",\"@{k}\"],[\"inertia\",\"@{inertia}\"]]},\"id\":\"2063\",\"type\":\"HoverTool\"},{\"attributes\":{},\"id\":\"2104\",\"type\":\"BasicTickFormatter\"},{\"attributes\":{\"end\":313.31099556446213,\"reset_end\":313.31099556446213,\"reset_start\":-2.420951209084258,\"start\":-2.420951209084258,\"tags\":[[[\"inertia\",\"inertia\",null]]]},\"id\":\"2062\",\"type\":\"Range1d\"},{\"attributes\":{},\"id\":\"2107\",\"type\":\"BasicTickFormatter\"},{\"attributes\":{},\"id\":\"2154\",\"type\":\"BasicTickFormatter\"},{\"attributes\":{\"line_color\":\"#30a2da\",\"line_width\":2,\"x\":{\"field\":\"k\"},\"y\":{\"field\":\"inertia\"}},\"id\":\"2097\",\"type\":\"Line\"},{\"attributes\":{\"source\":{\"id\":\"2141\"}},\"id\":\"2148\",\"type\":\"CDSView\"},{\"attributes\":{},\"id\":\"2108\",\"type\":\"AllLabels\"},{\"attributes\":{},\"id\":\"2152\",\"type\":\"AllLabels\"},{\"attributes\":{\"below\":[{\"id\":\"2073\"}],\"center\":[{\"id\":\"2076\"},{\"id\":\"2080\"}],\"height\":300,\"left\":[{\"id\":\"2077\"}],\"margin\":null,\"min_border_bottom\":10,\"min_border_left\":10,\"min_border_right\":10,\"min_border_top\":10,\"renderers\":[{\"id\":\"2100\"}],\"sizing_mode\":\"fixed\",\"title\":{\"id\":\"2065\"},\"toolbar\":{\"id\":\"2087\"},\"toolbar_location\":null,\"width\":700,\"x_range\":{\"id\":\"2061\"},\"x_scale\":{\"id\":\"2069\"},\"y_range\":{\"id\":\"2062\"},\"y_scale\":{\"id\":\"2071\"}},\"id\":\"2064\",\"subtype\":\"Figure\",\"type\":\"Plot\"},{\"attributes\":{\"data\":{\"inertia\":{\"__ndarray__\":\"///////vcUDkwndVTNJoQN6RvNowzF5AFu6ulG/BU0Cd2V8YMQhQQBQSyZxlh0pAgRbl9XUPRkCmWQ2NA4pCQJFccafMNUBAnNlO1lkqPEByVmby2eM3QA==\",\"dtype\":\"float64\",\"order\":\"little\",\"shape\":[11]},\"k\":[1,2,3,4,5,6,7,8,9,10,11]},\"selected\":{\"id\":\"2095\"},\"selection_policy\":{\"id\":\"2163\"}},\"id\":\"2094\",\"type\":\"ColumnDataSource\"},{\"attributes\":{\"line_alpha\":0.1,\"line_color\":\"#30a2da\",\"line_width\":2,\"x\":{\"field\":\"k\"},\"y\":{\"field\":\"inertia\"}},\"id\":\"2098\",\"type\":\"Line\"},{\"attributes\":{},\"id\":\"2174\",\"type\":\"UnionRenderers\"},{\"attributes\":{\"toolbars\":[{\"id\":\"2087\"},{\"id\":\"2134\"}],\"tools\":[{\"id\":\"2063\"},{\"id\":\"2081\"},{\"id\":\"2082\"},{\"id\":\"2083\"},{\"id\":\"2084\"},{\"id\":\"2085\"},{\"id\":\"2110\"},{\"id\":\"2128\"},{\"id\":\"2129\"},{\"id\":\"2130\"},{\"id\":\"2131\"},{\"id\":\"2132\"}]},\"id\":\"2179\",\"type\":\"ProxyToolbar\"},{\"attributes\":{\"toolbar\":{\"id\":\"2179\"},\"toolbar_location\":\"above\"},\"id\":\"2180\",\"type\":\"ToolbarBox\"}],\"root_ids\":[\"2059\"]},\"title\":\"Bokeh Application\",\"version\":\"2.4.3\"}};\n",
       "    var render_items = [{\"docid\":\"8fb805e3-2ad1-4fdd-a48d-5482e6d9dd46\",\"root_ids\":[\"2059\"],\"roots\":{\"2059\":\"b0c4112d-dfa6-41a6-a602-d5d6f4673454\"}}];\n",
       "    root.Bokeh.embed.embed_items_notebook(docs_json, render_items);\n",
       "    for (const render_item of render_items) {\n",
       "      for (const root_id of render_item.root_ids) {\n",
       "\tconst id_el = document.getElementById(root_id)\n",
       "\tif (id_el.children.length && (id_el.children[0].className === 'bk-root')) {\n",
       "\t  const root_el = id_el.children[0]\n",
       "\t  root_el.id = root_el.id + '-rendered'\n",
       "\t}\n",
       "      }\n",
       "    }\n",
       "  }\n",
       "  if (root.Bokeh !== undefined && root.Bokeh.Panel !== undefined) {\n",
       "    embed_document(root);\n",
       "  } else {\n",
       "    var attempts = 0;\n",
       "    var timer = setInterval(function(root) {\n",
       "      if (root.Bokeh !== undefined && root.Bokeh.Panel !== undefined) {\n",
       "        clearInterval(timer);\n",
       "        embed_document(root);\n",
       "      } else if (document.readyState == \"complete\") {\n",
       "        attempts++;\n",
       "        if (attempts > 200) {\n",
       "          clearInterval(timer);\n",
       "          console.log(\"Bokeh: ERROR: Unable to run BokehJS code because BokehJS library is missing\");\n",
       "        }\n",
       "      }\n",
       "    }, 25, root)\n",
       "  }\n",
       "})(window);</script>"
      ],
      "text/plain": [
       ":Layout\n",
       "   .Curve.I           :Curve   [k]   (inertia)\n",
       "   .Curve.Inertia_pca :Curve   [k]   (inertia_pca)"
      ]
     },
     "execution_count": 40,
     "metadata": {
      "application/vnd.holoviews_exec.v0+json": {
       "id": "2059"
      }
     },
     "output_type": "execute_result"
    }
   ],
   "source": [
    "# Composite plot to contrast the Elbow curves\n",
    "original_inertia_plot + inertia_pca_plot"
   ]
  },
  {
   "cell_type": "code",
   "execution_count": null,
   "metadata": {},
   "outputs": [
    {
     "name": "stdout",
     "output_type": "stream",
     "text": [
      "[1, 0, 2, 3]\n",
      "[3, 0, 1, 2]\n"
     ]
    }
   ],
   "source": [
    "# We will color the clusters accordingly to the sort in the dataframe\n",
    "\n",
    "# sort of cluster names in cluster_pca\n",
    "color_pca = list(df_clusters_pca['cluster_pca'].drop_duplicates().reset_index()['cluster_pca'])\n",
    "\n",
    "#sort of cluster names in cluster_original, which is the one with standarized data\n",
    "color_original = list(df_clusters_predicted['cluster_original'].drop_duplicates().reset_index()['cluster_original'])\n",
    "print(color_pca)\n",
    "print(color_original)"
   ]
  },
  {
   "cell_type": "code",
   "execution_count": null,
   "metadata": {},
   "outputs": [],
   "source": [
    "# Defining the colors in the pallete, and initializing the color list for each group of clusters\n",
    "k = 4\n",
    "\n",
    "# colors_pallette = ['green', 'blue', 'red','orange']\n",
    "colors_pallette = ['orange', 'red', 'blue', 'green']\n",
    "\n",
    "# Initialization of colors with NaN\n",
    "colors_pca, colors_original = [np.nan] * k, [np.nan] *k\n"
   ]
  },
  {
   "cell_type": "code",
   "execution_count": null,
   "metadata": {},
   "outputs": [
    {
     "data": {
      "text/plain": [
       "['red', 'orange', 'blue', 'green']"
      ]
     },
     "execution_count": 51,
     "metadata": {},
     "output_type": "execute_result"
    }
   ],
   "source": [
    "# Defining the list of colors for clusters_pca\n",
    "c = 0\n",
    "for i in color_pca:\n",
    "    colors_pca[i] = colors_pallette[c]\n",
    "    c += 1\n",
    "colors_pca"
   ]
  },
  {
   "cell_type": "code",
   "execution_count": null,
   "metadata": {},
   "outputs": [
    {
     "data": {
      "text/plain": [
       "['red', 'blue', 'green', 'orange']"
      ]
     },
     "execution_count": 52,
     "metadata": {},
     "output_type": "execute_result"
    }
   ],
   "source": [
    "# Defining the list of colors for clusters_original\n",
    "c = 0\n",
    "for i in color_original:\n",
    "    colors_original[i] = colors_pallette[c]\n",
    "    c += 1\n",
    "colors_original"
   ]
  },
  {
   "cell_type": "code",
   "execution_count": null,
   "metadata": {},
   "outputs": [
    {
     "data": {},
     "metadata": {},
     "output_type": "display_data"
    },
    {
     "data": {
      "application/vnd.holoviews_exec.v0+json": "",
      "text/html": [
       "<div id='2304'>\n",
       "  <div class=\"bk-root\" id=\"56699719-868d-4783-8add-88a3ade0e397\" data-root-id=\"2304\"></div>\n",
       "</div>\n",
       "<script type=\"application/javascript\">(function(root) {\n",
       "  function embed_document(root) {\n",
       "    var docs_json = {\"ccbc260d-8d6a-4096-8cad-f6ff4a797470\":{\"defs\":[{\"extends\":null,\"module\":null,\"name\":\"ReactiveHTML1\",\"overrides\":[],\"properties\":[]},{\"extends\":null,\"module\":null,\"name\":\"FlexBox1\",\"overrides\":[],\"properties\":[{\"default\":\"flex-start\",\"kind\":null,\"name\":\"align_content\"},{\"default\":\"flex-start\",\"kind\":null,\"name\":\"align_items\"},{\"default\":\"row\",\"kind\":null,\"name\":\"flex_direction\"},{\"default\":\"wrap\",\"kind\":null,\"name\":\"flex_wrap\"},{\"default\":\"flex-start\",\"kind\":null,\"name\":\"justify_content\"}]},{\"extends\":null,\"module\":null,\"name\":\"GridStack1\",\"overrides\":[],\"properties\":[{\"default\":\"warn\",\"kind\":null,\"name\":\"mode\"},{\"default\":null,\"kind\":null,\"name\":\"ncols\"},{\"default\":null,\"kind\":null,\"name\":\"nrows\"},{\"default\":true,\"kind\":null,\"name\":\"allow_resize\"},{\"default\":true,\"kind\":null,\"name\":\"allow_drag\"},{\"default\":[],\"kind\":null,\"name\":\"state\"}]},{\"extends\":null,\"module\":null,\"name\":\"click1\",\"overrides\":[],\"properties\":[{\"default\":\"\",\"kind\":null,\"name\":\"terminal_output\"},{\"default\":\"\",\"kind\":null,\"name\":\"debug_name\"},{\"default\":0,\"kind\":null,\"name\":\"clears\"}]},{\"extends\":null,\"module\":null,\"name\":\"NotificationAreaBase1\",\"overrides\":[],\"properties\":[{\"default\":\"bottom-right\",\"kind\":null,\"name\":\"position\"},{\"default\":0,\"kind\":null,\"name\":\"_clear\"}]},{\"extends\":null,\"module\":null,\"name\":\"NotificationArea1\",\"overrides\":[],\"properties\":[{\"default\":[],\"kind\":null,\"name\":\"notifications\"},{\"default\":\"bottom-right\",\"kind\":null,\"name\":\"position\"},{\"default\":0,\"kind\":null,\"name\":\"_clear\"},{\"default\":[{\"background\":\"#ffc107\",\"icon\":{\"className\":\"fas fa-exclamation-triangle\",\"color\":\"white\",\"tagName\":\"i\"},\"type\":\"warning\"},{\"background\":\"#007bff\",\"icon\":{\"className\":\"fas fa-info-circle\",\"color\":\"white\",\"tagName\":\"i\"},\"type\":\"info\"}],\"kind\":null,\"name\":\"types\"}]},{\"extends\":null,\"module\":null,\"name\":\"Notification\",\"overrides\":[],\"properties\":[{\"default\":null,\"kind\":null,\"name\":\"background\"},{\"default\":3000,\"kind\":null,\"name\":\"duration\"},{\"default\":null,\"kind\":null,\"name\":\"icon\"},{\"default\":\"\",\"kind\":null,\"name\":\"message\"},{\"default\":null,\"kind\":null,\"name\":\"notification_type\"},{\"default\":false,\"kind\":null,\"name\":\"_destroyed\"}]},{\"extends\":null,\"module\":null,\"name\":\"TemplateActions1\",\"overrides\":[],\"properties\":[{\"default\":0,\"kind\":null,\"name\":\"open_modal\"},{\"default\":0,\"kind\":null,\"name\":\"close_modal\"}]},{\"extends\":null,\"module\":null,\"name\":\"MaterialTemplateActions1\",\"overrides\":[],\"properties\":[{\"default\":0,\"kind\":null,\"name\":\"open_modal\"},{\"default\":0,\"kind\":null,\"name\":\"close_modal\"}]}],\"roots\":{\"references\":[{\"attributes\":{\"overlay\":{\"id\":\"2469\"}},\"id\":\"2467\",\"type\":\"BoxZoomTool\"},{\"attributes\":{\"data\":{\"PC2\":{\"__ndarray__\":\"vPzpmBES3b931b8nWKjfv2YPEApr6ei/l3ZyNraQ1b8R9s5T23Hdv8qqjdUCVee//MrRlGoR2r+4AiEEzqmRv86wHXhlH+G/vHjreIwR4b8mlZJY6kDbv6A7swsRpd2/Xw1qAcF027+h39bXt9njP7JAHqzOHN6/KP8yruaE6b+krdnf9n/lv7hVRU2NNAVAtJqF6vCc5L8ay8wgvWvjv4cwvNlOvuc/EkoJOanevT/yOE2ZhRXov9bEeeo8KOO/DfVn7DmQ3r/tOXYbfZvUvw==\",\"dtype\":\"float64\",\"order\":\"little\",\"shape\":[26]},\"PC3\":{\"__ndarray__\":\"/oZPk6cU5j/hIpqFtaPhP96JNHIUs9k/GrfzKV3U2D/1R5VMdV/mP9x1fYqDx9o/WtSHl8821T9ZCoOfQ2zMPwAqZtqzhK+/PC2SpToH5z/Hztuql8/HP6gD+EAxvuM/cI1dW+Fe3j+FXFIRg8v3PxCxC+ATleY/1n0l0kyZtb+Ur44wzPO/v0a4v/Smofg/uTh0c5Enwr9y9IRSx/bMP+cV11OzwfW/n5axu8/X9j/SVHkFI5jjvyF/lxXV+dE/Vdr6zHWs5j8R7B/C9G7qPw==\",\"dtype\":\"float64\",\"order\":\"little\",\"shape\":[26]},\"cluster_pca\":[0,0,0,0,0,0,0,0,0,0,0,0,0,0,0,0,0,0,0,0,0,0,0,0,0,0],\"coin_id\":[\"tether\",\"ripple\",\"bitcoin-cash-sv\",\"crypto-com-chain\",\"usd-coin\",\"eos\",\"tron\",\"okb\",\"stellar\",\"cdai\",\"neo\",\"leo-token\",\"huobi-token\",\"nem\",\"binance-usd\",\"iota\",\"vechain\",\"theta-token\",\"dash\",\"ethereum-classic\",\"havven\",\"omisego\",\"ontology\",\"ftx-token\",\"true-usd\",\"digibyte\"]},\"selected\":{\"id\":\"2484\"},\"selection_policy\":{\"id\":\"2498\"}},\"id\":\"2483\",\"type\":\"ColumnDataSource\"},{\"attributes\":{\"angle\":{\"value\":0.0},\"fill_alpha\":{\"value\":1.0},\"fill_color\":{\"value\":\"red\"},\"hatch_alpha\":{\"value\":1.0},\"hatch_color\":{\"value\":\"red\"},\"hatch_scale\":{\"value\":12.0},\"hatch_weight\":{\"value\":1.0},\"line_alpha\":{\"value\":1.0},\"line_cap\":{\"value\":\"butt\"},\"line_color\":{\"value\":\"red\"},\"line_dash\":{\"value\":[]},\"line_dash_offset\":{\"value\":0},\"line_join\":{\"value\":\"bevel\"},\"line_width\":{\"value\":1},\"marker\":{\"value\":\"circle\"},\"size\":{\"value\":5.477225575051661},\"x\":{\"field\":\"PC2\"},\"y\":{\"field\":\"PC3\"}},\"id\":\"2503\",\"type\":\"Scatter\"},{\"attributes\":{},\"id\":\"2410\",\"type\":\"UnionRenderers\"},{\"attributes\":{},\"id\":\"2468\",\"type\":\"ResetTool\"},{\"attributes\":{\"fill_color\":{\"value\":\"green\"},\"hatch_color\":{\"value\":\"green\"},\"line_color\":{\"value\":\"green\"},\"size\":{\"value\":5.477225575051661},\"x\":{\"field\":\"price_change_percentage_24h\"},\"y\":{\"field\":\"price_change_percentage_7d\"}},\"id\":\"2394\",\"type\":\"Scatter\"},{\"attributes\":{\"above\":[{\"id\":\"2501\"}],\"below\":[{\"id\":\"2456\"}],\"center\":[{\"id\":\"2459\"},{\"id\":\"2463\"}],\"height\":500,\"left\":[{\"id\":\"2460\"}],\"margin\":null,\"min_border_bottom\":10,\"min_border_left\":10,\"min_border_right\":10,\"min_border_top\":10,\"renderers\":[{\"id\":\"2489\"},{\"id\":\"2510\"},{\"id\":\"2532\"},{\"id\":\"2556\"}],\"sizing_mode\":\"fixed\",\"title\":{\"id\":\"2448\"},\"toolbar\":{\"id\":\"2470\"},\"toolbar_location\":null,\"x_range\":{\"id\":\"2441\"},\"x_scale\":{\"id\":\"2452\"},\"y_range\":{\"id\":\"2442\"},\"y_scale\":{\"id\":\"2454\"}},\"id\":\"2447\",\"subtype\":\"Figure\",\"type\":\"Plot\"},{\"attributes\":{\"fill_alpha\":{\"value\":0.1},\"fill_color\":{\"value\":\"green\"},\"hatch_alpha\":{\"value\":0.1},\"hatch_color\":{\"value\":\"green\"},\"line_alpha\":{\"value\":0.1},\"line_color\":{\"value\":\"green\"},\"size\":{\"value\":5.477225575051661},\"x\":{\"field\":\"price_change_percentage_24h\"},\"y\":{\"field\":\"price_change_percentage_7d\"}},\"id\":\"2395\",\"type\":\"Scatter\"},{\"attributes\":{},\"id\":\"2498\",\"type\":\"UnionRenderers\"},{\"attributes\":{\"click_policy\":\"mute\",\"coordinates\":null,\"group\":null,\"items\":[{\"id\":\"2502\"},{\"id\":\"2524\"},{\"id\":\"2548\"},{\"id\":\"2574\"}],\"location\":[0,0],\"orientation\":\"horizontal\",\"title\":\"cluster_pca\"},\"id\":\"2501\",\"type\":\"Legend\"},{\"attributes\":{\"fill_alpha\":{\"value\":0.1},\"fill_color\":{\"value\":\"red\"},\"hatch_alpha\":{\"value\":0.1},\"hatch_color\":{\"value\":\"red\"},\"line_alpha\":{\"value\":0.1},\"line_color\":{\"value\":\"red\"},\"size\":{\"value\":5.477225575051661},\"x\":{\"field\":\"PC2\"},\"y\":{\"field\":\"PC3\"}},\"id\":\"2487\",\"type\":\"Scatter\"},{\"attributes\":{\"label\":{\"value\":\"0\"},\"renderers\":[{\"id\":\"2489\"}]},\"id\":\"2502\",\"type\":\"LegendItem\"},{\"attributes\":{},\"id\":\"2465\",\"type\":\"PanTool\"},{\"attributes\":{\"fill_alpha\":{\"value\":0.2},\"fill_color\":{\"value\":\"orange\"},\"hatch_alpha\":{\"value\":0.2},\"hatch_color\":{\"value\":\"orange\"},\"line_alpha\":{\"value\":0.2},\"line_color\":{\"value\":\"orange\"},\"size\":{\"value\":5.477225575051661},\"x\":{\"field\":\"PC2\"},\"y\":{\"field\":\"PC3\"}},\"id\":\"2509\",\"type\":\"Scatter\"},{\"attributes\":{\"callback\":null,\"renderers\":[{\"id\":\"2354\"},{\"id\":\"2375\"},{\"id\":\"2397\"},{\"id\":\"2421\"}],\"tags\":[\"hv_created\"],\"tooltips\":[[\"cluster_original\",\"@{cluster_original}\"],[\"price_change_percentage_24h\",\"@{price_change_percentage_24h}\"],[\"price_change_percentage_7d\",\"@{price_change_percentage_7d}\"],[\"coin_id\",\"@{coin_id}\"]]},\"id\":\"2308\",\"type\":\"HoverTool\"},{\"attributes\":{\"source\":{\"id\":\"2391\"}},\"id\":\"2398\",\"type\":\"CDSView\"},{\"attributes\":{\"fill_alpha\":{\"value\":0.2},\"fill_color\":{\"value\":\"green\"},\"hatch_alpha\":{\"value\":0.2},\"hatch_color\":{\"value\":\"green\"},\"line_alpha\":{\"value\":0.2},\"line_color\":{\"value\":\"green\"},\"size\":{\"value\":5.477225575051661},\"x\":{\"field\":\"price_change_percentage_24h\"},\"y\":{\"field\":\"price_change_percentage_7d\"}},\"id\":\"2396\",\"type\":\"Scatter\"},{\"attributes\":{},\"id\":\"2343\",\"type\":\"BasicTickFormatter\"},{\"attributes\":{},\"id\":\"2344\",\"type\":\"AllLabels\"},{\"attributes\":{\"coordinates\":null,\"data_source\":{\"id\":\"2483\"},\"glyph\":{\"id\":\"2486\"},\"group\":null,\"hover_glyph\":null,\"muted_glyph\":{\"id\":\"2488\"},\"nonselection_glyph\":{\"id\":\"2487\"},\"selection_glyph\":{\"id\":\"2503\"},\"view\":{\"id\":\"2490\"}},\"id\":\"2489\",\"type\":\"GlyphRenderer\"},{\"attributes\":{},\"id\":\"2484\",\"type\":\"Selection\"},{\"attributes\":{\"end\":8.636444098438064,\"reset_end\":8.636444098438064,\"reset_start\":-1.765292598624434,\"start\":-1.765292598624434,\"tags\":[[[\"PC2\",\"PC2\",null]]]},\"id\":\"2441\",\"type\":\"Range1d\"},{\"attributes\":{},\"id\":\"2436\",\"type\":\"UnionRenderers\"},{\"attributes\":{},\"id\":\"2505\",\"type\":\"Selection\"},{\"attributes\":{\"coordinates\":null,\"data_source\":{\"id\":\"2391\"},\"glyph\":{\"id\":\"2394\"},\"group\":null,\"hover_glyph\":null,\"muted_glyph\":{\"id\":\"2396\"},\"nonselection_glyph\":{\"id\":\"2395\"},\"selection_glyph\":{\"id\":\"2414\"},\"view\":{\"id\":\"2398\"}},\"id\":\"2397\",\"type\":\"GlyphRenderer\"},{\"attributes\":{\"fill_alpha\":{\"value\":0.1},\"fill_color\":{\"value\":\"orange\"},\"hatch_alpha\":{\"value\":0.1},\"hatch_color\":{\"value\":\"orange\"},\"line_alpha\":{\"value\":0.1},\"line_color\":{\"value\":\"orange\"},\"size\":{\"value\":5.477225575051661},\"x\":{\"field\":\"PC2\"},\"y\":{\"field\":\"PC3\"}},\"id\":\"2508\",\"type\":\"Scatter\"},{\"attributes\":{},\"id\":\"2479\",\"type\":\"AllLabels\"},{\"attributes\":{\"source\":{\"id\":\"2504\"}},\"id\":\"2511\",\"type\":\"CDSView\"},{\"attributes\":{},\"id\":\"2478\",\"type\":\"BasicTickFormatter\"},{\"attributes\":{},\"id\":\"2482\",\"type\":\"AllLabels\"},{\"attributes\":{},\"id\":\"2466\",\"type\":\"WheelZoomTool\"},{\"attributes\":{\"label\":{\"value\":\"2\"},\"renderers\":[{\"id\":\"2397\"}]},\"id\":\"2413\",\"type\":\"LegendItem\"},{\"attributes\":{\"fill_alpha\":{\"value\":0.2},\"fill_color\":{\"value\":\"blue\"},\"hatch_alpha\":{\"value\":0.2},\"hatch_color\":{\"value\":\"blue\"},\"line_alpha\":{\"value\":0.2},\"line_color\":{\"value\":\"blue\"},\"size\":{\"value\":5.477225575051661},\"x\":{\"field\":\"PC2\"},\"y\":{\"field\":\"PC3\"}},\"id\":\"2531\",\"type\":\"Scatter\"},{\"attributes\":{\"coordinates\":null,\"data_source\":{\"id\":\"2415\"},\"glyph\":{\"id\":\"2418\"},\"group\":null,\"hover_glyph\":null,\"muted_glyph\":{\"id\":\"2420\"},\"nonselection_glyph\":{\"id\":\"2419\"},\"selection_glyph\":{\"id\":\"2440\"},\"view\":{\"id\":\"2422\"}},\"id\":\"2421\",\"type\":\"GlyphRenderer\"},{\"attributes\":{},\"id\":\"2521\",\"type\":\"UnionRenderers\"},{\"attributes\":{\"angle\":{\"value\":0.0},\"fill_alpha\":{\"value\":1.0},\"fill_color\":{\"value\":\"green\"},\"hatch_alpha\":{\"value\":1.0},\"hatch_color\":{\"value\":\"green\"},\"hatch_scale\":{\"value\":12.0},\"hatch_weight\":{\"value\":1.0},\"line_alpha\":{\"value\":1.0},\"line_cap\":{\"value\":\"butt\"},\"line_color\":{\"value\":\"green\"},\"line_dash\":{\"value\":[]},\"line_dash_offset\":{\"value\":0},\"line_join\":{\"value\":\"bevel\"},\"line_width\":{\"value\":1},\"marker\":{\"value\":\"circle\"},\"size\":{\"value\":5.477225575051661},\"x\":{\"field\":\"price_change_percentage_24h\"},\"y\":{\"field\":\"price_change_percentage_7d\"}},\"id\":\"2414\",\"type\":\"Scatter\"},{\"attributes\":{\"label\":{\"value\":\"1\"},\"renderers\":[{\"id\":\"2510\"}]},\"id\":\"2524\",\"type\":\"LegendItem\"},{\"attributes\":{\"fill_alpha\":{\"value\":0.1},\"fill_color\":{\"value\":\"orange\"},\"hatch_alpha\":{\"value\":0.1},\"hatch_color\":{\"value\":\"orange\"},\"line_alpha\":{\"value\":0.1},\"line_color\":{\"value\":\"orange\"},\"size\":{\"value\":5.477225575051661},\"x\":{\"field\":\"price_change_percentage_24h\"},\"y\":{\"field\":\"price_change_percentage_7d\"}},\"id\":\"2419\",\"type\":\"Scatter\"},{\"attributes\":{\"angle\":{\"value\":0.0},\"fill_alpha\":{\"value\":1.0},\"fill_color\":{\"value\":\"orange\"},\"hatch_alpha\":{\"value\":1.0},\"hatch_color\":{\"value\":\"orange\"},\"hatch_scale\":{\"value\":12.0},\"hatch_weight\":{\"value\":1.0},\"line_alpha\":{\"value\":1.0},\"line_cap\":{\"value\":\"butt\"},\"line_color\":{\"value\":\"orange\"},\"line_dash\":{\"value\":[]},\"line_dash_offset\":{\"value\":0},\"line_join\":{\"value\":\"bevel\"},\"line_width\":{\"value\":1},\"marker\":{\"value\":\"circle\"},\"size\":{\"value\":5.477225575051661},\"x\":{\"field\":\"PC2\"},\"y\":{\"field\":\"PC3\"}},\"id\":\"2525\",\"type\":\"Scatter\"},{\"attributes\":{},\"id\":\"2349\",\"type\":\"Selection\"},{\"attributes\":{},\"id\":\"2464\",\"type\":\"SaveTool\"},{\"attributes\":{\"end\":2.9976786562735933,\"reset_end\":2.9976786562735933,\"reset_start\":-2.107454305728652,\"start\":-2.107454305728652,\"tags\":[[[\"price_change_percentage_7d\",\"price_change_percentage_7d\",null]]]},\"id\":\"2307\",\"type\":\"Range1d\"},{\"attributes\":{\"fill_alpha\":{\"value\":0.1},\"fill_color\":{\"value\":\"blue\"},\"hatch_alpha\":{\"value\":0.1},\"hatch_color\":{\"value\":\"blue\"},\"line_alpha\":{\"value\":0.1},\"line_color\":{\"value\":\"blue\"},\"size\":{\"value\":5.477225575051661},\"x\":{\"field\":\"PC2\"},\"y\":{\"field\":\"PC3\"}},\"id\":\"2530\",\"type\":\"Scatter\"},{\"attributes\":{},\"id\":\"2416\",\"type\":\"Selection\"},{\"attributes\":{\"data\":{\"cluster_original\":[3,3,3,3,3,3,3,3,3,3,3,3,3],\"coin_id\":[\"bitcoin\",\"ethereum\",\"bitcoin-cash\",\"binancecoin\",\"chainlink\",\"cardano\",\"litecoin\",\"monero\",\"tezos\",\"cosmos\",\"wrapped-bitcoin\",\"zcash\",\"maker\"],\"price_change_percentage_24h\":{\"__ndarray__\":\"DdlqYN9F4D86azDosLzHPzALIwCtFvM/9w6McDSK7D/VDHOpb1eHPzMEvaFkP7o/SNs39trWsz9Fpj8/c9DQP45AeNEVZ8O/qa8st/Fh0L8FWWk3mH7gP6wo083aUMC//ACFOIMFwL8=\",\"dtype\":\"float64\",\"order\":\"little\",\"shape\":[13]},\"price_change_percentage_7d\":{\"__ndarray__\":\"UVk8q3mQ3z9xoPpI+ebtPzAB2dP2AQBAgWkOMZk89T8CNulI+JMEQCZRaSLGIPg/8IwjaB1l1T8rMp3jf678P2NmURqKqeY/Wq6ZksNx/T9BfMqy1o7dPyPPDB1Xu+0/sLW7TleV4j8=\",\"dtype\":\"float64\",\"order\":\"little\",\"shape\":[13]}},\"selected\":{\"id\":\"2416\"},\"selection_policy\":{\"id\":\"2436\"}},\"id\":\"2415\",\"type\":\"ColumnDataSource\"},{\"attributes\":{\"fill_color\":{\"value\":\"orange\"},\"hatch_color\":{\"value\":\"orange\"},\"line_color\":{\"value\":\"orange\"},\"size\":{\"value\":5.477225575051661},\"x\":{\"field\":\"PC2\"},\"y\":{\"field\":\"PC3\"}},\"id\":\"2507\",\"type\":\"Scatter\"},{\"attributes\":{\"source\":{\"id\":\"2415\"}},\"id\":\"2422\",\"type\":\"CDSView\"},{\"attributes\":{\"source\":{\"id\":\"2483\"}},\"id\":\"2490\",\"type\":\"CDSView\"},{\"attributes\":{\"data\":{\"PC2\":{\"__ndarray__\":\"6CjWh5eCFEA=\",\"dtype\":\"float64\",\"order\":\"little\",\"shape\":[1]},\"PC3\":{\"__ndarray__\":\"8EBpi3ZgFUA=\",\"dtype\":\"float64\",\"order\":\"little\",\"shape\":[1]},\"cluster_pca\":[3],\"coin_id\":[\"celsius-degree-token\"]},\"selected\":{\"id\":\"2551\"},\"selection_policy\":{\"id\":\"2571\"}},\"id\":\"2550\",\"type\":\"ColumnDataSource\"},{\"attributes\":{\"label\":{\"value\":\"3\"},\"renderers\":[{\"id\":\"2556\"}]},\"id\":\"2574\",\"type\":\"LegendItem\"},{\"attributes\":{\"label\":{\"value\":\"3\"},\"renderers\":[{\"id\":\"2421\"}]},\"id\":\"2439\",\"type\":\"LegendItem\"},{\"attributes\":{\"coordinates\":null,\"data_source\":{\"id\":\"2526\"},\"glyph\":{\"id\":\"2529\"},\"group\":null,\"hover_glyph\":null,\"muted_glyph\":{\"id\":\"2531\"},\"nonselection_glyph\":{\"id\":\"2530\"},\"selection_glyph\":{\"id\":\"2549\"},\"view\":{\"id\":\"2533\"}},\"id\":\"2532\",\"type\":\"GlyphRenderer\"},{\"attributes\":{},\"id\":\"2527\",\"type\":\"Selection\"},{\"attributes\":{\"callback\":null,\"renderers\":[{\"id\":\"2489\"},{\"id\":\"2510\"},{\"id\":\"2532\"},{\"id\":\"2556\"}],\"tags\":[\"hv_created\"],\"tooltips\":[[\"cluster_pca\",\"@{cluster_pca}\"],[\"PC2\",\"@{PC2}\"],[\"PC3\",\"@{PC3}\"],[\"coin_id\",\"@{coin_id}\"]]},\"id\":\"2443\",\"type\":\"HoverTool\"},{\"attributes\":{\"axis\":{\"id\":\"2456\"},\"coordinates\":null,\"grid_line_color\":null,\"group\":null,\"ticker\":null},\"id\":\"2459\",\"type\":\"Grid\"},{\"attributes\":{\"data\":{\"PC2\":{\"__ndarray__\":\"0j2i8OeSH0A=\",\"dtype\":\"float64\",\"order\":\"little\",\"shape\":[1]},\"PC3\":{\"__ndarray__\":\"AwT9fFg3EcA=\",\"dtype\":\"float64\",\"order\":\"little\",\"shape\":[1]},\"cluster_pca\":[2],\"coin_id\":[\"ethlend\"]},\"selected\":{\"id\":\"2527\"},\"selection_policy\":{\"id\":\"2545\"}},\"id\":\"2526\",\"type\":\"ColumnDataSource\"},{\"attributes\":{\"fill_color\":{\"value\":\"orange\"},\"hatch_color\":{\"value\":\"orange\"},\"line_color\":{\"value\":\"orange\"},\"size\":{\"value\":5.477225575051661},\"x\":{\"field\":\"price_change_percentage_24h\"},\"y\":{\"field\":\"price_change_percentage_7d\"}},\"id\":\"2418\",\"type\":\"Scatter\"},{\"attributes\":{},\"id\":\"2545\",\"type\":\"UnionRenderers\"},{\"attributes\":{\"bottom_units\":\"screen\",\"coordinates\":null,\"fill_alpha\":0.5,\"fill_color\":\"lightgrey\",\"group\":null,\"left_units\":\"screen\",\"level\":\"overlay\",\"line_alpha\":1.0,\"line_color\":\"black\",\"line_dash\":[4,4],\"line_width\":2,\"right_units\":\"screen\",\"syncable\":false,\"top_units\":\"screen\"},\"id\":\"2469\",\"type\":\"BoxAnnotation\"},{\"attributes\":{\"children\":[{\"id\":\"2305\"},{\"id\":\"2613\"},{\"id\":\"2646\"}],\"margin\":[0,0,0,0],\"name\":\"Row02524\",\"tags\":[\"embedded\"]},\"id\":\"2304\",\"type\":\"Row\"},{\"attributes\":{},\"id\":\"2347\",\"type\":\"AllLabels\"},{\"attributes\":{\"fill_alpha\":{\"value\":0.2},\"fill_color\":{\"value\":\"orange\"},\"hatch_alpha\":{\"value\":0.2},\"hatch_color\":{\"value\":\"orange\"},\"line_alpha\":{\"value\":0.2},\"line_color\":{\"value\":\"orange\"},\"size\":{\"value\":5.477225575051661},\"x\":{\"field\":\"price_change_percentage_24h\"},\"y\":{\"field\":\"price_change_percentage_7d\"}},\"id\":\"2420\",\"type\":\"Scatter\"},{\"attributes\":{\"label\":{\"value\":\"2\"},\"renderers\":[{\"id\":\"2532\"}]},\"id\":\"2548\",\"type\":\"LegendItem\"},{\"attributes\":{\"margin\":[5,5,5,5],\"name\":\"HSpacer02528\",\"sizing_mode\":\"stretch_width\"},\"id\":\"2305\",\"type\":\"Spacer\"},{\"attributes\":{\"tools\":[{\"id\":\"2443\"},{\"id\":\"2464\"},{\"id\":\"2465\"},{\"id\":\"2466\"},{\"id\":\"2467\"},{\"id\":\"2468\"}]},\"id\":\"2470\",\"type\":\"Toolbar\"},{\"attributes\":{},\"id\":\"2346\",\"type\":\"BasicTickFormatter\"},{\"attributes\":{\"source\":{\"id\":\"2526\"}},\"id\":\"2533\",\"type\":\"CDSView\"},{\"attributes\":{\"fill_color\":{\"value\":\"red\"},\"hatch_color\":{\"value\":\"red\"},\"line_color\":{\"value\":\"red\"},\"size\":{\"value\":5.477225575051661},\"x\":{\"field\":\"PC2\"},\"y\":{\"field\":\"PC3\"}},\"id\":\"2486\",\"type\":\"Scatter\"},{\"attributes\":{},\"id\":\"2317\",\"type\":\"LinearScale\"},{\"attributes\":{\"angle\":{\"value\":0.0},\"fill_alpha\":{\"value\":1.0},\"fill_color\":{\"value\":\"orange\"},\"hatch_alpha\":{\"value\":1.0},\"hatch_color\":{\"value\":\"orange\"},\"hatch_scale\":{\"value\":12.0},\"hatch_weight\":{\"value\":1.0},\"line_alpha\":{\"value\":1.0},\"line_cap\":{\"value\":\"butt\"},\"line_color\":{\"value\":\"orange\"},\"line_dash\":{\"value\":[]},\"line_dash_offset\":{\"value\":0},\"line_join\":{\"value\":\"bevel\"},\"line_width\":{\"value\":1},\"marker\":{\"value\":\"circle\"},\"size\":{\"value\":5.477225575051661},\"x\":{\"field\":\"price_change_percentage_24h\"},\"y\":{\"field\":\"price_change_percentage_7d\"}},\"id\":\"2440\",\"type\":\"Scatter\"},{\"attributes\":{\"above\":[{\"id\":\"2366\"}],\"below\":[{\"id\":\"2321\"}],\"center\":[{\"id\":\"2324\"},{\"id\":\"2328\"}],\"height\":500,\"left\":[{\"id\":\"2325\"}],\"margin\":null,\"min_border_bottom\":10,\"min_border_left\":10,\"min_border_right\":10,\"min_border_top\":10,\"renderers\":[{\"id\":\"2354\"},{\"id\":\"2375\"},{\"id\":\"2397\"},{\"id\":\"2421\"}],\"sizing_mode\":\"fixed\",\"title\":{\"id\":\"2313\"},\"toolbar\":{\"id\":\"2335\"},\"toolbar_location\":null,\"x_range\":{\"id\":\"2306\"},\"x_scale\":{\"id\":\"2317\"},\"y_range\":{\"id\":\"2307\"},\"y_scale\":{\"id\":\"2319\"}},\"id\":\"2312\",\"subtype\":\"Figure\",\"type\":\"Plot\"},{\"attributes\":{\"fill_color\":{\"value\":\"blue\"},\"hatch_color\":{\"value\":\"blue\"},\"line_color\":{\"value\":\"blue\"},\"size\":{\"value\":5.477225575051661},\"x\":{\"field\":\"PC2\"},\"y\":{\"field\":\"PC3\"}},\"id\":\"2529\",\"type\":\"Scatter\"},{\"attributes\":{\"end\":2.4948835288957136,\"reset_end\":2.4948835288957136,\"reset_start\":-5.556113072131119,\"start\":-5.556113072131119,\"tags\":[[[\"price_change_percentage_24h\",\"price_change_percentage_24h\",null]]]},\"id\":\"2306\",\"type\":\"Range1d\"},{\"attributes\":{\"coordinates\":null,\"group\":null,\"text\":\"Standarized Returns & K-Means Clusters - Very Short Term Performance\",\"text_color\":\"black\",\"text_font_size\":\"12pt\"},\"id\":\"2313\",\"type\":\"Title\"},{\"attributes\":{\"axis_label\":\"Second Principal Component \\n Returns (%) (PC2)\",\"coordinates\":null,\"formatter\":{\"id\":\"2478\"},\"group\":null,\"major_label_policy\":{\"id\":\"2479\"},\"ticker\":{\"id\":\"2457\"}},\"id\":\"2456\",\"type\":\"LinearAxis\"},{\"attributes\":{\"angle\":{\"value\":0.0},\"fill_alpha\":{\"value\":1.0},\"fill_color\":{\"value\":\"blue\"},\"hatch_alpha\":{\"value\":1.0},\"hatch_color\":{\"value\":\"blue\"},\"hatch_scale\":{\"value\":12.0},\"hatch_weight\":{\"value\":1.0},\"line_alpha\":{\"value\":1.0},\"line_cap\":{\"value\":\"butt\"},\"line_color\":{\"value\":\"blue\"},\"line_dash\":{\"value\":[]},\"line_dash_offset\":{\"value\":0},\"line_join\":{\"value\":\"bevel\"},\"line_width\":{\"value\":1},\"marker\":{\"value\":\"circle\"},\"size\":{\"value\":5.477225575051661},\"x\":{\"field\":\"PC2\"},\"y\":{\"field\":\"PC3\"}},\"id\":\"2549\",\"type\":\"Scatter\"},{\"attributes\":{\"end\":6.309027282164933,\"reset_end\":6.309027282164933,\"reset_start\":-5.268873563830427,\"start\":-5.268873563830427,\"tags\":[[[\"PC3\",\"PC3\",null]]]},\"id\":\"2442\",\"type\":\"Range1d\"},{\"attributes\":{},\"id\":\"2326\",\"type\":\"BasicTicker\"},{\"attributes\":{\"fill_alpha\":{\"value\":0.1},\"fill_color\":{\"value\":\"green\"},\"hatch_alpha\":{\"value\":0.1},\"hatch_color\":{\"value\":\"green\"},\"line_alpha\":{\"value\":0.1},\"line_color\":{\"value\":\"green\"},\"size\":{\"value\":5.477225575051661},\"x\":{\"field\":\"PC2\"},\"y\":{\"field\":\"PC3\"}},\"id\":\"2554\",\"type\":\"Scatter\"},{\"attributes\":{},\"id\":\"2319\",\"type\":\"LinearScale\"},{\"attributes\":{\"axis_label\":\"Standarize 24h Return (%)\",\"coordinates\":null,\"formatter\":{\"id\":\"2343\"},\"group\":null,\"major_label_policy\":{\"id\":\"2344\"},\"ticker\":{\"id\":\"2322\"}},\"id\":\"2321\",\"type\":\"LinearAxis\"},{\"attributes\":{},\"id\":\"2457\",\"type\":\"BasicTicker\"},{\"attributes\":{},\"id\":\"2551\",\"type\":\"Selection\"},{\"attributes\":{\"coordinates\":null,\"data_source\":{\"id\":\"2504\"},\"glyph\":{\"id\":\"2507\"},\"group\":null,\"hover_glyph\":null,\"muted_glyph\":{\"id\":\"2509\"},\"nonselection_glyph\":{\"id\":\"2508\"},\"selection_glyph\":{\"id\":\"2525\"},\"view\":{\"id\":\"2511\"}},\"id\":\"2510\",\"type\":\"GlyphRenderer\"},{\"attributes\":{},\"id\":\"2322\",\"type\":\"BasicTicker\"},{\"attributes\":{\"fill_alpha\":{\"value\":0.2},\"fill_color\":{\"value\":\"red\"},\"hatch_alpha\":{\"value\":0.2},\"hatch_color\":{\"value\":\"red\"},\"line_alpha\":{\"value\":0.2},\"line_color\":{\"value\":\"red\"},\"size\":{\"value\":5.477225575051661},\"x\":{\"field\":\"PC2\"},\"y\":{\"field\":\"PC3\"}},\"id\":\"2488\",\"type\":\"Scatter\"},{\"attributes\":{\"data\":{\"PC2\":{\"__ndarray__\":\"lJcg4YQs4b/dSdI15krav939bzRjW/C/Gvd2X6gJ27/iqraWWs3Yv0oiydc0+dG/JYLC+Z9g478SL4erJkHOP5ErIICmeum/L1tzjh7kzr9gaoObolHhvwQrZ0Y2BNi/G5Zg8z8R178=\",\"dtype\":\"float64\",\"order\":\"little\",\"shape\":[13]},\"PC3\":{\"__ndarray__\":\"p2J+ThYM3L+CejCefUXwv7HpdjD9CuC/uZ+2UHNg0r9auSd4XXYBwIfZJbhh0PK/nk7tOXOh6b+u4XRbJRHSP8Exkw7AvPu/LRmDeoF99b/PkKTKOMrbv5amXhk9AfG/Gp8VxbmR678=\",\"dtype\":\"float64\",\"order\":\"little\",\"shape\":[13]},\"cluster_pca\":[1,1,1,1,1,1,1,1,1,1,1,1,1],\"coin_id\":[\"bitcoin\",\"ethereum\",\"bitcoin-cash\",\"binancecoin\",\"chainlink\",\"cardano\",\"litecoin\",\"monero\",\"tezos\",\"cosmos\",\"wrapped-bitcoin\",\"zcash\",\"maker\"]},\"selected\":{\"id\":\"2505\"},\"selection_policy\":{\"id\":\"2521\"}},\"id\":\"2504\",\"type\":\"ColumnDataSource\"},{\"attributes\":{},\"id\":\"2571\",\"type\":\"UnionRenderers\"},{\"attributes\":{\"axis\":{\"id\":\"2321\"},\"coordinates\":null,\"grid_line_color\":null,\"group\":null,\"ticker\":null},\"id\":\"2324\",\"type\":\"Grid\"},{\"attributes\":{\"axis_label\":\"Standarize 7d Return (%)\",\"coordinates\":null,\"formatter\":{\"id\":\"2346\"},\"group\":null,\"major_label_policy\":{\"id\":\"2347\"},\"ticker\":{\"id\":\"2326\"}},\"id\":\"2325\",\"type\":\"LinearAxis\"},{\"attributes\":{\"fill_color\":{\"value\":\"green\"},\"hatch_color\":{\"value\":\"green\"},\"line_color\":{\"value\":\"green\"},\"size\":{\"value\":5.477225575051661},\"x\":{\"field\":\"PC2\"},\"y\":{\"field\":\"PC3\"}},\"id\":\"2553\",\"type\":\"Scatter\"},{\"attributes\":{},\"id\":\"2481\",\"type\":\"BasicTickFormatter\"},{\"attributes\":{\"axis\":{\"id\":\"2325\"},\"coordinates\":null,\"dimension\":1,\"grid_line_color\":null,\"group\":null,\"ticker\":null},\"id\":\"2328\",\"type\":\"Grid\"},{\"attributes\":{\"axis_label\":\"Third  Principal Component \\n Returns (%) (PC3)\",\"coordinates\":null,\"formatter\":{\"id\":\"2481\"},\"group\":null,\"major_label_policy\":{\"id\":\"2482\"},\"ticker\":{\"id\":\"2461\"}},\"id\":\"2460\",\"type\":\"LinearAxis\"},{\"attributes\":{\"source\":{\"id\":\"2348\"}},\"id\":\"2355\",\"type\":\"CDSView\"},{\"attributes\":{\"fill_alpha\":{\"value\":0.2},\"fill_color\":{\"value\":\"green\"},\"hatch_alpha\":{\"value\":0.2},\"hatch_color\":{\"value\":\"green\"},\"line_alpha\":{\"value\":0.2},\"line_color\":{\"value\":\"green\"},\"size\":{\"value\":5.477225575051661},\"x\":{\"field\":\"PC2\"},\"y\":{\"field\":\"PC3\"}},\"id\":\"2555\",\"type\":\"Scatter\"},{\"attributes\":{\"fill_alpha\":{\"value\":0.1},\"fill_color\":{\"value\":\"red\"},\"hatch_alpha\":{\"value\":0.1},\"hatch_color\":{\"value\":\"red\"},\"line_alpha\":{\"value\":0.1},\"line_color\":{\"value\":\"red\"},\"size\":{\"value\":5.477225575051661},\"x\":{\"field\":\"price_change_percentage_24h\"},\"y\":{\"field\":\"price_change_percentage_7d\"}},\"id\":\"2352\",\"type\":\"Scatter\"},{\"attributes\":{\"fill_alpha\":{\"value\":0.1},\"fill_color\":{\"value\":\"blue\"},\"hatch_alpha\":{\"value\":0.1},\"hatch_color\":{\"value\":\"blue\"},\"line_alpha\":{\"value\":0.1},\"line_color\":{\"value\":\"blue\"},\"size\":{\"value\":5.477225575051661},\"x\":{\"field\":\"price_change_percentage_24h\"},\"y\":{\"field\":\"price_change_percentage_7d\"}},\"id\":\"2373\",\"type\":\"Scatter\"},{\"attributes\":{},\"id\":\"2461\",\"type\":\"BasicTicker\"},{\"attributes\":{\"click_policy\":\"mute\",\"coordinates\":null,\"group\":null,\"items\":[{\"id\":\"2367\"},{\"id\":\"2389\"},{\"id\":\"2413\"},{\"id\":\"2439\"}],\"location\":[0,0],\"orientation\":\"horizontal\",\"title\":\"cluster_original\"},\"id\":\"2366\",\"type\":\"Legend\"},{\"attributes\":{},\"id\":\"2452\",\"type\":\"LinearScale\"},{\"attributes\":{\"toolbars\":[{\"id\":\"2335\"},{\"id\":\"2470\"}],\"tools\":[{\"id\":\"2308\"},{\"id\":\"2329\"},{\"id\":\"2330\"},{\"id\":\"2331\"},{\"id\":\"2332\"},{\"id\":\"2333\"},{\"id\":\"2443\"},{\"id\":\"2464\"},{\"id\":\"2465\"},{\"id\":\"2466\"},{\"id\":\"2467\"},{\"id\":\"2468\"}]},\"id\":\"2611\",\"type\":\"ProxyToolbar\"},{\"attributes\":{\"coordinates\":null,\"data_source\":{\"id\":\"2348\"},\"glyph\":{\"id\":\"2351\"},\"group\":null,\"hover_glyph\":null,\"muted_glyph\":{\"id\":\"2353\"},\"nonselection_glyph\":{\"id\":\"2352\"},\"selection_glyph\":{\"id\":\"2368\"},\"view\":{\"id\":\"2355\"}},\"id\":\"2354\",\"type\":\"GlyphRenderer\"},{\"attributes\":{},\"id\":\"2329\",\"type\":\"SaveTool\"},{\"attributes\":{\"source\":{\"id\":\"2550\"}},\"id\":\"2557\",\"type\":\"CDSView\"},{\"attributes\":{\"coordinates\":null,\"group\":null,\"text\":\"Principal Components K-Means Clusters and PC2 versus PC3\",\"text_color\":\"black\",\"text_font_size\":\"12pt\"},\"id\":\"2448\",\"type\":\"Title\"},{\"attributes\":{},\"id\":\"2330\",\"type\":\"PanTool\"},{\"attributes\":{\"coordinates\":null,\"data_source\":{\"id\":\"2550\"},\"glyph\":{\"id\":\"2553\"},\"group\":null,\"hover_glyph\":null,\"muted_glyph\":{\"id\":\"2555\"},\"nonselection_glyph\":{\"id\":\"2554\"},\"selection_glyph\":{\"id\":\"2575\"},\"view\":{\"id\":\"2557\"}},\"id\":\"2556\",\"type\":\"GlyphRenderer\"},{\"attributes\":{},\"id\":\"2454\",\"type\":\"LinearScale\"},{\"attributes\":{\"angle\":{\"value\":0.0},\"fill_alpha\":{\"value\":1.0},\"fill_color\":{\"value\":\"green\"},\"hatch_alpha\":{\"value\":1.0},\"hatch_color\":{\"value\":\"green\"},\"hatch_scale\":{\"value\":12.0},\"hatch_weight\":{\"value\":1.0},\"line_alpha\":{\"value\":1.0},\"line_cap\":{\"value\":\"butt\"},\"line_color\":{\"value\":\"green\"},\"line_dash\":{\"value\":[]},\"line_dash_offset\":{\"value\":0},\"line_join\":{\"value\":\"bevel\"},\"line_width\":{\"value\":1},\"marker\":{\"value\":\"circle\"},\"size\":{\"value\":5.477225575051661},\"x\":{\"field\":\"PC2\"},\"y\":{\"field\":\"PC3\"}},\"id\":\"2575\",\"type\":\"Scatter\"},{\"attributes\":{},\"id\":\"2331\",\"type\":\"WheelZoomTool\"},{\"attributes\":{\"tools\":[{\"id\":\"2308\"},{\"id\":\"2329\"},{\"id\":\"2330\"},{\"id\":\"2331\"},{\"id\":\"2332\"},{\"id\":\"2333\"}]},\"id\":\"2335\",\"type\":\"Toolbar\"},{\"attributes\":{\"overlay\":{\"id\":\"2334\"}},\"id\":\"2332\",\"type\":\"BoxZoomTool\"},{\"attributes\":{\"fill_alpha\":{\"value\":0.2},\"fill_color\":{\"value\":\"blue\"},\"hatch_alpha\":{\"value\":0.2},\"hatch_color\":{\"value\":\"blue\"},\"line_alpha\":{\"value\":0.2},\"line_color\":{\"value\":\"blue\"},\"size\":{\"value\":5.477225575051661},\"x\":{\"field\":\"price_change_percentage_24h\"},\"y\":{\"field\":\"price_change_percentage_7d\"}},\"id\":\"2374\",\"type\":\"Scatter\"},{\"attributes\":{\"toolbar\":{\"id\":\"2611\"},\"toolbar_location\":\"above\"},\"id\":\"2612\",\"type\":\"ToolbarBox\"},{\"attributes\":{},\"id\":\"2333\",\"type\":\"ResetTool\"},{\"attributes\":{\"bottom_units\":\"screen\",\"coordinates\":null,\"fill_alpha\":0.5,\"fill_color\":\"lightgrey\",\"group\":null,\"left_units\":\"screen\",\"level\":\"overlay\",\"line_alpha\":1.0,\"line_color\":\"black\",\"line_dash\":[4,4],\"line_width\":2,\"right_units\":\"screen\",\"syncable\":false,\"top_units\":\"screen\"},\"id\":\"2334\",\"type\":\"BoxAnnotation\"},{\"attributes\":{\"fill_alpha\":{\"value\":0.2},\"fill_color\":{\"value\":\"red\"},\"hatch_alpha\":{\"value\":0.2},\"hatch_color\":{\"value\":\"red\"},\"line_alpha\":{\"value\":0.2},\"line_color\":{\"value\":\"red\"},\"size\":{\"value\":5.477225575051661},\"x\":{\"field\":\"price_change_percentage_24h\"},\"y\":{\"field\":\"price_change_percentage_7d\"}},\"id\":\"2353\",\"type\":\"Scatter\"},{\"attributes\":{},\"id\":\"2363\",\"type\":\"UnionRenderers\"},{\"attributes\":{\"children\":[{\"id\":\"2612\"},{\"id\":\"2610\"}]},\"id\":\"2613\",\"type\":\"Column\"},{\"attributes\":{\"coordinates\":null,\"data_source\":{\"id\":\"2369\"},\"glyph\":{\"id\":\"2372\"},\"group\":null,\"hover_glyph\":null,\"muted_glyph\":{\"id\":\"2374\"},\"nonselection_glyph\":{\"id\":\"2373\"},\"selection_glyph\":{\"id\":\"2390\"},\"view\":{\"id\":\"2376\"}},\"id\":\"2375\",\"type\":\"GlyphRenderer\"},{\"attributes\":{\"data\":{\"cluster_original\":[0,0,0,0,0,0,0,0,0,0,0,0,0,0,0,0,0,0,0,0,0,0,0,0,0,0],\"coin_id\":[\"tether\",\"ripple\",\"bitcoin-cash-sv\",\"crypto-com-chain\",\"usd-coin\",\"eos\",\"tron\",\"okb\",\"stellar\",\"cdai\",\"neo\",\"leo-token\",\"huobi-token\",\"nem\",\"binance-usd\",\"iota\",\"vechain\",\"theta-token\",\"dash\",\"ethereum-classic\",\"havven\",\"omisego\",\"ontology\",\"ftx-token\",\"true-usd\",\"digibyte\"],\"price_change_percentage_24h\":{\"__ndarray__\":\"lSJF1OlLlj/mJRG3Ed+kv1qZGRifu9w//bJXHrAz1T/yMTqenpahPx9kk3dK7sM/GjRehHalwD90fnl54Irtv9XPDahDw9G/+lOWQSEmxz+jpbukw1bSP6eM4M4OgKo/CMMOj9+jqr/Chq6S5ebLv2h3TIfCZ68/weEQ8QyV0D/KmZTmC7niP1gH9WGFy/m/N7JuVBEB07/EU4GAhEGyv8Ocf0hw2/a/l7PBJY23/j/IKcQzxy3av5WrmDyeito/Bf22eE/6sz9Y362Ir3rzPw==\",\"dtype\":\"float64\",\"order\":\"little\",\"shape\":[26]},\"price_change_percentage_7d\":{\"__ndarray__\":\"bpSIvk+a5r9SujxqH/PpvxKU7adXaMi/d+r7VGbW+b9GGSx/8nTnv4zfBo4Lhe2/GEBwXEEApb8Udj8VbP/2vyaelkVDp9i/7iZvVsyO5r8xu+JVH+LUvzmN+gRMte2/pmqlez1D3b/DtPLKIS7rvycjaswHnea/TC6joeTvzz/fRmuCvtDvv/9TV66U6fq/W2X+mWVCuD8LJ0pHuV/Nv/LIE2ZWH5q/Sjxj/me11z+Itdvf1gXtv10vihmzf9o/fX1xtwIC5r/TTlu6Y3Ljvw==\",\"dtype\":\"float64\",\"order\":\"little\",\"shape\":[26]}},\"selected\":{\"id\":\"2349\"},\"selection_policy\":{\"id\":\"2363\"}},\"id\":\"2348\",\"type\":\"ColumnDataSource\"},{\"attributes\":{\"margin\":[5,5,5,5],\"name\":\"HSpacer02529\",\"sizing_mode\":\"stretch_width\"},\"id\":\"2646\",\"type\":\"Spacer\"},{\"attributes\":{\"angle\":{\"value\":0.0},\"fill_alpha\":{\"value\":1.0},\"fill_color\":{\"value\":\"red\"},\"hatch_alpha\":{\"value\":1.0},\"hatch_color\":{\"value\":\"red\"},\"hatch_scale\":{\"value\":12.0},\"hatch_weight\":{\"value\":1.0},\"line_alpha\":{\"value\":1.0},\"line_cap\":{\"value\":\"butt\"},\"line_color\":{\"value\":\"red\"},\"line_dash\":{\"value\":[]},\"line_dash_offset\":{\"value\":0},\"line_join\":{\"value\":\"bevel\"},\"line_width\":{\"value\":1},\"marker\":{\"value\":\"circle\"},\"size\":{\"value\":5.477225575051661},\"x\":{\"field\":\"price_change_percentage_24h\"},\"y\":{\"field\":\"price_change_percentage_7d\"}},\"id\":\"2368\",\"type\":\"Scatter\"},{\"attributes\":{\"axis\":{\"id\":\"2460\"},\"coordinates\":null,\"dimension\":1,\"grid_line_color\":null,\"group\":null,\"ticker\":null},\"id\":\"2463\",\"type\":\"Grid\"},{\"attributes\":{},\"id\":\"2370\",\"type\":\"Selection\"},{\"attributes\":{},\"id\":\"2392\",\"type\":\"Selection\"},{\"attributes\":{\"fill_color\":{\"value\":\"red\"},\"hatch_color\":{\"value\":\"red\"},\"line_color\":{\"value\":\"red\"},\"size\":{\"value\":5.477225575051661},\"x\":{\"field\":\"price_change_percentage_24h\"},\"y\":{\"field\":\"price_change_percentage_7d\"}},\"id\":\"2351\",\"type\":\"Scatter\"},{\"attributes\":{\"children\":[[{\"id\":\"2312\"},0,0],[{\"id\":\"2447\"},0,1]]},\"id\":\"2610\",\"type\":\"GridBox\"},{\"attributes\":{\"label\":{\"value\":\"0\"},\"renderers\":[{\"id\":\"2354\"}]},\"id\":\"2367\",\"type\":\"LegendItem\"},{\"attributes\":{\"data\":{\"cluster_original\":[1],\"coin_id\":[\"ethlend\"],\"price_change_percentage_24h\":{\"__ndarray__\":\"3WeHPpbsE8A=\",\"dtype\":\"float64\",\"order\":\"little\",\"shape\":[1]},\"price_change_percentage_7d\":{\"__ndarray__\":\"iIWi2pshp78=\",\"dtype\":\"float64\",\"order\":\"little\",\"shape\":[1]}},\"selected\":{\"id\":\"2370\"},\"selection_policy\":{\"id\":\"2386\"}},\"id\":\"2369\",\"type\":\"ColumnDataSource\"},{\"attributes\":{},\"id\":\"2386\",\"type\":\"UnionRenderers\"},{\"attributes\":{\"label\":{\"value\":\"1\"},\"renderers\":[{\"id\":\"2375\"}]},\"id\":\"2389\",\"type\":\"LegendItem\"},{\"attributes\":{\"source\":{\"id\":\"2369\"}},\"id\":\"2376\",\"type\":\"CDSView\"},{\"attributes\":{\"data\":{\"cluster_original\":[2],\"coin_id\":[\"celsius-degree-token\"],\"price_change_percentage_24h\":{\"__ndarray__\":\"VLqXBn668D8=\",\"dtype\":\"float64\",\"order\":\"little\",\"shape\":[1]},\"price_change_percentage_7d\":{\"__ndarray__\":\"N/03JFjJ478=\",\"dtype\":\"float64\",\"order\":\"little\",\"shape\":[1]}},\"selected\":{\"id\":\"2392\"},\"selection_policy\":{\"id\":\"2410\"}},\"id\":\"2391\",\"type\":\"ColumnDataSource\"},{\"attributes\":{\"fill_color\":{\"value\":\"blue\"},\"hatch_color\":{\"value\":\"blue\"},\"line_color\":{\"value\":\"blue\"},\"size\":{\"value\":5.477225575051661},\"x\":{\"field\":\"price_change_percentage_24h\"},\"y\":{\"field\":\"price_change_percentage_7d\"}},\"id\":\"2372\",\"type\":\"Scatter\"},{\"attributes\":{\"angle\":{\"value\":0.0},\"fill_alpha\":{\"value\":1.0},\"fill_color\":{\"value\":\"blue\"},\"hatch_alpha\":{\"value\":1.0},\"hatch_color\":{\"value\":\"blue\"},\"hatch_scale\":{\"value\":12.0},\"hatch_weight\":{\"value\":1.0},\"line_alpha\":{\"value\":1.0},\"line_cap\":{\"value\":\"butt\"},\"line_color\":{\"value\":\"blue\"},\"line_dash\":{\"value\":[]},\"line_dash_offset\":{\"value\":0},\"line_join\":{\"value\":\"bevel\"},\"line_width\":{\"value\":1},\"marker\":{\"value\":\"circle\"},\"size\":{\"value\":5.477225575051661},\"x\":{\"field\":\"price_change_percentage_24h\"},\"y\":{\"field\":\"price_change_percentage_7d\"}},\"id\":\"2390\",\"type\":\"Scatter\"}],\"root_ids\":[\"2304\"]},\"title\":\"Bokeh Application\",\"version\":\"2.4.3\"}};\n",
       "    var render_items = [{\"docid\":\"ccbc260d-8d6a-4096-8cad-f6ff4a797470\",\"root_ids\":[\"2304\"],\"roots\":{\"2304\":\"56699719-868d-4783-8add-88a3ade0e397\"}}];\n",
       "    root.Bokeh.embed.embed_items_notebook(docs_json, render_items);\n",
       "    for (const render_item of render_items) {\n",
       "      for (const root_id of render_item.root_ids) {\n",
       "\tconst id_el = document.getElementById(root_id)\n",
       "\tif (id_el.children.length && (id_el.children[0].className === 'bk-root')) {\n",
       "\t  const root_el = id_el.children[0]\n",
       "\t  root_el.id = root_el.id + '-rendered'\n",
       "\t}\n",
       "      }\n",
       "    }\n",
       "  }\n",
       "  if (root.Bokeh !== undefined && root.Bokeh.Panel !== undefined) {\n",
       "    embed_document(root);\n",
       "  } else {\n",
       "    var attempts = 0;\n",
       "    var timer = setInterval(function(root) {\n",
       "      if (root.Bokeh !== undefined && root.Bokeh.Panel !== undefined) {\n",
       "        clearInterval(timer);\n",
       "        embed_document(root);\n",
       "      } else if (document.readyState == \"complete\") {\n",
       "        attempts++;\n",
       "        if (attempts > 200) {\n",
       "          clearInterval(timer);\n",
       "          console.log(\"Bokeh: ERROR: Unable to run BokehJS code because BokehJS library is missing\");\n",
       "        }\n",
       "      }\n",
       "    }, 25, root)\n",
       "  }\n",
       "})(window);</script>"
      ],
      "text/plain": [
       ":Layout\n",
       "   .NdOverlay.I  :NdOverlay   [cluster_original]\n",
       "      :Scatter   [price_change_percentage_24h]   (price_change_percentage_7d,coin_id)\n",
       "   .NdOverlay.II :NdOverlay   [cluster_pca]\n",
       "      :Scatter   [PC2]   (PC3,coin_id)"
      ]
     },
     "execution_count": 57,
     "metadata": {
      "application/vnd.holoviews_exec.v0+json": {
       "id": "2304"
      }
     },
     "output_type": "execute_result"
    }
   ],
   "source": [
    "\n",
    "# temp scaled data plot\n",
    "temp_scaled_data_plot = df_clusters_predicted.hvplot.scatter(\n",
    "    x  = \"price_change_percentage_24h\",\n",
    "    y  = \"price_change_percentage_7d\",\n",
    "    by = 'cluster_original',\n",
    "    hover_cols = 'coin_id',\n",
    "    title = 'Standarized Returns & K-Means Clusters - Very Short Term Performance',\n",
    "    color = colors_original,\n",
    "    xlabel = 'Standarize 24h Return (%)',\n",
    "    ylabel = 'Standarize 7d Return (%)',\n",
    "    width  = 600,\n",
    "    height = 500\n",
    ").opts(legend_position='top')\n",
    "\n",
    "# temp PCA plot\n",
    "temp_pca_plot=df_clusters_pca.hvplot.scatter(\n",
    "    x  = 'PC2',\n",
    "    y  = 'PC3',\n",
    "    by = 'cluster_pca',\n",
    "    hover_cols='coin_id',\n",
    "    title  = 'Principal Components K-Means Clusters and PC2 versus PC3',\n",
    "    xlabel = 'Second Principal Component \\n Returns (%) (PC2)',\n",
    "    ylabel = 'Third  Principal Component \\n Returns (%) (PC3)',\n",
    "    color  = colors_pca,\n",
    "    width  = 600,\n",
    "    height = 500\n",
    ").opts(legend_position='top')\n",
    "\n",
    "# Composite plot to contrast the clusters\n",
    "temp_scaled_data_plot + temp_pca_plot"
   ]
  },
  {
   "attachments": {},
   "cell_type": "markdown",
   "metadata": {},
   "source": [
    "#### Answer the following question: \n",
    "\n",
    "  * **Question:** After visually analyzing the cluster analysis results, what is the impact of using fewer features to cluster the data using K-Means?\n",
    "\n",
    "**Answer:** \n",
    "\n",
    "* Using a fewer amount of features reduces the amount of inertia. This happens because the reduction of dimensionality implies a reduction in the variance of the clustered data.  \n",
    "\n",
    "* The original clusters and the pca clusters exactly match. That supports the use of dimentionality reduction. We dramatically reduced dimentions from seven to three, and still we got the same results. An impact of using fewer features is the benefit in reducing the resources needed to manage large amounts of data, without compromising optimal results."
   ]
  }
 ],
 "metadata": {
  "kernelspec": {
   "display_name": "PythonData",
   "language": "python",
   "name": "python3"
  },
  "language_info": {
   "codemirror_mode": {
    "name": "ipython",
    "version": 3
   },
   "file_extension": ".py",
   "mimetype": "text/x-python",
   "name": "python",
   "nbconvert_exporter": "python",
   "pygments_lexer": "ipython3",
   "version": "3.7.7"
  },
  "nteract": {
   "version": "0.28.0"
  }
 },
 "nbformat": 4,
 "nbformat_minor": 4
}
